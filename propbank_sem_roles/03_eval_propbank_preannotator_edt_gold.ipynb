{
 "cells": [
  {
   "cell_type": "markdown",
   "id": "63527e48-f4ad-4693-a272-79e871bff966",
   "metadata": {},
   "source": [
    "## Evaluate PropBankPreannotator on UD_Estonian-EDT gold standard semantic role annotations"
   ]
  },
  {
   "cell_type": "code",
   "execution_count": 1,
   "id": "65026aa2-8eeb-4caf-adcd-ddaf392d192c",
   "metadata": {},
   "outputs": [],
   "source": [
    "import os, os.path\n",
    "\n",
    "from tqdm import tqdm\n",
    "from IPython.display import HTML, display\n",
    "\n",
    "from conv_utils import load_estnltk_texts_from_jsonlines\n",
    "from frame_eval_utils import get_gold_frame_verbs\n",
    "from frame_eval_utils import eval_propbank_preannotator_on_sentence_conll\n",
    "from frame_eval_utils import summarize_eval_accuracies\n",
    "from frame_eval_utils import sorted_frame_missing_verb_lemmas"
   ]
  },
  {
   "cell_type": "markdown",
   "id": "67a8434e-20dc-4783-b8bf-68a4d2039d0e",
   "metadata": {},
   "source": [
    "Assume that UD_Estonian-EDT corpus has been converted into json format previously:"
   ]
  },
  {
   "cell_type": "code",
   "execution_count": 2,
   "id": "a82b03f1-44e5-434f-8c1a-87f9368ebd57",
   "metadata": {},
   "outputs": [
    {
     "data": {
      "text/plain": [
       "['et_edt-ud-dev.jl', 'et_edt-ud-test.jl', 'et_edt-ud-train.jl']"
      ]
     },
     "execution_count": 2,
     "metadata": {},
     "output_type": "execute_result"
    }
   ],
   "source": [
    "in_dir = 'UD_Estonian-EDT-dev-json'\n",
    "assert os.path.exists(in_dir), f'(!) Missing input dir {in_dir}'\n",
    "input_files = [f for f in os.listdir(in_dir) if f.endswith('.jl')]\n",
    "input_files"
   ]
  },
  {
   "cell_type": "code",
   "execution_count": 3,
   "id": "fe7a7447-ea54-41b3-847f-c50baf764b83",
   "metadata": {},
   "outputs": [],
   "source": [
    "from estnltk.taggers.miscellaneous.propbank.preannotator import PropBankPreannotator\n",
    "propbank_annotator = \\\n",
    "   PropBankPreannotator( input_syntax_layer='conll_syntax', \n",
    "                         discard_overlapped_frames=True, \n",
    "                         add_arg_descriptions=True, \n",
    "                         add_arg_feats=True, \n",
    "                         add_verb_class=True, debug_output=False)"
   ]
  },
  {
   "cell_type": "code",
   "execution_count": 4,
   "id": "7f95237e-0f79-4b6a-ad34-4bd2e7eef498",
   "metadata": {},
   "outputs": [
    {
     "data": {
      "text/html": [
       "<h2>Evaluating on et_edt-ud-dev.jl</h2>"
      ],
      "text/plain": [
       "<IPython.core.display.HTML object>"
      ]
     },
     "metadata": {},
     "output_type": "display_data"
    },
    {
     "name": "stdout",
     "output_type": "stream",
     "text": [
      "Loading Text objects from 'UD_Estonian-EDT-dev-json\\\\et_edt-ud-dev.jl' ...\n"
     ]
    },
    {
     "name": "stderr",
     "output_type": "stream",
     "text": [
      "3122it [00:06, 466.71it/s]\n",
      "100%|############################################################################################################################################################| 3122/3122 [00:00<00:00, 1566154.42it/s]\n"
     ]
    },
    {
     "name": "stdout",
     "output_type": "stream",
     "text": [
      "Total verbs in gold frames:  416\n",
      "Evaluating PropBankPreannotator ... \n"
     ]
    },
    {
     "name": "stderr",
     "output_type": "stream",
     "text": [
      "100%|###############################################################################################################################################################| 3122/3122 [00:02<00:00, 1339.61it/s]\n"
     ]
    },
    {
     "data": {
      "text/html": [
       "<h3>Frame detection performance</h3>"
      ],
      "text/plain": [
       "<IPython.core.display.HTML object>"
      ]
     },
     "metadata": {},
     "output_type": "display_data"
    },
    {
     "data": {
      "text/html": [
       "<div>\n",
       "<style scoped>\n",
       "    .dataframe tbody tr th:only-of-type {\n",
       "        vertical-align: middle;\n",
       "    }\n",
       "\n",
       "    .dataframe tbody tr th {\n",
       "        vertical-align: top;\n",
       "    }\n",
       "\n",
       "    .dataframe thead th {\n",
       "        text-align: right;\n",
       "    }\n",
       "</style>\n",
       "<table border=\"1\" class=\"dataframe\">\n",
       "  <thead>\n",
       "    <tr style=\"text-align: right;\">\n",
       "      <th></th>\n",
       "      <th>full frame match accuracy</th>\n",
       "      <th>sense match accuracy</th>\n",
       "      <th>evoking verb match accuracy</th>\n",
       "      <th>redundant senses %</th>\n",
       "      <th>redundant frames %</th>\n",
       "      <th>missing frames %</th>\n",
       "      <th>fully matching</th>\n",
       "      <th>sense matching</th>\n",
       "      <th>evoking verb matching</th>\n",
       "      <th>redundant senses</th>\n",
       "      <th>redundant frames</th>\n",
       "      <th>missing frames</th>\n",
       "      <th>total gold frames</th>\n",
       "      <th>total auto frames</th>\n",
       "      <th>discarded gold frames</th>\n",
       "      <th>discarded gold args</th>\n",
       "    </tr>\n",
       "  </thead>\n",
       "  <tbody>\n",
       "    <tr>\n",
       "      <th>0</th>\n",
       "      <td>58.20</td>\n",
       "      <td>78.00</td>\n",
       "      <td>89.86</td>\n",
       "      <td>20.43%</td>\n",
       "      <td>7.05%</td>\n",
       "      <td>10.14%</td>\n",
       "      <td>1905</td>\n",
       "      <td>2553</td>\n",
       "      <td>2941</td>\n",
       "      <td>719</td>\n",
       "      <td>248</td>\n",
       "      <td>332</td>\n",
       "      <td>3273</td>\n",
       "      <td>3520</td>\n",
       "      <td>0</td>\n",
       "      <td>15</td>\n",
       "    </tr>\n",
       "  </tbody>\n",
       "</table>\n",
       "</div>"
      ],
      "text/plain": [
       "  full frame match accuracy sense match accuracy evoking verb match accuracy  \\\n",
       "0                     58.20                78.00                       89.86   \n",
       "\n",
       "  redundant senses % redundant frames % missing frames %  fully matching  \\\n",
       "0             20.43%              7.05%           10.14%            1905   \n",
       "\n",
       "   sense matching  evoking verb matching  redundant senses  redundant frames  \\\n",
       "0            2553                   2941               719               248   \n",
       "\n",
       "   missing frames  total gold frames  total auto frames  \\\n",
       "0             332               3273               3520   \n",
       "\n",
       "   discarded gold frames  discarded gold args  \n",
       "0                      0                   15  "
      ]
     },
     "metadata": {},
     "output_type": "display_data"
    },
    {
     "data": {
      "text/html": [
       "<h3>Argument detection performance</h3>"
      ],
      "text/plain": [
       "<IPython.core.display.HTML object>"
      ]
     },
     "metadata": {},
     "output_type": "display_data"
    },
    {
     "data": {
      "text/html": [
       "<div>\n",
       "<style scoped>\n",
       "    .dataframe tbody tr th:only-of-type {\n",
       "        vertical-align: middle;\n",
       "    }\n",
       "\n",
       "    .dataframe tbody tr th {\n",
       "        vertical-align: top;\n",
       "    }\n",
       "\n",
       "    .dataframe thead th {\n",
       "        text-align: right;\n",
       "    }\n",
       "</style>\n",
       "<table border=\"1\" class=\"dataframe\">\n",
       "  <thead>\n",
       "    <tr style=\"text-align: right;\">\n",
       "      <th></th>\n",
       "      <th>rows</th>\n",
       "      <th>ARG_OVERALL</th>\n",
       "      <th>ARG0</th>\n",
       "      <th>ARG1</th>\n",
       "      <th>ARG2</th>\n",
       "      <th>ARG3</th>\n",
       "      <th>ARG4</th>\n",
       "      <th>ARG5</th>\n",
       "    </tr>\n",
       "  </thead>\n",
       "  <tbody>\n",
       "    <tr>\n",
       "      <th>0</th>\n",
       "      <td>accuracy</td>\n",
       "      <td>85.83</td>\n",
       "      <td>97.59</td>\n",
       "      <td>93.27</td>\n",
       "      <td>66.18</td>\n",
       "      <td>28.64</td>\n",
       "      <td>53.66</td>\n",
       "      <td>15.46</td>\n",
       "    </tr>\n",
       "    <tr>\n",
       "      <th>1</th>\n",
       "      <td>matching</td>\n",
       "      <td>3555</td>\n",
       "      <td>1134</td>\n",
       "      <td>2008</td>\n",
       "      <td>315</td>\n",
       "      <td>61</td>\n",
       "      <td>22</td>\n",
       "      <td>15</td>\n",
       "    </tr>\n",
       "    <tr>\n",
       "      <th>2</th>\n",
       "      <td>missing</td>\n",
       "      <td>587</td>\n",
       "      <td>28</td>\n",
       "      <td>145</td>\n",
       "      <td>161</td>\n",
       "      <td>152</td>\n",
       "      <td>19</td>\n",
       "      <td>82</td>\n",
       "    </tr>\n",
       "    <tr>\n",
       "      <th>3</th>\n",
       "      <td>redundant</td>\n",
       "      <td>272</td>\n",
       "      <td>2</td>\n",
       "      <td>59</td>\n",
       "      <td>109</td>\n",
       "      <td>63</td>\n",
       "      <td>39</td>\n",
       "      <td>0</td>\n",
       "    </tr>\n",
       "    <tr>\n",
       "      <th>4</th>\n",
       "      <td>total gold</td>\n",
       "      <td>4142</td>\n",
       "      <td>1162</td>\n",
       "      <td>2153</td>\n",
       "      <td>476</td>\n",
       "      <td>213</td>\n",
       "      <td>41</td>\n",
       "      <td>97</td>\n",
       "    </tr>\n",
       "  </tbody>\n",
       "</table>\n",
       "</div>"
      ],
      "text/plain": [
       "         rows ARG_OVERALL   ARG0   ARG1   ARG2   ARG3   ARG4   ARG5\n",
       "0    accuracy       85.83  97.59  93.27  66.18  28.64  53.66  15.46\n",
       "1    matching        3555   1134   2008    315     61     22     15\n",
       "2     missing         587     28    145    161    152     19     82\n",
       "3   redundant         272      2     59    109     63     39      0\n",
       "4  total gold        4142   1162   2153    476    213     41     97"
      ]
     },
     "metadata": {},
     "output_type": "display_data"
    }
   ],
   "source": [
    "input_file = 'et_edt-ud-dev.jl'\n",
    "display(HTML(f'<h2>Evaluating on {input_file}</h2>'))\n",
    "# Load evaluation sentences from dev part of the corpus\n",
    "eval_sentences = [sent_text for sent_text in tqdm(load_estnltk_texts_from_jsonlines(os.path.join(in_dir, input_file)),ascii=True )]\n",
    "# Extract verbs in gold frames\n",
    "gold_frame_verbs = get_gold_frame_verbs( eval_sentences, discard_frames_wo_args=True )\n",
    "print('Total verbs in gold frames: ', len(gold_frame_verbs))\n",
    "# Evaluate\n",
    "print('Evaluating PropBankPreannotator ... ')\n",
    "eval_results = dict()\n",
    "for sent_text in tqdm( eval_sentences, ascii=True ):\n",
    "    propbank_annotator.tag(sent_text)\n",
    "    assert propbank_annotator.output_layer in sent_text.relation_layers\n",
    "    eval_propbank_preannotator_on_sentence_conll( sent_text['conll_syntax'], \n",
    "                                                  sent_text[propbank_annotator.output_layer], \n",
    "                                                  eval_results, verbose=False )\n",
    "# Summarize results\n",
    "frame_results, arg_results = summarize_eval_accuracies(eval_results, return_dataframes=True)\n",
    "display(HTML('<h3>Frame detection performance</h3>'))\n",
    "display(frame_results)\n",
    "display(HTML('<h3>Argument detection performance</h3>'))\n",
    "display(arg_results)\n",
    "#display(sorted_frame_missing_verb_lemmas(eval_results))\n",
    "#display(eval_results['frame_missing_sentences'])"
   ]
  },
  {
   "cell_type": "code",
   "execution_count": 5,
   "id": "389506f5-872f-435a-9406-4268c6cdde0a",
   "metadata": {},
   "outputs": [
    {
     "data": {
      "text/html": [
       "<h2>Evaluating on et_edt-ud-test.jl</h2>"
      ],
      "text/plain": [
       "<IPython.core.display.HTML object>"
      ]
     },
     "metadata": {},
     "output_type": "display_data"
    },
    {
     "name": "stdout",
     "output_type": "stream",
     "text": [
      "Loading Text objects from 'UD_Estonian-EDT-dev-json\\\\et_edt-ud-test.jl' ...\n"
     ]
    },
    {
     "name": "stderr",
     "output_type": "stream",
     "text": [
      "3207it [00:07, 437.64it/s]\n",
      "100%|############################################################################################################################################################| 3207/3207 [00:00<00:00, 1003815.89it/s]\n"
     ]
    },
    {
     "name": "stdout",
     "output_type": "stream",
     "text": [
      "Total verbs in gold frames:  401\n",
      "Evaluating PropBankPreannotator ... \n"
     ]
    },
    {
     "name": "stderr",
     "output_type": "stream",
     "text": [
      "100%|###############################################################################################################################################################| 3207/3207 [00:02<00:00, 1393.01it/s]\n"
     ]
    },
    {
     "data": {
      "text/html": [
       "<h3>Frame detection performance</h3>"
      ],
      "text/plain": [
       "<IPython.core.display.HTML object>"
      ]
     },
     "metadata": {},
     "output_type": "display_data"
    },
    {
     "data": {
      "text/html": [
       "<div>\n",
       "<style scoped>\n",
       "    .dataframe tbody tr th:only-of-type {\n",
       "        vertical-align: middle;\n",
       "    }\n",
       "\n",
       "    .dataframe tbody tr th {\n",
       "        vertical-align: top;\n",
       "    }\n",
       "\n",
       "    .dataframe thead th {\n",
       "        text-align: right;\n",
       "    }\n",
       "</style>\n",
       "<table border=\"1\" class=\"dataframe\">\n",
       "  <thead>\n",
       "    <tr style=\"text-align: right;\">\n",
       "      <th></th>\n",
       "      <th>full frame match accuracy</th>\n",
       "      <th>sense match accuracy</th>\n",
       "      <th>evoking verb match accuracy</th>\n",
       "      <th>redundant senses %</th>\n",
       "      <th>redundant frames %</th>\n",
       "      <th>missing frames %</th>\n",
       "      <th>fully matching</th>\n",
       "      <th>sense matching</th>\n",
       "      <th>evoking verb matching</th>\n",
       "      <th>redundant senses</th>\n",
       "      <th>redundant frames</th>\n",
       "      <th>missing frames</th>\n",
       "      <th>total gold frames</th>\n",
       "      <th>total auto frames</th>\n",
       "      <th>discarded gold frames</th>\n",
       "      <th>discarded gold args</th>\n",
       "    </tr>\n",
       "  </thead>\n",
       "  <tbody>\n",
       "    <tr>\n",
       "      <th>0</th>\n",
       "      <td>58.02</td>\n",
       "      <td>77.55</td>\n",
       "      <td>89.47</td>\n",
       "      <td>19.55%</td>\n",
       "      <td>6.70%</td>\n",
       "      <td>10.53%</td>\n",
       "      <td>2083</td>\n",
       "      <td>2784</td>\n",
       "      <td>3212</td>\n",
       "      <td>738</td>\n",
       "      <td>253</td>\n",
       "      <td>378</td>\n",
       "      <td>3590</td>\n",
       "      <td>3775</td>\n",
       "      <td>0</td>\n",
       "      <td>20</td>\n",
       "    </tr>\n",
       "  </tbody>\n",
       "</table>\n",
       "</div>"
      ],
      "text/plain": [
       "  full frame match accuracy sense match accuracy evoking verb match accuracy  \\\n",
       "0                     58.02                77.55                       89.47   \n",
       "\n",
       "  redundant senses % redundant frames % missing frames %  fully matching  \\\n",
       "0             19.55%              6.70%           10.53%            2083   \n",
       "\n",
       "   sense matching  evoking verb matching  redundant senses  redundant frames  \\\n",
       "0            2784                   3212               738               253   \n",
       "\n",
       "   missing frames  total gold frames  total auto frames  \\\n",
       "0             378               3590               3775   \n",
       "\n",
       "   discarded gold frames  discarded gold args  \n",
       "0                      0                   20  "
      ]
     },
     "metadata": {},
     "output_type": "display_data"
    },
    {
     "data": {
      "text/html": [
       "<h3>Argument detection performance</h3>"
      ],
      "text/plain": [
       "<IPython.core.display.HTML object>"
      ]
     },
     "metadata": {},
     "output_type": "display_data"
    },
    {
     "data": {
      "text/html": [
       "<div>\n",
       "<style scoped>\n",
       "    .dataframe tbody tr th:only-of-type {\n",
       "        vertical-align: middle;\n",
       "    }\n",
       "\n",
       "    .dataframe tbody tr th {\n",
       "        vertical-align: top;\n",
       "    }\n",
       "\n",
       "    .dataframe thead th {\n",
       "        text-align: right;\n",
       "    }\n",
       "</style>\n",
       "<table border=\"1\" class=\"dataframe\">\n",
       "  <thead>\n",
       "    <tr style=\"text-align: right;\">\n",
       "      <th></th>\n",
       "      <th>rows</th>\n",
       "      <th>ARG_OVERALL</th>\n",
       "      <th>ARG0</th>\n",
       "      <th>ARG1</th>\n",
       "      <th>ARG2</th>\n",
       "      <th>ARG3</th>\n",
       "      <th>ARG4</th>\n",
       "      <th>ARG5</th>\n",
       "    </tr>\n",
       "  </thead>\n",
       "  <tbody>\n",
       "    <tr>\n",
       "      <th>0</th>\n",
       "      <td>accuracy</td>\n",
       "      <td>86.68</td>\n",
       "      <td>97.19</td>\n",
       "      <td>94.82</td>\n",
       "      <td>67.19</td>\n",
       "      <td>35.84</td>\n",
       "      <td>26.67</td>\n",
       "      <td>15.83</td>\n",
       "    </tr>\n",
       "    <tr>\n",
       "      <th>1</th>\n",
       "      <td>matching</td>\n",
       "      <td>4003</td>\n",
       "      <td>1244</td>\n",
       "      <td>2268</td>\n",
       "      <td>383</td>\n",
       "      <td>81</td>\n",
       "      <td>8</td>\n",
       "      <td>19</td>\n",
       "    </tr>\n",
       "    <tr>\n",
       "      <th>2</th>\n",
       "      <td>missing</td>\n",
       "      <td>615</td>\n",
       "      <td>36</td>\n",
       "      <td>124</td>\n",
       "      <td>187</td>\n",
       "      <td>145</td>\n",
       "      <td>22</td>\n",
       "      <td>101</td>\n",
       "    </tr>\n",
       "    <tr>\n",
       "      <th>3</th>\n",
       "      <td>redundant</td>\n",
       "      <td>249</td>\n",
       "      <td>3</td>\n",
       "      <td>48</td>\n",
       "      <td>143</td>\n",
       "      <td>45</td>\n",
       "      <td>10</td>\n",
       "      <td>0</td>\n",
       "    </tr>\n",
       "    <tr>\n",
       "      <th>4</th>\n",
       "      <td>total gold</td>\n",
       "      <td>4618</td>\n",
       "      <td>1280</td>\n",
       "      <td>2392</td>\n",
       "      <td>570</td>\n",
       "      <td>226</td>\n",
       "      <td>30</td>\n",
       "      <td>120</td>\n",
       "    </tr>\n",
       "  </tbody>\n",
       "</table>\n",
       "</div>"
      ],
      "text/plain": [
       "         rows ARG_OVERALL   ARG0   ARG1   ARG2   ARG3   ARG4   ARG5\n",
       "0    accuracy       86.68  97.19  94.82  67.19  35.84  26.67  15.83\n",
       "1    matching        4003   1244   2268    383     81      8     19\n",
       "2     missing         615     36    124    187    145     22    101\n",
       "3   redundant         249      3     48    143     45     10      0\n",
       "4  total gold        4618   1280   2392    570    226     30    120"
      ]
     },
     "metadata": {},
     "output_type": "display_data"
    }
   ],
   "source": [
    "input_file = 'et_edt-ud-test.jl'\n",
    "display(HTML(f'<h2>Evaluating on {input_file}</h2>'))\n",
    "# Load evaluation sentences from dev part of the corpus\n",
    "eval_sentences = [sent_text for sent_text in tqdm(load_estnltk_texts_from_jsonlines(os.path.join(in_dir, input_file)),ascii=True )]\n",
    "# Extract verbs in gold frames\n",
    "gold_frame_verbs = get_gold_frame_verbs( eval_sentences, discard_frames_wo_args=True )\n",
    "print('Total verbs in gold frames: ', len(gold_frame_verbs))\n",
    "# Evaluate\n",
    "print('Evaluating PropBankPreannotator ... ')\n",
    "eval_results = dict()\n",
    "for sent_text in tqdm( eval_sentences, ascii=True ):\n",
    "    propbank_annotator.tag(sent_text)\n",
    "    assert propbank_annotator.output_layer in sent_text.relation_layers\n",
    "    eval_propbank_preannotator_on_sentence_conll( sent_text['conll_syntax'], \n",
    "                                                  sent_text[propbank_annotator.output_layer], \n",
    "                                                  eval_results, verbose=False )\n",
    "# Summarize results\n",
    "frame_results, arg_results = summarize_eval_accuracies(eval_results, return_dataframes=True)\n",
    "display(HTML('<h3>Frame detection performance</h3>'))\n",
    "display(frame_results)\n",
    "display(HTML('<h3>Argument detection performance</h3>'))\n",
    "display(arg_results)"
   ]
  },
  {
   "cell_type": "code",
   "execution_count": 6,
   "id": "d4356cc4-bdad-46ea-bcc6-b3e0e716b8f8",
   "metadata": {},
   "outputs": [
    {
     "data": {
      "text/html": [
       "<h2>Evaluating on et_edt-ud-train.jl</h2>"
      ],
      "text/plain": [
       "<IPython.core.display.HTML object>"
      ]
     },
     "metadata": {},
     "output_type": "display_data"
    },
    {
     "name": "stdout",
     "output_type": "stream",
     "text": [
      "Loading Text objects from 'UD_Estonian-EDT-dev-json\\\\et_edt-ud-train.jl' ...\n"
     ]
    },
    {
     "name": "stderr",
     "output_type": "stream",
     "text": [
      "24601it [00:51, 481.52it/s] \n",
      "100%|##########################################################################################################################################################| 24601/24601 [00:00<00:00, 1010479.20it/s]\n"
     ]
    },
    {
     "name": "stdout",
     "output_type": "stream",
     "text": [
      "Total verbs in gold frames:  480\n",
      "Evaluating PropBankPreannotator ... \n"
     ]
    },
    {
     "name": "stderr",
     "output_type": "stream",
     "text": [
      "100%|#############################################################################################################################################################| 24601/24601 [00:20<00:00, 1173.75it/s]\n"
     ]
    },
    {
     "data": {
      "text/html": [
       "<h3>Frame detection performance</h3>"
      ],
      "text/plain": [
       "<IPython.core.display.HTML object>"
      ]
     },
     "metadata": {},
     "output_type": "display_data"
    },
    {
     "data": {
      "text/html": [
       "<div>\n",
       "<style scoped>\n",
       "    .dataframe tbody tr th:only-of-type {\n",
       "        vertical-align: middle;\n",
       "    }\n",
       "\n",
       "    .dataframe tbody tr th {\n",
       "        vertical-align: top;\n",
       "    }\n",
       "\n",
       "    .dataframe thead th {\n",
       "        text-align: right;\n",
       "    }\n",
       "</style>\n",
       "<table border=\"1\" class=\"dataframe\">\n",
       "  <thead>\n",
       "    <tr style=\"text-align: right;\">\n",
       "      <th></th>\n",
       "      <th>full frame match accuracy</th>\n",
       "      <th>sense match accuracy</th>\n",
       "      <th>evoking verb match accuracy</th>\n",
       "      <th>redundant senses %</th>\n",
       "      <th>redundant frames %</th>\n",
       "      <th>missing frames %</th>\n",
       "      <th>fully matching</th>\n",
       "      <th>sense matching</th>\n",
       "      <th>evoking verb matching</th>\n",
       "      <th>redundant senses</th>\n",
       "      <th>redundant frames</th>\n",
       "      <th>missing frames</th>\n",
       "      <th>total gold frames</th>\n",
       "      <th>total auto frames</th>\n",
       "      <th>discarded gold frames</th>\n",
       "      <th>discarded gold args</th>\n",
       "    </tr>\n",
       "  </thead>\n",
       "  <tbody>\n",
       "    <tr>\n",
       "      <th>0</th>\n",
       "      <td>57.76</td>\n",
       "      <td>77.62</td>\n",
       "      <td>89.15</td>\n",
       "      <td>19.92%</td>\n",
       "      <td>7.09%</td>\n",
       "      <td>10.85%</td>\n",
       "      <td>15268</td>\n",
       "      <td>20516</td>\n",
       "      <td>23564</td>\n",
       "      <td>5600</td>\n",
       "      <td>1994</td>\n",
       "      <td>2868</td>\n",
       "      <td>26432</td>\n",
       "      <td>28110</td>\n",
       "      <td>0</td>\n",
       "      <td>106</td>\n",
       "    </tr>\n",
       "  </tbody>\n",
       "</table>\n",
       "</div>"
      ],
      "text/plain": [
       "  full frame match accuracy sense match accuracy evoking verb match accuracy  \\\n",
       "0                     57.76                77.62                       89.15   \n",
       "\n",
       "  redundant senses % redundant frames % missing frames %  fully matching  \\\n",
       "0             19.92%              7.09%           10.85%           15268   \n",
       "\n",
       "   sense matching  evoking verb matching  redundant senses  redundant frames  \\\n",
       "0           20516                  23564              5600              1994   \n",
       "\n",
       "   missing frames  total gold frames  total auto frames  \\\n",
       "0            2868              26432              28110   \n",
       "\n",
       "   discarded gold frames  discarded gold args  \n",
       "0                      0                  106  "
      ]
     },
     "metadata": {},
     "output_type": "display_data"
    },
    {
     "data": {
      "text/html": [
       "<h3>Argument detection performance</h3>"
      ],
      "text/plain": [
       "<IPython.core.display.HTML object>"
      ]
     },
     "metadata": {},
     "output_type": "display_data"
    },
    {
     "data": {
      "text/html": [
       "<div>\n",
       "<style scoped>\n",
       "    .dataframe tbody tr th:only-of-type {\n",
       "        vertical-align: middle;\n",
       "    }\n",
       "\n",
       "    .dataframe tbody tr th {\n",
       "        vertical-align: top;\n",
       "    }\n",
       "\n",
       "    .dataframe thead th {\n",
       "        text-align: right;\n",
       "    }\n",
       "</style>\n",
       "<table border=\"1\" class=\"dataframe\">\n",
       "  <thead>\n",
       "    <tr style=\"text-align: right;\">\n",
       "      <th></th>\n",
       "      <th>rows</th>\n",
       "      <th>ARG_OVERALL</th>\n",
       "      <th>ARG0</th>\n",
       "      <th>ARG1</th>\n",
       "      <th>ARG2</th>\n",
       "      <th>ARG3</th>\n",
       "      <th>ARG4</th>\n",
       "      <th>ARG5</th>\n",
       "    </tr>\n",
       "  </thead>\n",
       "  <tbody>\n",
       "    <tr>\n",
       "      <th>0</th>\n",
       "      <td>accuracy</td>\n",
       "      <td>85.67</td>\n",
       "      <td>96.92</td>\n",
       "      <td>94.17</td>\n",
       "      <td>62.51</td>\n",
       "      <td>30.58</td>\n",
       "      <td>29.39</td>\n",
       "      <td>15.69</td>\n",
       "    </tr>\n",
       "    <tr>\n",
       "      <th>1</th>\n",
       "      <td>matching</td>\n",
       "      <td>29003</td>\n",
       "      <td>9594</td>\n",
       "      <td>16291</td>\n",
       "      <td>2393</td>\n",
       "      <td>508</td>\n",
       "      <td>72</td>\n",
       "      <td>145</td>\n",
       "    </tr>\n",
       "    <tr>\n",
       "      <th>2</th>\n",
       "      <td>missing</td>\n",
       "      <td>4853</td>\n",
       "      <td>305</td>\n",
       "      <td>1008</td>\n",
       "      <td>1435</td>\n",
       "      <td>1153</td>\n",
       "      <td>173</td>\n",
       "      <td>779</td>\n",
       "    </tr>\n",
       "    <tr>\n",
       "      <th>3</th>\n",
       "      <td>redundant</td>\n",
       "      <td>1845</td>\n",
       "      <td>20</td>\n",
       "      <td>438</td>\n",
       "      <td>964</td>\n",
       "      <td>308</td>\n",
       "      <td>111</td>\n",
       "      <td>4</td>\n",
       "    </tr>\n",
       "    <tr>\n",
       "      <th>4</th>\n",
       "      <td>total gold</td>\n",
       "      <td>33856</td>\n",
       "      <td>9899</td>\n",
       "      <td>17299</td>\n",
       "      <td>3828</td>\n",
       "      <td>1661</td>\n",
       "      <td>245</td>\n",
       "      <td>924</td>\n",
       "    </tr>\n",
       "  </tbody>\n",
       "</table>\n",
       "</div>"
      ],
      "text/plain": [
       "         rows ARG_OVERALL   ARG0   ARG1   ARG2   ARG3   ARG4   ARG5\n",
       "0    accuracy       85.67  96.92  94.17  62.51  30.58  29.39  15.69\n",
       "1    matching       29003   9594  16291   2393    508     72    145\n",
       "2     missing        4853    305   1008   1435   1153    173    779\n",
       "3   redundant        1845     20    438    964    308    111      4\n",
       "4  total gold       33856   9899  17299   3828   1661    245    924"
      ]
     },
     "metadata": {},
     "output_type": "display_data"
    }
   ],
   "source": [
    "input_file = 'et_edt-ud-train.jl'\n",
    "display(HTML(f'<h2>Evaluating on {input_file}</h2>'))\n",
    "# Load evaluation sentences from dev part of the corpus\n",
    "eval_sentences = [sent_text for sent_text in tqdm(load_estnltk_texts_from_jsonlines(os.path.join(in_dir, input_file)),ascii=True )]\n",
    "# Extract verbs in gold frames\n",
    "gold_frame_verbs = get_gold_frame_verbs( eval_sentences, discard_frames_wo_args=True )\n",
    "print('Total verbs in gold frames: ', len(gold_frame_verbs))\n",
    "# Evaluate\n",
    "print('Evaluating PropBankPreannotator ... ')\n",
    "eval_results = dict()\n",
    "for sent_text in tqdm( eval_sentences, ascii=True ):\n",
    "    propbank_annotator.tag(sent_text)\n",
    "    assert propbank_annotator.output_layer in sent_text.relation_layers\n",
    "    eval_propbank_preannotator_on_sentence_conll( sent_text['conll_syntax'], \n",
    "                                                  sent_text[propbank_annotator.output_layer], \n",
    "                                                  eval_results, verbose=False )\n",
    "# Summarize results\n",
    "frame_results, arg_results = summarize_eval_accuracies(eval_results, return_dataframes=True)\n",
    "display(HTML('<h3>Frame detection performance</h3>'))\n",
    "display(frame_results)\n",
    "display(HTML('<h3>Argument detection performance</h3>'))\n",
    "display(arg_results)"
   ]
  }
 ],
 "metadata": {
  "kernelspec": {
   "display_name": "Python 3 (ipykernel)",
   "language": "python",
   "name": "python3"
  },
  "language_info": {
   "codemirror_mode": {
    "name": "ipython",
    "version": 3
   },
   "file_extension": ".py",
   "mimetype": "text/x-python",
   "name": "python",
   "nbconvert_exporter": "python",
   "pygments_lexer": "ipython3",
   "version": "3.10.13"
  }
 },
 "nbformat": 4,
 "nbformat_minor": 5
}
