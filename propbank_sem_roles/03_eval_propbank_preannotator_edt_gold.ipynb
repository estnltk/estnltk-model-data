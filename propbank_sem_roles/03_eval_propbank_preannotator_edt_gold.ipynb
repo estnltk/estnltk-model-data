{
 "cells": [
  {
   "cell_type": "markdown",
   "id": "63527e48-f4ad-4693-a272-79e871bff966",
   "metadata": {},
   "source": [
    "## Evaluate PropBankPreannotator on UD_Estonian-EDT gold standard semantic role annotations"
   ]
  },
  {
   "cell_type": "code",
   "execution_count": 1,
   "id": "65026aa2-8eeb-4caf-adcd-ddaf392d192c",
   "metadata": {},
   "outputs": [],
   "source": [
    "import os, os.path\n",
    "\n",
    "from tqdm import tqdm\n",
    "from IPython.display import HTML, display\n",
    "\n",
    "from conv_utils import load_estnltk_texts_from_jsonlines\n",
    "from frame_eval_utils import get_gold_frame_verbs\n",
    "from frame_eval_utils import eval_propbank_preannotator_on_sentence_conll\n",
    "from frame_eval_utils import summarize_eval_accuracies"
   ]
  },
  {
   "cell_type": "markdown",
   "id": "67a8434e-20dc-4783-b8bf-68a4d2039d0e",
   "metadata": {},
   "source": [
    "Assume that UD_Estonian-EDT corpus has been converted into json format previously:"
   ]
  },
  {
   "cell_type": "code",
   "execution_count": 2,
   "id": "a82b03f1-44e5-434f-8c1a-87f9368ebd57",
   "metadata": {},
   "outputs": [
    {
     "data": {
      "text/plain": [
       "['et_edt-ud-dev.jl', 'et_edt-ud-test.jl', 'et_edt-ud-train.jl']"
      ]
     },
     "execution_count": 2,
     "metadata": {},
     "output_type": "execute_result"
    }
   ],
   "source": [
    "in_dir = 'UD_Estonian-EDT-dev-json'\n",
    "assert os.path.exists(in_dir), f'(!) Missing input dir {in_dir}'\n",
    "input_files = [f for f in os.listdir(in_dir) if f.endswith('.jl')]\n",
    "input_files"
   ]
  },
  {
   "cell_type": "code",
   "execution_count": 3,
   "id": "fe7a7447-ea54-41b3-847f-c50baf764b83",
   "metadata": {},
   "outputs": [],
   "source": [
    "from estnltk.taggers.miscellaneous.propbank.preannotator import PropBankPreannotator\n",
    "propbank_annotator = \\\n",
    "   PropBankPreannotator( input_syntax_layer='conll_syntax', \n",
    "                         add_arg_descriptions=True, \n",
    "                         add_arg_feats=True, \n",
    "                         add_verb_class=True, debug_output=False)"
   ]
  },
  {
   "cell_type": "code",
   "execution_count": 4,
   "id": "7f95237e-0f79-4b6a-ad34-4bd2e7eef498",
   "metadata": {},
   "outputs": [
    {
     "data": {
      "text/html": [
       "<h2>Evaluating on et_edt-ud-dev.jl</h2>"
      ],
      "text/plain": [
       "<IPython.core.display.HTML object>"
      ]
     },
     "metadata": {},
     "output_type": "display_data"
    },
    {
     "name": "stdout",
     "output_type": "stream",
     "text": [
      "Loading Text objects from 'UD_Estonian-EDT-dev-json\\\\et_edt-ud-dev.jl' ...\n"
     ]
    },
    {
     "name": "stderr",
     "output_type": "stream",
     "text": [
      "3122it [00:06, 510.21it/s]\n",
      "100%|###################################################################################################################################| 3122/3122 [00:00<00:00, 1497040.94it/s]\n"
     ]
    },
    {
     "name": "stdout",
     "output_type": "stream",
     "text": [
      "Total verbs in gold frames:  416\n",
      "Evaluating PropBankPreannotator ... \n"
     ]
    },
    {
     "name": "stderr",
     "output_type": "stream",
     "text": [
      "100%|######################################################################################################################################| 3122/3122 [00:01<00:00, 1631.52it/s]\n"
     ]
    },
    {
     "data": {
      "text/html": [
       "<h3>Frame detection performance</h3>"
      ],
      "text/plain": [
       "<IPython.core.display.HTML object>"
      ]
     },
     "metadata": {},
     "output_type": "display_data"
    },
    {
     "data": {
      "text/html": [
       "<div>\n",
       "<style scoped>\n",
       "    .dataframe tbody tr th:only-of-type {\n",
       "        vertical-align: middle;\n",
       "    }\n",
       "\n",
       "    .dataframe tbody tr th {\n",
       "        vertical-align: top;\n",
       "    }\n",
       "\n",
       "    .dataframe thead th {\n",
       "        text-align: right;\n",
       "    }\n",
       "</style>\n",
       "<table border=\"1\" class=\"dataframe\">\n",
       "  <thead>\n",
       "    <tr style=\"text-align: right;\">\n",
       "      <th></th>\n",
       "      <th>full frame match accuracy</th>\n",
       "      <th>sense match accuracy</th>\n",
       "      <th>evoking verb match accuracy</th>\n",
       "      <th>redundant senses %</th>\n",
       "      <th>redundant frames %</th>\n",
       "      <th>missing frames %</th>\n",
       "      <th>fully matching</th>\n",
       "      <th>sense matching</th>\n",
       "      <th>evoking verb matching</th>\n",
       "      <th>redundant senses</th>\n",
       "      <th>redundant frames</th>\n",
       "      <th>missing frames</th>\n",
       "      <th>total gold frames</th>\n",
       "      <th>total auto frames</th>\n",
       "      <th>discarded gold frames</th>\n",
       "      <th>discarded gold args</th>\n",
       "    </tr>\n",
       "  </thead>\n",
       "  <tbody>\n",
       "    <tr>\n",
       "      <th>0</th>\n",
       "      <td>58.54</td>\n",
       "      <td>79.04</td>\n",
       "      <td>89.86</td>\n",
       "      <td>28.78%</td>\n",
       "      <td>6.53%</td>\n",
       "      <td>10.14%</td>\n",
       "      <td>1916</td>\n",
       "      <td>2587</td>\n",
       "      <td>2941</td>\n",
       "      <td>1151</td>\n",
       "      <td>261</td>\n",
       "      <td>332</td>\n",
       "      <td>3273</td>\n",
       "      <td>3999</td>\n",
       "      <td>0</td>\n",
       "      <td>15</td>\n",
       "    </tr>\n",
       "  </tbody>\n",
       "</table>\n",
       "</div>"
      ],
      "text/plain": [
       "  full frame match accuracy sense match accuracy evoking verb match accuracy  \\\n",
       "0                     58.54                79.04                       89.86   \n",
       "\n",
       "  redundant senses % redundant frames % missing frames %  fully matching  \\\n",
       "0             28.78%              6.53%           10.14%            1916   \n",
       "\n",
       "   sense matching  evoking verb matching  redundant senses  redundant frames  \\\n",
       "0            2587                   2941              1151               261   \n",
       "\n",
       "   missing frames  total gold frames  total auto frames  \\\n",
       "0             332               3273               3999   \n",
       "\n",
       "   discarded gold frames  discarded gold args  \n",
       "0                      0                   15  "
      ]
     },
     "metadata": {},
     "output_type": "display_data"
    },
    {
     "data": {
      "text/html": [
       "<h3>Argument detection performance</h3>"
      ],
      "text/plain": [
       "<IPython.core.display.HTML object>"
      ]
     },
     "metadata": {},
     "output_type": "display_data"
    },
    {
     "data": {
      "text/html": [
       "<div>\n",
       "<style scoped>\n",
       "    .dataframe tbody tr th:only-of-type {\n",
       "        vertical-align: middle;\n",
       "    }\n",
       "\n",
       "    .dataframe tbody tr th {\n",
       "        vertical-align: top;\n",
       "    }\n",
       "\n",
       "    .dataframe thead th {\n",
       "        text-align: right;\n",
       "    }\n",
       "</style>\n",
       "<table border=\"1\" class=\"dataframe\">\n",
       "  <thead>\n",
       "    <tr style=\"text-align: right;\">\n",
       "      <th></th>\n",
       "      <th>rows</th>\n",
       "      <th>ARG_OVERALL</th>\n",
       "      <th>ARG0</th>\n",
       "      <th>ARG1</th>\n",
       "      <th>ARG2</th>\n",
       "      <th>ARG3</th>\n",
       "      <th>ARG4</th>\n",
       "      <th>ARG5</th>\n",
       "    </tr>\n",
       "  </thead>\n",
       "  <tbody>\n",
       "    <tr>\n",
       "      <th>0</th>\n",
       "      <td>accuracy</td>\n",
       "      <td>85.22</td>\n",
       "      <td>97.26</td>\n",
       "      <td>93.72</td>\n",
       "      <td>64.15</td>\n",
       "      <td>27.98</td>\n",
       "      <td>42.86</td>\n",
       "      <td>14.16</td>\n",
       "    </tr>\n",
       "    <tr>\n",
       "      <th>1</th>\n",
       "      <td>matching</td>\n",
       "      <td>3593</td>\n",
       "      <td>1138</td>\n",
       "      <td>2045</td>\n",
       "      <td>315</td>\n",
       "      <td>61</td>\n",
       "      <td>18</td>\n",
       "      <td>16</td>\n",
       "    </tr>\n",
       "    <tr>\n",
       "      <th>2</th>\n",
       "      <td>missing</td>\n",
       "      <td>623</td>\n",
       "      <td>32</td>\n",
       "      <td>137</td>\n",
       "      <td>176</td>\n",
       "      <td>157</td>\n",
       "      <td>24</td>\n",
       "      <td>97</td>\n",
       "    </tr>\n",
       "    <tr>\n",
       "      <th>3</th>\n",
       "      <td>redundant</td>\n",
       "      <td>235</td>\n",
       "      <td>2</td>\n",
       "      <td>59</td>\n",
       "      <td>109</td>\n",
       "      <td>42</td>\n",
       "      <td>23</td>\n",
       "      <td>0</td>\n",
       "    </tr>\n",
       "    <tr>\n",
       "      <th>4</th>\n",
       "      <td>total gold</td>\n",
       "      <td>4216</td>\n",
       "      <td>1170</td>\n",
       "      <td>2182</td>\n",
       "      <td>491</td>\n",
       "      <td>218</td>\n",
       "      <td>42</td>\n",
       "      <td>113</td>\n",
       "    </tr>\n",
       "  </tbody>\n",
       "</table>\n",
       "</div>"
      ],
      "text/plain": [
       "         rows ARG_OVERALL   ARG0   ARG1   ARG2   ARG3   ARG4   ARG5\n",
       "0    accuracy       85.22  97.26  93.72  64.15  27.98  42.86  14.16\n",
       "1    matching        3593   1138   2045    315     61     18     16\n",
       "2     missing         623     32    137    176    157     24     97\n",
       "3   redundant         235      2     59    109     42     23      0\n",
       "4  total gold        4216   1170   2182    491    218     42    113"
      ]
     },
     "metadata": {},
     "output_type": "display_data"
    }
   ],
   "source": [
    "input_file = 'et_edt-ud-dev.jl'\n",
    "display(HTML(f'<h2>Evaluating on {input_file}</h2>'))\n",
    "# Load evaluation sentences from dev part of the corpus\n",
    "eval_sentences = [sent_text for sent_text in tqdm(load_estnltk_texts_from_jsonlines(os.path.join(in_dir, input_file)),ascii=True )]\n",
    "# Extract verbs in gold frames\n",
    "gold_frame_verbs = get_gold_frame_verbs( eval_sentences, discard_frames_wo_args=True )\n",
    "print('Total verbs in gold frames: ', len(gold_frame_verbs))\n",
    "# Evaluate\n",
    "print('Evaluating PropBankPreannotator ... ')\n",
    "eval_results = dict()\n",
    "for sent_text in tqdm( eval_sentences, ascii=True ):\n",
    "    propbank_annotator.tag(sent_text)\n",
    "    assert propbank_annotator.output_layer in sent_text.relation_layers\n",
    "    eval_propbank_preannotator_on_sentence_conll( sent_text['conll_syntax'], \n",
    "                                                  sent_text[propbank_annotator.output_layer], \n",
    "                                                  eval_results, verbose=False )\n",
    "# Summarize results\n",
    "frame_results, arg_results = summarize_eval_accuracies(eval_results, return_dataframes=True)\n",
    "display(HTML('<h3>Frame detection performance</h3>'))\n",
    "display(frame_results)\n",
    "display(HTML('<h3>Argument detection performance</h3>'))\n",
    "display(arg_results)"
   ]
  },
  {
   "cell_type": "code",
   "execution_count": 5,
   "id": "389506f5-872f-435a-9406-4268c6cdde0a",
   "metadata": {},
   "outputs": [
    {
     "data": {
      "text/html": [
       "<h2>Evaluating on et_edt-ud-test.jl</h2>"
      ],
      "text/plain": [
       "<IPython.core.display.HTML object>"
      ]
     },
     "metadata": {},
     "output_type": "display_data"
    },
    {
     "name": "stdout",
     "output_type": "stream",
     "text": [
      "Loading Text objects from 'UD_Estonian-EDT-dev-json\\\\et_edt-ud-test.jl' ...\n"
     ]
    },
    {
     "name": "stderr",
     "output_type": "stream",
     "text": [
      "3207it [00:06, 487.31it/s]\n",
      "100%|###################################################################################################################################| 3207/3207 [00:00<00:00, 1036856.00it/s]\n"
     ]
    },
    {
     "name": "stdout",
     "output_type": "stream",
     "text": [
      "Total verbs in gold frames:  401\n",
      "Evaluating PropBankPreannotator ... \n"
     ]
    },
    {
     "name": "stderr",
     "output_type": "stream",
     "text": [
      "100%|######################################################################################################################################| 3207/3207 [00:02<00:00, 1357.48it/s]\n"
     ]
    },
    {
     "data": {
      "text/html": [
       "<h3>Frame detection performance</h3>"
      ],
      "text/plain": [
       "<IPython.core.display.HTML object>"
      ]
     },
     "metadata": {},
     "output_type": "display_data"
    },
    {
     "data": {
      "text/html": [
       "<div>\n",
       "<style scoped>\n",
       "    .dataframe tbody tr th:only-of-type {\n",
       "        vertical-align: middle;\n",
       "    }\n",
       "\n",
       "    .dataframe tbody tr th {\n",
       "        vertical-align: top;\n",
       "    }\n",
       "\n",
       "    .dataframe thead th {\n",
       "        text-align: right;\n",
       "    }\n",
       "</style>\n",
       "<table border=\"1\" class=\"dataframe\">\n",
       "  <thead>\n",
       "    <tr style=\"text-align: right;\">\n",
       "      <th></th>\n",
       "      <th>full frame match accuracy</th>\n",
       "      <th>sense match accuracy</th>\n",
       "      <th>evoking verb match accuracy</th>\n",
       "      <th>redundant senses %</th>\n",
       "      <th>redundant frames %</th>\n",
       "      <th>missing frames %</th>\n",
       "      <th>fully matching</th>\n",
       "      <th>sense matching</th>\n",
       "      <th>evoking verb matching</th>\n",
       "      <th>redundant senses</th>\n",
       "      <th>redundant frames</th>\n",
       "      <th>missing frames</th>\n",
       "      <th>total gold frames</th>\n",
       "      <th>total auto frames</th>\n",
       "      <th>discarded gold frames</th>\n",
       "      <th>discarded gold args</th>\n",
       "    </tr>\n",
       "  </thead>\n",
       "  <tbody>\n",
       "    <tr>\n",
       "      <th>0</th>\n",
       "      <td>58.16</td>\n",
       "      <td>79.05</td>\n",
       "      <td>89.47</td>\n",
       "      <td>27.76%</td>\n",
       "      <td>6.30%</td>\n",
       "      <td>10.53%</td>\n",
       "      <td>2088</td>\n",
       "      <td>2838</td>\n",
       "      <td>3212</td>\n",
       "      <td>1195</td>\n",
       "      <td>271</td>\n",
       "      <td>378</td>\n",
       "      <td>3590</td>\n",
       "      <td>4304</td>\n",
       "      <td>0</td>\n",
       "      <td>20</td>\n",
       "    </tr>\n",
       "  </tbody>\n",
       "</table>\n",
       "</div>"
      ],
      "text/plain": [
       "  full frame match accuracy sense match accuracy evoking verb match accuracy  \\\n",
       "0                     58.16                79.05                       89.47   \n",
       "\n",
       "  redundant senses % redundant frames % missing frames %  fully matching  \\\n",
       "0             27.76%              6.30%           10.53%            2088   \n",
       "\n",
       "   sense matching  evoking verb matching  redundant senses  redundant frames  \\\n",
       "0            2838                   3212              1195               271   \n",
       "\n",
       "   missing frames  total gold frames  total auto frames  \\\n",
       "0             378               3590               4304   \n",
       "\n",
       "   discarded gold frames  discarded gold args  \n",
       "0                      0                   20  "
      ]
     },
     "metadata": {},
     "output_type": "display_data"
    },
    {
     "data": {
      "text/html": [
       "<h3>Argument detection performance</h3>"
      ],
      "text/plain": [
       "<IPython.core.display.HTML object>"
      ]
     },
     "metadata": {},
     "output_type": "display_data"
    },
    {
     "data": {
      "text/html": [
       "<div>\n",
       "<style scoped>\n",
       "    .dataframe tbody tr th:only-of-type {\n",
       "        vertical-align: middle;\n",
       "    }\n",
       "\n",
       "    .dataframe tbody tr th {\n",
       "        vertical-align: top;\n",
       "    }\n",
       "\n",
       "    .dataframe thead th {\n",
       "        text-align: right;\n",
       "    }\n",
       "</style>\n",
       "<table border=\"1\" class=\"dataframe\">\n",
       "  <thead>\n",
       "    <tr style=\"text-align: right;\">\n",
       "      <th></th>\n",
       "      <th>rows</th>\n",
       "      <th>ARG_OVERALL</th>\n",
       "      <th>ARG0</th>\n",
       "      <th>ARG1</th>\n",
       "      <th>ARG2</th>\n",
       "      <th>ARG3</th>\n",
       "      <th>ARG4</th>\n",
       "      <th>ARG5</th>\n",
       "    </tr>\n",
       "  </thead>\n",
       "  <tbody>\n",
       "    <tr>\n",
       "      <th>0</th>\n",
       "      <td>accuracy</td>\n",
       "      <td>85.87</td>\n",
       "      <td>97.08</td>\n",
       "      <td>94.47</td>\n",
       "      <td>65.37</td>\n",
       "      <td>35.37</td>\n",
       "      <td>22.86</td>\n",
       "      <td>13.97</td>\n",
       "    </tr>\n",
       "    <tr>\n",
       "      <th>1</th>\n",
       "      <td>matching</td>\n",
       "      <td>4064</td>\n",
       "      <td>1264</td>\n",
       "      <td>2307</td>\n",
       "      <td>385</td>\n",
       "      <td>81</td>\n",
       "      <td>8</td>\n",
       "      <td>19</td>\n",
       "    </tr>\n",
       "    <tr>\n",
       "      <th>2</th>\n",
       "      <td>missing</td>\n",
       "      <td>669</td>\n",
       "      <td>38</td>\n",
       "      <td>135</td>\n",
       "      <td>204</td>\n",
       "      <td>148</td>\n",
       "      <td>27</td>\n",
       "      <td>117</td>\n",
       "    </tr>\n",
       "    <tr>\n",
       "      <th>3</th>\n",
       "      <td>redundant</td>\n",
       "      <td>249</td>\n",
       "      <td>3</td>\n",
       "      <td>48</td>\n",
       "      <td>143</td>\n",
       "      <td>45</td>\n",
       "      <td>10</td>\n",
       "      <td>0</td>\n",
       "    </tr>\n",
       "    <tr>\n",
       "      <th>4</th>\n",
       "      <td>total gold</td>\n",
       "      <td>4733</td>\n",
       "      <td>1302</td>\n",
       "      <td>2442</td>\n",
       "      <td>589</td>\n",
       "      <td>229</td>\n",
       "      <td>35</td>\n",
       "      <td>136</td>\n",
       "    </tr>\n",
       "  </tbody>\n",
       "</table>\n",
       "</div>"
      ],
      "text/plain": [
       "         rows ARG_OVERALL   ARG0   ARG1   ARG2   ARG3   ARG4   ARG5\n",
       "0    accuracy       85.87  97.08  94.47  65.37  35.37  22.86  13.97\n",
       "1    matching        4064   1264   2307    385     81      8     19\n",
       "2     missing         669     38    135    204    148     27    117\n",
       "3   redundant         249      3     48    143     45     10      0\n",
       "4  total gold        4733   1302   2442    589    229     35    136"
      ]
     },
     "metadata": {},
     "output_type": "display_data"
    }
   ],
   "source": [
    "input_file = 'et_edt-ud-test.jl'\n",
    "display(HTML(f'<h2>Evaluating on {input_file}</h2>'))\n",
    "# Load evaluation sentences from dev part of the corpus\n",
    "eval_sentences = [sent_text for sent_text in tqdm(load_estnltk_texts_from_jsonlines(os.path.join(in_dir, input_file)),ascii=True )]\n",
    "# Extract verbs in gold frames\n",
    "gold_frame_verbs = get_gold_frame_verbs( eval_sentences, discard_frames_wo_args=True )\n",
    "print('Total verbs in gold frames: ', len(gold_frame_verbs))\n",
    "# Evaluate\n",
    "print('Evaluating PropBankPreannotator ... ')\n",
    "eval_results = dict()\n",
    "for sent_text in tqdm( eval_sentences, ascii=True ):\n",
    "    propbank_annotator.tag(sent_text)\n",
    "    assert propbank_annotator.output_layer in sent_text.relation_layers\n",
    "    eval_propbank_preannotator_on_sentence_conll( sent_text['conll_syntax'], \n",
    "                                                  sent_text[propbank_annotator.output_layer], \n",
    "                                                  eval_results, verbose=False )\n",
    "# Summarize results\n",
    "frame_results, arg_results = summarize_eval_accuracies(eval_results, return_dataframes=True)\n",
    "display(HTML('<h3>Frame detection performance</h3>'))\n",
    "display(frame_results)\n",
    "display(HTML('<h3>Argument detection performance</h3>'))\n",
    "display(arg_results)"
   ]
  },
  {
   "cell_type": "code",
   "execution_count": 6,
   "id": "d4356cc4-bdad-46ea-bcc6-b3e0e716b8f8",
   "metadata": {},
   "outputs": [
    {
     "data": {
      "text/html": [
       "<h2>Evaluating on et_edt-ud-train.jl</h2>"
      ],
      "text/plain": [
       "<IPython.core.display.HTML object>"
      ]
     },
     "metadata": {},
     "output_type": "display_data"
    },
    {
     "name": "stdout",
     "output_type": "stream",
     "text": [
      "Loading Text objects from 'UD_Estonian-EDT-dev-json\\\\et_edt-ud-train.jl' ...\n"
     ]
    },
    {
     "name": "stderr",
     "output_type": "stream",
     "text": [
      "24601it [00:46, 524.10it/s] \n",
      "100%|#################################################################################################################################| 24601/24601 [00:00<00:00, 1897847.54it/s]\n"
     ]
    },
    {
     "name": "stdout",
     "output_type": "stream",
     "text": [
      "Total verbs in gold frames:  480\n",
      "Evaluating PropBankPreannotator ... \n"
     ]
    },
    {
     "name": "stderr",
     "output_type": "stream",
     "text": [
      "100%|####################################################################################################################################| 24601/24601 [00:18<00:00, 1339.65it/s]\n"
     ]
    },
    {
     "data": {
      "text/html": [
       "<h3>Frame detection performance</h3>"
      ],
      "text/plain": [
       "<IPython.core.display.HTML object>"
      ]
     },
     "metadata": {},
     "output_type": "display_data"
    },
    {
     "data": {
      "text/html": [
       "<div>\n",
       "<style scoped>\n",
       "    .dataframe tbody tr th:only-of-type {\n",
       "        vertical-align: middle;\n",
       "    }\n",
       "\n",
       "    .dataframe tbody tr th {\n",
       "        vertical-align: top;\n",
       "    }\n",
       "\n",
       "    .dataframe thead th {\n",
       "        text-align: right;\n",
       "    }\n",
       "</style>\n",
       "<table border=\"1\" class=\"dataframe\">\n",
       "  <thead>\n",
       "    <tr style=\"text-align: right;\">\n",
       "      <th></th>\n",
       "      <th>full frame match accuracy</th>\n",
       "      <th>sense match accuracy</th>\n",
       "      <th>evoking verb match accuracy</th>\n",
       "      <th>redundant senses %</th>\n",
       "      <th>redundant frames %</th>\n",
       "      <th>missing frames %</th>\n",
       "      <th>fully matching</th>\n",
       "      <th>sense matching</th>\n",
       "      <th>evoking verb matching</th>\n",
       "      <th>redundant senses</th>\n",
       "      <th>redundant frames</th>\n",
       "      <th>missing frames</th>\n",
       "      <th>total gold frames</th>\n",
       "      <th>total auto frames</th>\n",
       "      <th>discarded gold frames</th>\n",
       "      <th>discarded gold args</th>\n",
       "    </tr>\n",
       "  </thead>\n",
       "  <tbody>\n",
       "    <tr>\n",
       "      <th>0</th>\n",
       "      <td>57.99</td>\n",
       "      <td>79.14</td>\n",
       "      <td>89.15</td>\n",
       "      <td>28.03%</td>\n",
       "      <td>6.54%</td>\n",
       "      <td>10.85%</td>\n",
       "      <td>15328</td>\n",
       "      <td>20917</td>\n",
       "      <td>23564</td>\n",
       "      <td>8959</td>\n",
       "      <td>2091</td>\n",
       "      <td>2868</td>\n",
       "      <td>26432</td>\n",
       "      <td>31967</td>\n",
       "      <td>0</td>\n",
       "      <td>106</td>\n",
       "    </tr>\n",
       "  </tbody>\n",
       "</table>\n",
       "</div>"
      ],
      "text/plain": [
       "  full frame match accuracy sense match accuracy evoking verb match accuracy  \\\n",
       "0                     57.99                79.14                       89.15   \n",
       "\n",
       "  redundant senses % redundant frames % missing frames %  fully matching  \\\n",
       "0             28.03%              6.54%           10.85%           15328   \n",
       "\n",
       "   sense matching  evoking verb matching  redundant senses  redundant frames  \\\n",
       "0           20917                  23564              8959              2091   \n",
       "\n",
       "   missing frames  total gold frames  total auto frames  \\\n",
       "0            2868              26432              31967   \n",
       "\n",
       "   discarded gold frames  discarded gold args  \n",
       "0                      0                  106  "
      ]
     },
     "metadata": {},
     "output_type": "display_data"
    },
    {
     "data": {
      "text/html": [
       "<h3>Argument detection performance</h3>"
      ],
      "text/plain": [
       "<IPython.core.display.HTML object>"
      ]
     },
     "metadata": {},
     "output_type": "display_data"
    },
    {
     "data": {
      "text/html": [
       "<div>\n",
       "<style scoped>\n",
       "    .dataframe tbody tr th:only-of-type {\n",
       "        vertical-align: middle;\n",
       "    }\n",
       "\n",
       "    .dataframe tbody tr th {\n",
       "        vertical-align: top;\n",
       "    }\n",
       "\n",
       "    .dataframe thead th {\n",
       "        text-align: right;\n",
       "    }\n",
       "</style>\n",
       "<table border=\"1\" class=\"dataframe\">\n",
       "  <thead>\n",
       "    <tr style=\"text-align: right;\">\n",
       "      <th></th>\n",
       "      <th>rows</th>\n",
       "      <th>ARG_OVERALL</th>\n",
       "      <th>ARG0</th>\n",
       "      <th>ARG1</th>\n",
       "      <th>ARG2</th>\n",
       "      <th>ARG3</th>\n",
       "      <th>ARG4</th>\n",
       "      <th>ARG5</th>\n",
       "    </tr>\n",
       "  </thead>\n",
       "  <tbody>\n",
       "    <tr>\n",
       "      <th>0</th>\n",
       "      <td>accuracy</td>\n",
       "      <td>84.89</td>\n",
       "      <td>96.74</td>\n",
       "      <td>94.03</td>\n",
       "      <td>60.53</td>\n",
       "      <td>29.62</td>\n",
       "      <td>27.49</td>\n",
       "      <td>14.51</td>\n",
       "    </tr>\n",
       "    <tr>\n",
       "      <th>1</th>\n",
       "      <td>matching</td>\n",
       "      <td>29488</td>\n",
       "      <td>9755</td>\n",
       "      <td>16606</td>\n",
       "      <td>2395</td>\n",
       "      <td>508</td>\n",
       "      <td>69</td>\n",
       "      <td>155</td>\n",
       "    </tr>\n",
       "    <tr>\n",
       "      <th>2</th>\n",
       "      <td>missing</td>\n",
       "      <td>5247</td>\n",
       "      <td>329</td>\n",
       "      <td>1054</td>\n",
       "      <td>1562</td>\n",
       "      <td>1207</td>\n",
       "      <td>182</td>\n",
       "      <td>913</td>\n",
       "    </tr>\n",
       "    <tr>\n",
       "      <th>3</th>\n",
       "      <td>redundant</td>\n",
       "      <td>1809</td>\n",
       "      <td>20</td>\n",
       "      <td>438</td>\n",
       "      <td>967</td>\n",
       "      <td>287</td>\n",
       "      <td>93</td>\n",
       "      <td>4</td>\n",
       "    </tr>\n",
       "    <tr>\n",
       "      <th>4</th>\n",
       "      <td>total gold</td>\n",
       "      <td>34735</td>\n",
       "      <td>10084</td>\n",
       "      <td>17660</td>\n",
       "      <td>3957</td>\n",
       "      <td>1715</td>\n",
       "      <td>251</td>\n",
       "      <td>1068</td>\n",
       "    </tr>\n",
       "  </tbody>\n",
       "</table>\n",
       "</div>"
      ],
      "text/plain": [
       "         rows ARG_OVERALL   ARG0   ARG1   ARG2   ARG3   ARG4   ARG5\n",
       "0    accuracy       84.89  96.74  94.03  60.53  29.62  27.49  14.51\n",
       "1    matching       29488   9755  16606   2395    508     69    155\n",
       "2     missing        5247    329   1054   1562   1207    182    913\n",
       "3   redundant        1809     20    438    967    287     93      4\n",
       "4  total gold       34735  10084  17660   3957   1715    251   1068"
      ]
     },
     "metadata": {},
     "output_type": "display_data"
    }
   ],
   "source": [
    "input_file = 'et_edt-ud-train.jl'\n",
    "display(HTML(f'<h2>Evaluating on {input_file}</h2>'))\n",
    "# Load evaluation sentences from dev part of the corpus\n",
    "eval_sentences = [sent_text for sent_text in tqdm(load_estnltk_texts_from_jsonlines(os.path.join(in_dir, input_file)),ascii=True )]\n",
    "# Extract verbs in gold frames\n",
    "gold_frame_verbs = get_gold_frame_verbs( eval_sentences, discard_frames_wo_args=True )\n",
    "print('Total verbs in gold frames: ', len(gold_frame_verbs))\n",
    "# Evaluate\n",
    "print('Evaluating PropBankPreannotator ... ')\n",
    "eval_results = dict()\n",
    "for sent_text in tqdm( eval_sentences, ascii=True ):\n",
    "    propbank_annotator.tag(sent_text)\n",
    "    assert propbank_annotator.output_layer in sent_text.relation_layers\n",
    "    eval_propbank_preannotator_on_sentence_conll( sent_text['conll_syntax'], \n",
    "                                                  sent_text[propbank_annotator.output_layer], \n",
    "                                                  eval_results, verbose=False )\n",
    "# Summarize results\n",
    "frame_results, arg_results = summarize_eval_accuracies(eval_results, return_dataframes=True)\n",
    "display(HTML('<h3>Frame detection performance</h3>'))\n",
    "display(frame_results)\n",
    "display(HTML('<h3>Argument detection performance</h3>'))\n",
    "display(arg_results)"
   ]
  }
 ],
 "metadata": {
  "kernelspec": {
   "display_name": "Python 3 (ipykernel)",
   "language": "python",
   "name": "python3"
  },
  "language_info": {
   "codemirror_mode": {
    "name": "ipython",
    "version": 3
   },
   "file_extension": ".py",
   "mimetype": "text/x-python",
   "name": "python",
   "nbconvert_exporter": "python",
   "pygments_lexer": "ipython3",
   "version": "3.10.13"
  }
 },
 "nbformat": 4,
 "nbformat_minor": 5
}
