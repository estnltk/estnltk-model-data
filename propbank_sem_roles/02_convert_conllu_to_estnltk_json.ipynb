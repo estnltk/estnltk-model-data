{
 "cells": [
  {
   "cell_type": "markdown",
   "id": "93d671da-b3f3-4f2a-8f36-4d6884b2deb5",
   "metadata": {},
   "source": [
    "## Convert conllu files with semantic role annotations to EstNLTK JSON"
   ]
  },
  {
   "cell_type": "code",
   "execution_count": 2,
   "id": "264bbbc7-f135-4330-b00d-e4859ae86e35",
   "metadata": {},
   "outputs": [],
   "source": [
    "import os, os.path\n",
    "from conv_utils import convert_conllu_into_estnltk_json"
   ]
  },
  {
   "cell_type": "markdown",
   "id": "95949eeb-85fd-41ca-af3a-91fa0fde0382",
   "metadata": {},
   "source": [
    "Load documents from EDT dev, test and train corpora, split into sentences, and save as EstNLTK json Text objects."
   ]
  },
  {
   "cell_type": "markdown",
   "id": "63a513fd-c8f0-4f74-a719-a8f655f28437",
   "metadata": {},
   "source": [
    "We assume a version of UD_Estonian-EDT corpus that has (Propbank) semantic role annotations in the misc field. \n",
    "Currently, we use a development version of the corpus from 2024-10-29: https://github.com/UniversalDependencies/UD_Estonian-EDT/tree/d7d5ea2ceff0e30fbe43dd6641251f8d8ab81a7d "
   ]
  },
  {
   "cell_type": "code",
   "execution_count": 7,
   "id": "2ad27825-0f09-4855-a487-6cdc0ac0724c",
   "metadata": {},
   "outputs": [],
   "source": [
    "in_dir = 'UD_Estonian-EDT-dev'\n",
    "assert os.path.exists(in_dir), f'(!) Missing input dir {in_dir}'\n",
    "out_dir = 'UD_Estonian-EDT-dev-json'"
   ]
  },
  {
   "cell_type": "code",
   "execution_count": 4,
   "id": "70628589-8fc9-4314-977a-7895d54c6b2b",
   "metadata": {},
   "outputs": [
    {
     "name": "stdout",
     "output_type": "stream",
     "text": [
      "Loading documents in 'UD_Estonian-EDT-dev\\\\et_edt-ud-dev.conllu' as Text objects ...\n"
     ]
    },
    {
     "name": "stderr",
     "output_type": "stream",
     "text": [
      "100%|##############################################################################################################################################################################| 9/9 [00:35<00:00,  3.97s/it]\n"
     ]
    },
    {
     "name": "stdout",
     "output_type": "stream",
     "text": [
      "Saving Text objects into 'UD_Estonian-EDT-dev-json' ...\n"
     ]
    },
    {
     "name": "stderr",
     "output_type": "stream",
     "text": [
      "100%|######################################################################################################################################################################| 3122/3122 [00:01<00:00, 2508.26it/s]\n"
     ]
    }
   ],
   "source": [
    "# 1) Convert edt dev corpus to estnltk json\n",
    "convert_conllu_into_estnltk_json( os.path.join(in_dir, 'et_edt-ud-dev.conllu'), \n",
    "                                  out_dir, 'et_edt-ud-dev.jl', split_into_sentences=True )"
   ]
  },
  {
   "cell_type": "code",
   "execution_count": 5,
   "id": "bac54f41-dcd9-4637-8ef3-3c37ebca2f12",
   "metadata": {},
   "outputs": [
    {
     "name": "stdout",
     "output_type": "stream",
     "text": [
      "Loading documents in 'UD_Estonian-EDT-dev\\\\et_edt-ud-test.conllu' as Text objects ...\n"
     ]
    },
    {
     "name": "stderr",
     "output_type": "stream",
     "text": [
      "100%|##############################################################################################################################################################################| 6/6 [00:54<00:00,  9.06s/it]\n"
     ]
    },
    {
     "name": "stdout",
     "output_type": "stream",
     "text": [
      "Saving Text objects into 'UD_Estonian-EDT-dev-json' ...\n"
     ]
    },
    {
     "name": "stderr",
     "output_type": "stream",
     "text": [
      "100%|######################################################################################################################################################################| 3207/3207 [00:01<00:00, 2313.21it/s]\n"
     ]
    }
   ],
   "source": [
    "# 2) Convert edt test corpus to estnltk json\n",
    "convert_conllu_into_estnltk_json( os.path.join(in_dir, 'et_edt-ud-test.conllu'), \n",
    "                                  out_dir, 'et_edt-ud-test.jl', split_into_sentences=True )"
   ]
  },
  {
   "cell_type": "code",
   "execution_count": 8,
   "id": "9535cb6a-716f-464b-906e-2b69790a4d48",
   "metadata": {},
   "outputs": [
    {
     "name": "stdout",
     "output_type": "stream",
     "text": [
      "Loading documents in 'UD_Estonian-EDT-dev\\\\et_edt-ud-train.conllu' as Text objects ...\n"
     ]
    },
    {
     "name": "stderr",
     "output_type": "stream",
     "text": [
      "100%|############################################################################################################################################################################| 28/28 [10:34<00:00, 22.67s/it]\n"
     ]
    },
    {
     "name": "stdout",
     "output_type": "stream",
     "text": [
      "Saving Text objects into 'UD_Estonian-EDT-dev-json' ...\n"
     ]
    },
    {
     "name": "stderr",
     "output_type": "stream",
     "text": [
      "100%|####################################################################################################################################################################| 24601/24601 [00:09<00:00, 2504.33it/s]\n"
     ]
    }
   ],
   "source": [
    "# 3) Convert edt train corpus to estnltk json\n",
    "convert_conllu_into_estnltk_json( os.path.join(in_dir, 'et_edt-ud-train.conllu'), \n",
    "                                  out_dir, 'et_edt-ud-train.jl', split_into_sentences=True )"
   ]
  }
 ],
 "metadata": {
  "kernelspec": {
   "display_name": "Python 3 (ipykernel)",
   "language": "python",
   "name": "python3"
  },
  "language_info": {
   "codemirror_mode": {
    "name": "ipython",
    "version": 3
   },
   "file_extension": ".py",
   "mimetype": "text/x-python",
   "name": "python",
   "nbconvert_exporter": "python",
   "pygments_lexer": "ipython3",
   "version": "3.10.13"
  }
 },
 "nbformat": 4,
 "nbformat_minor": 5
}
