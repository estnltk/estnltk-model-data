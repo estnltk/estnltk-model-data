{
 "cells": [
  {
   "cell_type": "markdown",
   "id": "38a03d26",
   "metadata": {},
   "source": [
    "# Benchmark evaluation"
   ]
  },
  {
   "cell_type": "markdown",
   "id": "89788233",
   "metadata": {},
   "source": [
    "## I. Evaluate algorithms on the benchmark data "
   ]
  },
  {
   "cell_type": "code",
   "execution_count": 1,
   "id": "95567b54",
   "metadata": {},
   "outputs": [
    {
     "name": "stdout",
     "output_type": "stream",
     "text": [
      "Loaded evaluation benchmark of size 1440.\n"
     ]
    }
   ],
   "source": [
    "from helper_utils import RecallEstimator\n",
    "\n",
    "r_estimator = RecallEstimator('amundsen_02/data_description.csv')"
   ]
  },
  {
   "cell_type": "markdown",
   "id": "c0ecbd0a",
   "metadata": {},
   "source": [
    "### I.I. EstNLTK's default model"
   ]
  },
  {
   "cell_type": "code",
   "execution_count": 2,
   "id": "33f2afb1",
   "metadata": {},
   "outputs": [
    {
     "name": "stderr",
     "output_type": "stream",
     "text": [
      "100%|████████████████████████████████████████████████████████████████████████████████████████████████████████████████████████████████████████████████████████████████████████| 1440/1440 [02:30<00:00,  9.56it/s]\n"
     ]
    },
    {
     "data": {
      "text/plain": [
       "{'Recall': 0.5980766514609488,\n",
       " 'Recall-95CI%': (0.5653302008983152, 0.6308231020235824),\n",
       " 'correct': 682,\n",
       " 'incorrect': 758}"
      ]
     },
     "execution_count": 2,
     "metadata": {},
     "output_type": "execute_result"
    }
   ],
   "source": [
    "from estnltk.taggers import NerTagger\n",
    "\n",
    "nertagger = NerTagger(output_layer='estnltk_ner')\n",
    "r_estimator.evaluate_tagger(nertagger, \"EstNLTK-default-NER\")"
   ]
  },
  {
   "cell_type": "code",
   "execution_count": 3,
   "id": "7e0d38ac",
   "metadata": {},
   "outputs": [
    {
     "data": {
      "text/html": [
       "<div>\n",
       "<style scoped>\n",
       "    .dataframe tbody tr th:only-of-type {\n",
       "        vertical-align: middle;\n",
       "    }\n",
       "\n",
       "    .dataframe tbody tr th {\n",
       "        vertical-align: top;\n",
       "    }\n",
       "\n",
       "    .dataframe thead th {\n",
       "        text-align: right;\n",
       "    }\n",
       "</style>\n",
       "<table border=\"1\" class=\"dataframe\">\n",
       "  <thead>\n",
       "    <tr style=\"text-align: right;\">\n",
       "      <th></th>\n",
       "      <th>Recall</th>\n",
       "      <th>Recall-95CI%</th>\n",
       "      <th>correct</th>\n",
       "      <th>incorrect</th>\n",
       "    </tr>\n",
       "  </thead>\n",
       "  <tbody>\n",
       "    <tr>\n",
       "      <th>EstNLTK-default-NER</th>\n",
       "      <td>0.598077</td>\n",
       "      <td>(0.5653302008983152, 0.6308231020235824)</td>\n",
       "      <td>682</td>\n",
       "      <td>758</td>\n",
       "    </tr>\n",
       "  </tbody>\n",
       "</table>\n",
       "</div>"
      ],
      "text/plain": [
       "                       Recall                              Recall-95CI%  \\\n",
       "EstNLTK-default-NER  0.598077  (0.5653302008983152, 0.6308231020235824)   \n",
       "\n",
       "                     correct  incorrect  \n",
       "EstNLTK-default-NER      682        758  "
      ]
     },
     "execution_count": 3,
     "metadata": {},
     "output_type": "execute_result"
    }
   ],
   "source": [
    "r_estimator.leaderboard()"
   ]
  },
  {
   "cell_type": "markdown",
   "id": "e01c190c",
   "metadata": {},
   "source": [
    "### I.II. Kairit's model I"
   ]
  },
  {
   "cell_type": "markdown",
   "id": "72d908cb",
   "metadata": {},
   "source": [
    "#### A. Use EstNLTK's words layer as a basis of tokenization"
   ]
  },
  {
   "cell_type": "code",
   "execution_count": 4,
   "id": "348c2c28",
   "metadata": {},
   "outputs": [
    {
     "name": "stderr",
     "output_type": "stream",
     "text": [
      "C:\\Programmid\\Miniconda3\\envs\\py39_devel\\lib\\site-packages\\tqdm-4.66.0-py3.9.egg\\tqdm\\auto.py:21: TqdmWarning: IProgress not found. Please update jupyter and ipywidgets. See https://ipywidgets.readthedocs.io/en/stable/user_install.html\n",
      "  from .autonotebook import tqdm as notebook_tqdm\n",
      "Some weights of the model checkpoint at C:\\Programmid\\Miniconda3\\envs\\py39_devel\\lib\\site-packages\\estnltk-1.7.2-py3.9-win-amd64.egg\\estnltk\\estnltk_resources\\estbert\\ner_model_hf_tartunlp_2022-05-06\\ were not used when initializing BertForTokenClassification: ['bert.pooler.dense.weight', 'bert.pooler.dense.bias']\n",
      "- This IS expected if you are initializing BertForTokenClassification from the checkpoint of a model trained on another task or with another architecture (e.g. initializing a BertForSequenceClassification model from a BertForPreTraining model).\n",
      "- This IS NOT expected if you are initializing BertForTokenClassification from the checkpoint of a model that you expect to be exactly identical (initializing a BertForSequenceClassification model from a BertForSequenceClassification model).\n",
      " 23%|███████████████████████████████████████▎                                                                                                                                 | 335/1440 [00:33<01:48, 10.18it/s]"
     ]
    },
    {
     "name": "stdout",
     "output_type": "stream",
     "text": [
      "ERROR:estbertner_tagger.py:204: Skipping [UNK] token with tag 'I-ORG' from annotations.\n"
     ]
    },
    {
     "name": "stderr",
     "output_type": "stream",
     "text": [
      "100%|████████████████████████████████████████████████████████████████████████████████████████████████████████████████████████████████████████████████████████████████████████| 1440/1440 [02:37<00:00,  9.16it/s]\n"
     ]
    },
    {
     "data": {
      "text/plain": [
       "{'Recall': 0.767164079175562,\n",
       " 'Recall-95CI%': (0.7389358709815992, 0.7953922873695247),\n",
       " 'correct': 1092,\n",
       " 'incorrect': 348}"
      ]
     },
     "execution_count": 4,
     "metadata": {},
     "output_type": "execute_result"
    }
   ],
   "source": [
    "from estnltk_neural.taggers import EstBERTNERTagger\n",
    "\n",
    "# Evaluate on neural NER aligned with EstNLTK's words layer\n",
    "kairit_11 = EstBERTNERTagger(output_layer='estbertner_v1_estnltk_words', custom_words_layer='words')\n",
    "r_estimator.evaluate_tagger(kairit_11, \"EstBertNER-v1-estnltk_words\")"
   ]
  },
  {
   "cell_type": "markdown",
   "id": "1de30068",
   "metadata": {},
   "source": [
    "#### B. Use Bert's default tokenization"
   ]
  },
  {
   "cell_type": "code",
   "execution_count": 5,
   "id": "b995db06",
   "metadata": {},
   "outputs": [
    {
     "name": "stderr",
     "output_type": "stream",
     "text": [
      "Some weights of the model checkpoint at C:\\Programmid\\Miniconda3\\envs\\py39_devel\\lib\\site-packages\\estnltk-1.7.2-py3.9-win-amd64.egg\\estnltk\\estnltk_resources\\estbert\\ner_model_hf_tartunlp_2022-05-06\\ were not used when initializing BertForTokenClassification: ['bert.pooler.dense.weight', 'bert.pooler.dense.bias']\n",
      "- This IS expected if you are initializing BertForTokenClassification from the checkpoint of a model trained on another task or with another architecture (e.g. initializing a BertForSequenceClassification model from a BertForPreTraining model).\n",
      "- This IS NOT expected if you are initializing BertForTokenClassification from the checkpoint of a model that you expect to be exactly identical (initializing a BertForSequenceClassification model from a BertForSequenceClassification model).\n",
      " 23%|███████████████████████████████████████▏                                                                                                                                 | 334/1440 [00:45<03:11,  5.77it/s]"
     ]
    },
    {
     "name": "stdout",
     "output_type": "stream",
     "text": [
      "ERROR:estbertner_tagger.py:204: Skipping [UNK] token with tag 'I-ORG' from annotations.\n"
     ]
    },
    {
     "name": "stderr",
     "output_type": "stream",
     "text": [
      "100%|████████████████████████████████████████████████████████████████████████████████████████████████████████████████████████████████████████████████████████████████████████| 1440/1440 [03:07<00:00,  7.67it/s]\n"
     ]
    },
    {
     "data": {
      "text/plain": [
       "{'Recall': 0.6260053256866194,\n",
       " 'Recall-95CI%': (0.5936879628742688, 0.6583226884989699),\n",
       " 'correct': 911,\n",
       " 'incorrect': 529}"
      ]
     },
     "execution_count": 5,
     "metadata": {},
     "output_type": "execute_result"
    }
   ],
   "source": [
    "from estnltk_neural.taggers import EstBERTNERTagger\n",
    "\n",
    "# Evaluate on neural NER with its own (Bert's) tokenization\n",
    "kairit_12 = EstBERTNERTagger(output_layer='estbertner_v1_bert_tokens', custom_words_layer=None)\n",
    "r_estimator.evaluate_tagger(kairit_12, \"EstBertNER-v1-bert_tokens\")"
   ]
  },
  {
   "cell_type": "markdown",
   "id": "3cd49a7a",
   "metadata": {},
   "source": [
    "### I.III. Kairit's model II"
   ]
  },
  {
   "cell_type": "markdown",
   "id": "7eb06f59",
   "metadata": {},
   "source": [
    "#### A. Use EstNLTK's words layer as a basis of tokenization"
   ]
  },
  {
   "cell_type": "code",
   "execution_count": 6,
   "id": "62dfe896",
   "metadata": {},
   "outputs": [
    {
     "name": "stderr",
     "output_type": "stream",
     "text": [
      " 33%|████████████████████████████████████████████████████████▎                                                                                                                | 480/1440 [01:11<03:28,  4.60it/s]C:\\Kraam\\estnltk_1.7_aux\\estnltk-model-data\\named_entity_recognition\\recall_estimation\\benchmarks\\helper_utils.py:307: UserWarning: (!) Faild processing '3 ) sellega seoses on kooskõlas ühenduse õigusega vaja järk-järgult reformida ja ajakohastada olemasolevat kaudse maksustamise korda , mille eesmärk on hüvitada piirkonna saarelist staatust ja geograafilist eraldatust ; sel eesmärgil on muude vastuvõetud meetmete hulgas lubatud määrusega ( EMÜ ) nr 1911/91  3  kohaldada Kanaari saarte suhtes uut tootmis- ja impordimaksu ( “ arbitrio sobre la productión y sobre las importaciones ” ( APIM ) ) kuni 31. detsembrini 2000 ;' due to an error:\n",
      " (\"(!) Cannot find bert_token's 'y' text location at 'es ” ( APIM ) ) kuni 31. detsembrini 2000 ;'.\", \"in the 'EstBERTNERTagger'\")\n",
      "  warnings.warn(f'(!) Faild processing {eval_sentence.text!r} due to an error:\\n {ex}')\n",
      " 84%|█████████████████████████████████████████████████████████████████████████████████████████████████████████████████████████████████████████████                           | 1209/1440 [02:42<00:26,  8.72it/s]C:\\Kraam\\estnltk_1.7_aux\\estnltk-model-data\\named_entity_recognition\\recall_estimation\\benchmarks\\helper_utils.py:307: UserWarning: (!) Faild processing '- “ pointe de Trévignoni ” ja Laïta jõe suudme vaheline rannikuala ,' due to an error:\n",
      " (\"(!) Cannot find bert_token's 'lait' text location at ' Laïta jõe suudme vaheline rannikuala ,'.\", \"in the 'EstBERTNERTagger'\")\n",
      "  warnings.warn(f'(!) Faild processing {eval_sentence.text!r} due to an error:\\n {ex}')\n",
      "100%|████████████████████████████████████████████████████████████████████████████████████████████████████████████████████████████████████████████████████████████████████████| 1440/1440 [03:09<00:00,  7.58it/s]\n"
     ]
    },
    {
     "data": {
      "text/plain": [
       "{'Recall': 0.5979319456741476,\n",
       " 'Recall-95CI%': (0.5651835632216582, 0.6306803281266371),\n",
       " 'correct': 707,\n",
       " 'incorrect': 733}"
      ]
     },
     "execution_count": 6,
     "metadata": {},
     "output_type": "execute_result"
    }
   ],
   "source": [
    "from estnltk_neural.taggers import EstBERTNERTagger\n",
    "from estnltk import get_resource_paths\n",
    "\n",
    "kairit_21 = EstBERTNERTagger(output_layer='estbertner_v2_estnltk_words', custom_words_layer='words', \n",
    "                             model_location=get_resource_paths(\"estbertner_v2\", only_latest=True, download_missing=True))\n",
    "r_estimator.evaluate_tagger(kairit_21, \"EstBertNER-v2-estnltk_words\", ignore_errors=True)"
   ]
  },
  {
   "cell_type": "markdown",
   "id": "181639c4",
   "metadata": {},
   "source": [
    "#### B. Use Bert's default tokenization"
   ]
  },
  {
   "cell_type": "code",
   "execution_count": 7,
   "id": "de52aa47",
   "metadata": {},
   "outputs": [
    {
     "name": "stderr",
     "output_type": "stream",
     "text": [
      " 33%|████████████████████████████████████████████████████████▎                                                                                                                | 480/1440 [00:59<02:53,  5.54it/s]C:\\Kraam\\estnltk_1.7_aux\\estnltk-model-data\\named_entity_recognition\\recall_estimation\\benchmarks\\helper_utils.py:307: UserWarning: (!) Faild processing '3 ) sellega seoses on kooskõlas ühenduse õigusega vaja järk-järgult reformida ja ajakohastada olemasolevat kaudse maksustamise korda , mille eesmärk on hüvitada piirkonna saarelist staatust ja geograafilist eraldatust ; sel eesmärgil on muude vastuvõetud meetmete hulgas lubatud määrusega ( EMÜ ) nr 1911/91  3  kohaldada Kanaari saarte suhtes uut tootmis- ja impordimaksu ( “ arbitrio sobre la productión y sobre las importaciones ” ( APIM ) ) kuni 31. detsembrini 2000 ;' due to an error:\n",
      " (\"(!) Cannot find bert_token's 'y' text location at 'es ” ( APIM ) ) kuni 31. detsembrini 2000 ;'.\", \"in the 'EstBERTNERTagger'\")\n",
      "  warnings.warn(f'(!) Faild processing {eval_sentence.text!r} due to an error:\\n {ex}')\n",
      " 84%|█████████████████████████████████████████████████████████████████████████████████████████████████████████████████████████████████████████████                           | 1209/1440 [02:32<00:25,  8.99it/s]C:\\Kraam\\estnltk_1.7_aux\\estnltk-model-data\\named_entity_recognition\\recall_estimation\\benchmarks\\helper_utils.py:307: UserWarning: (!) Faild processing '- “ pointe de Trévignoni ” ja Laïta jõe suudme vaheline rannikuala ,' due to an error:\n",
      " (\"(!) Cannot find bert_token's 'lait' text location at ' Laïta jõe suudme vaheline rannikuala ,'.\", \"in the 'EstBERTNERTagger'\")\n",
      "  warnings.warn(f'(!) Faild processing {eval_sentence.text!r} due to an error:\\n {ex}')\n",
      "100%|████████████████████████████████████████████████████████████████████████████████████████████████████████████████████████████████████████████████████████████████████████| 1440/1440 [02:58<00:00,  8.07it/s]\n"
     ]
    },
    {
     "data": {
      "text/plain": [
       "{'Recall': 0.23791781003324766,\n",
       " 'Recall-95CI%': (0.20947787670839105, 0.26635774335810425),\n",
       " 'correct': 356,\n",
       " 'incorrect': 1084}"
      ]
     },
     "execution_count": 7,
     "metadata": {},
     "output_type": "execute_result"
    }
   ],
   "source": [
    "from estnltk import get_resource_paths\n",
    "kairit_22 = EstBERTNERTagger(output_layer='estbertner_v2_bert_tokens', custom_words_layer=None, \n",
    "                             model_location=get_resource_paths(\"estbertner_v2\", only_latest=True, download_missing=True))\n",
    "r_estimator.evaluate_tagger(kairit_22, \"EstBertNER-v2-bert_tokens\", ignore_errors=True)"
   ]
  },
  {
   "cell_type": "markdown",
   "id": "97c0f29d",
   "metadata": {},
   "source": [
    "## II. Summarise results"
   ]
  },
  {
   "cell_type": "code",
   "execution_count": 8,
   "id": "90fe9e4e",
   "metadata": {},
   "outputs": [
    {
     "data": {
      "text/html": [
       "<div>\n",
       "<style scoped>\n",
       "    .dataframe tbody tr th:only-of-type {\n",
       "        vertical-align: middle;\n",
       "    }\n",
       "\n",
       "    .dataframe tbody tr th {\n",
       "        vertical-align: top;\n",
       "    }\n",
       "\n",
       "    .dataframe thead th {\n",
       "        text-align: right;\n",
       "    }\n",
       "</style>\n",
       "<table border=\"1\" class=\"dataframe\">\n",
       "  <thead>\n",
       "    <tr style=\"text-align: right;\">\n",
       "      <th></th>\n",
       "      <th>Recall</th>\n",
       "      <th>Recall-95CI%</th>\n",
       "      <th>correct</th>\n",
       "      <th>incorrect</th>\n",
       "    </tr>\n",
       "  </thead>\n",
       "  <tbody>\n",
       "    <tr>\n",
       "      <th>EstBertNER-v1-estnltk_words</th>\n",
       "      <td>0.767164</td>\n",
       "      <td>(0.7389358709815992, 0.7953922873695247)</td>\n",
       "      <td>1092</td>\n",
       "      <td>348</td>\n",
       "    </tr>\n",
       "    <tr>\n",
       "      <th>EstBertNER-v1-bert_tokens</th>\n",
       "      <td>0.626005</td>\n",
       "      <td>(0.5936879628742688, 0.6583226884989699)</td>\n",
       "      <td>911</td>\n",
       "      <td>529</td>\n",
       "    </tr>\n",
       "    <tr>\n",
       "      <th>EstNLTK-default-NER</th>\n",
       "      <td>0.598077</td>\n",
       "      <td>(0.5653302008983152, 0.6308231020235824)</td>\n",
       "      <td>682</td>\n",
       "      <td>758</td>\n",
       "    </tr>\n",
       "    <tr>\n",
       "      <th>EstBertNER-v2-estnltk_words</th>\n",
       "      <td>0.597932</td>\n",
       "      <td>(0.5651835632216582, 0.6306803281266371)</td>\n",
       "      <td>707</td>\n",
       "      <td>733</td>\n",
       "    </tr>\n",
       "    <tr>\n",
       "      <th>EstBertNER-v2-bert_tokens</th>\n",
       "      <td>0.237918</td>\n",
       "      <td>(0.20947787670839105, 0.26635774335810425)</td>\n",
       "      <td>356</td>\n",
       "      <td>1084</td>\n",
       "    </tr>\n",
       "  </tbody>\n",
       "</table>\n",
       "</div>"
      ],
      "text/plain": [
       "                               Recall  \\\n",
       "EstBertNER-v1-estnltk_words  0.767164   \n",
       "EstBertNER-v1-bert_tokens    0.626005   \n",
       "EstNLTK-default-NER          0.598077   \n",
       "EstBertNER-v2-estnltk_words  0.597932   \n",
       "EstBertNER-v2-bert_tokens    0.237918   \n",
       "\n",
       "                                                           Recall-95CI%  \\\n",
       "EstBertNER-v1-estnltk_words    (0.7389358709815992, 0.7953922873695247)   \n",
       "EstBertNER-v1-bert_tokens      (0.5936879628742688, 0.6583226884989699)   \n",
       "EstNLTK-default-NER            (0.5653302008983152, 0.6308231020235824)   \n",
       "EstBertNER-v2-estnltk_words    (0.5651835632216582, 0.6306803281266371)   \n",
       "EstBertNER-v2-bert_tokens    (0.20947787670839105, 0.26635774335810425)   \n",
       "\n",
       "                             correct  incorrect  \n",
       "EstBertNER-v1-estnltk_words     1092        348  \n",
       "EstBertNER-v1-bert_tokens        911        529  \n",
       "EstNLTK-default-NER              682        758  \n",
       "EstBertNER-v2-estnltk_words      707        733  \n",
       "EstBertNER-v2-bert_tokens        356       1084  "
      ]
     },
     "execution_count": 8,
     "metadata": {},
     "output_type": "execute_result"
    }
   ],
   "source": [
    "r_estimator.leaderboard()"
   ]
  },
  {
   "cell_type": "code",
   "execution_count": 9,
   "id": "14171107",
   "metadata": {},
   "outputs": [],
   "source": [
    "# Use default ordering and save to CSV\n",
    "r_estimator.leaderboard(order_by_recall=False).to_csv('leaderboard_amundsen_02.csv')"
   ]
  },
  {
   "cell_type": "markdown",
   "id": "3aed8637",
   "metadata": {},
   "source": [
    "---"
   ]
  }
 ],
 "metadata": {
  "kernelspec": {
   "display_name": "Python 3 (ipykernel)",
   "language": "python",
   "name": "python3"
  },
  "language_info": {
   "codemirror_mode": {
    "name": "ipython",
    "version": 3
   },
   "file_extension": ".py",
   "mimetype": "text/x-python",
   "name": "python",
   "nbconvert_exporter": "python",
   "pygments_lexer": "ipython3",
   "version": "3.9.17"
  }
 },
 "nbformat": 4,
 "nbformat_minor": 5
}
