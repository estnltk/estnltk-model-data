{
 "cells": [
  {
   "cell_type": "markdown",
   "id": "38a03d26",
   "metadata": {},
   "source": [
    "# Benchmark evaluation"
   ]
  },
  {
   "cell_type": "markdown",
   "id": "89788233",
   "metadata": {},
   "source": [
    "## I. Evaluate algorithms on the benchmark data "
   ]
  },
  {
   "cell_type": "code",
   "execution_count": 1,
   "id": "95567b54",
   "metadata": {},
   "outputs": [
    {
     "name": "stdout",
     "output_type": "stream",
     "text": [
      "Loaded evaluation benchmark of size 1685.\n"
     ]
    }
   ],
   "source": [
    "from helper_utils import RecallEstimator\n",
    "\n",
    "r_estimator = RecallEstimator('amundsen_02/data_description.csv')"
   ]
  },
  {
   "cell_type": "markdown",
   "id": "c0ecbd0a",
   "metadata": {},
   "source": [
    "### I.I. EstNLTK's default model"
   ]
  },
  {
   "cell_type": "code",
   "execution_count": 2,
   "id": "33f2afb1",
   "metadata": {},
   "outputs": [
    {
     "name": "stderr",
     "output_type": "stream",
     "text": [
      "100%|████████████████████████████████████████████████████████████████████████████████████████████████████████████████████████████████████████████████████████████████████████| 1685/1685 [02:53<00:00,  9.69it/s]\n"
     ]
    },
    {
     "data": {
      "text/plain": [
       "{'Recall': 0.5863719147123075,\n",
       " 'Recall-95CI%': (0.5556871420680223, 0.6170566873565928),\n",
       " 'correct': 775,\n",
       " 'incorrect': 910}"
      ]
     },
     "execution_count": 2,
     "metadata": {},
     "output_type": "execute_result"
    }
   ],
   "source": [
    "from estnltk.taggers import NerTagger\n",
    "\n",
    "nertagger = NerTagger(output_layer='estnltk_ner')\n",
    "r_estimator.evaluate_tagger(nertagger, \"EstNLTK-default-NER\")"
   ]
  },
  {
   "cell_type": "code",
   "execution_count": 3,
   "id": "7e0d38ac",
   "metadata": {},
   "outputs": [
    {
     "data": {
      "text/html": [
       "<div>\n",
       "<style scoped>\n",
       "    .dataframe tbody tr th:only-of-type {\n",
       "        vertical-align: middle;\n",
       "    }\n",
       "\n",
       "    .dataframe tbody tr th {\n",
       "        vertical-align: top;\n",
       "    }\n",
       "\n",
       "    .dataframe thead th {\n",
       "        text-align: right;\n",
       "    }\n",
       "</style>\n",
       "<table border=\"1\" class=\"dataframe\">\n",
       "  <thead>\n",
       "    <tr style=\"text-align: right;\">\n",
       "      <th></th>\n",
       "      <th>Recall</th>\n",
       "      <th>Recall-95CI%</th>\n",
       "      <th>correct</th>\n",
       "      <th>incorrect</th>\n",
       "    </tr>\n",
       "  </thead>\n",
       "  <tbody>\n",
       "    <tr>\n",
       "      <th>EstNLTK-default-NER</th>\n",
       "      <td>0.586372</td>\n",
       "      <td>(0.5556871420680223, 0.6170566873565928)</td>\n",
       "      <td>775</td>\n",
       "      <td>910</td>\n",
       "    </tr>\n",
       "  </tbody>\n",
       "</table>\n",
       "</div>"
      ],
      "text/plain": [
       "                       Recall                              Recall-95CI%  \\\n",
       "EstNLTK-default-NER  0.586372  (0.5556871420680223, 0.6170566873565928)   \n",
       "\n",
       "                     correct  incorrect  \n",
       "EstNLTK-default-NER      775        910  "
      ]
     },
     "execution_count": 3,
     "metadata": {},
     "output_type": "execute_result"
    }
   ],
   "source": [
    "r_estimator.leaderboard()"
   ]
  },
  {
   "cell_type": "markdown",
   "id": "e01c190c",
   "metadata": {},
   "source": [
    "### I.II. Kairit's model I"
   ]
  },
  {
   "cell_type": "markdown",
   "id": "72d908cb",
   "metadata": {},
   "source": [
    "#### A. Use EstNLTK's words layer as a basis of tokenization"
   ]
  },
  {
   "cell_type": "code",
   "execution_count": 4,
   "id": "348c2c28",
   "metadata": {},
   "outputs": [
    {
     "name": "stderr",
     "output_type": "stream",
     "text": [
      "C:\\Programmid\\Miniconda3\\envs\\py39_devel\\lib\\site-packages\\tqdm-4.66.0-py3.9.egg\\tqdm\\auto.py:21: TqdmWarning: IProgress not found. Please update jupyter and ipywidgets. See https://ipywidgets.readthedocs.io/en/stable/user_install.html\n",
      "  from .autonotebook import tqdm as notebook_tqdm\n",
      "Downloading resources index: 20.1kB [00:00, ?B/s]\n",
      "Some weights of the model checkpoint at C:\\Programmid\\Miniconda3\\envs\\py39_devel\\lib\\site-packages\\estnltk-1.7.2-py3.9-win-amd64.egg\\estnltk\\estnltk_resources\\estbert\\ner_model_hf_tartunlp_2022-05-06\\ were not used when initializing BertForTokenClassification: ['bert.pooler.dense.bias', 'bert.pooler.dense.weight']\n",
      "- This IS expected if you are initializing BertForTokenClassification from the checkpoint of a model trained on another task or with another architecture (e.g. initializing a BertForSequenceClassification model from a BertForPreTraining model).\n",
      "- This IS NOT expected if you are initializing BertForTokenClassification from the checkpoint of a model that you expect to be exactly identical (initializing a BertForSequenceClassification model from a BertForSequenceClassification model).\n",
      "100%|████████████████████████████████████████████████████████████████████████████████████████████████████████████████████████████████████████████████████████████████████████| 1685/1685 [02:57<00:00,  9.51it/s]\n"
     ]
    },
    {
     "data": {
      "text/plain": [
       "{'Recall': 0.7641942790662142,\n",
       " 'Recall-95CI%': (0.7377452106929332, 0.7906433474394952),\n",
       " 'correct': 1257,\n",
       " 'incorrect': 428}"
      ]
     },
     "execution_count": 4,
     "metadata": {},
     "output_type": "execute_result"
    }
   ],
   "source": [
    "from estnltk_neural.taggers import EstBERTNERTagger\n",
    "\n",
    "# Evaluate on neural NER aligned with EstNLTK's words layer\n",
    "kairit_11 = EstBERTNERTagger(output_layer='estbertner_v1_estnltk_words', custom_words_layer='words')\n",
    "r_estimator.evaluate_tagger(kairit_11, \"EstBertNER-v1-estnltk_words\")"
   ]
  },
  {
   "cell_type": "markdown",
   "id": "1de30068",
   "metadata": {},
   "source": [
    "#### B. Use Bert's default tokenization"
   ]
  },
  {
   "cell_type": "code",
   "execution_count": 5,
   "id": "b995db06",
   "metadata": {},
   "outputs": [
    {
     "name": "stderr",
     "output_type": "stream",
     "text": [
      "Some weights of the model checkpoint at C:\\Programmid\\Miniconda3\\envs\\py39_devel\\lib\\site-packages\\estnltk-1.7.2-py3.9-win-amd64.egg\\estnltk\\estnltk_resources\\estbert\\ner_model_hf_tartunlp_2022-05-06\\ were not used when initializing BertForTokenClassification: ['bert.pooler.dense.bias', 'bert.pooler.dense.weight']\n",
      "- This IS expected if you are initializing BertForTokenClassification from the checkpoint of a model trained on another task or with another architecture (e.g. initializing a BertForSequenceClassification model from a BertForPreTraining model).\n",
      "- This IS NOT expected if you are initializing BertForTokenClassification from the checkpoint of a model that you expect to be exactly identical (initializing a BertForSequenceClassification model from a BertForSequenceClassification model).\n",
      "100%|████████████████████████████████████████████████████████████████████████████████████████████████████████████████████████████████████████████████████████████████████████| 1685/1685 [02:58<00:00,  9.41it/s]\n"
     ]
    },
    {
     "data": {
      "text/plain": [
       "{'Recall': 0.6201637929998809,\n",
       " 'Recall-95CI%': (0.5899237291790453, 0.6504038568207164),\n",
       " 'correct': 1048,\n",
       " 'incorrect': 637}"
      ]
     },
     "execution_count": 5,
     "metadata": {},
     "output_type": "execute_result"
    }
   ],
   "source": [
    "from estnltk_neural.taggers import EstBERTNERTagger\n",
    "\n",
    "# Evaluate on neural NER with its own (Bert's) tokenization\n",
    "kairit_12 = EstBERTNERTagger(output_layer='estbertner_v1_bert_tokens', custom_words_layer=None)\n",
    "r_estimator.evaluate_tagger(kairit_12, \"EstBertNER-v1-bert_tokens\")"
   ]
  },
  {
   "cell_type": "markdown",
   "id": "3cd49a7a",
   "metadata": {},
   "source": [
    "### I.III. Kairit's model II"
   ]
  },
  {
   "cell_type": "markdown",
   "id": "7eb06f59",
   "metadata": {},
   "source": [
    "#### A. Use EstNLTK's words layer as a basis of tokenization"
   ]
  },
  {
   "cell_type": "code",
   "execution_count": 6,
   "id": "62dfe896",
   "metadata": {},
   "outputs": [
    {
     "name": "stderr",
     "output_type": "stream",
     "text": [
      "100%|████████████████████████████████████████████████████████████████████████████████████████████████████████████████████████████████████████████████████████████████████████| 1685/1685 [03:11<00:00,  8.79it/s]\n"
     ]
    },
    {
     "data": {
      "text/plain": [
       "{'Recall': 0.5963349602094155,\n",
       " 'Recall-95CI%': (0.565765552522316, 0.6269043678965149),\n",
       " 'correct': 816,\n",
       " 'incorrect': 869}"
      ]
     },
     "execution_count": 6,
     "metadata": {},
     "output_type": "execute_result"
    }
   ],
   "source": [
    "from estnltk_neural.taggers import EstBERTNERTagger\n",
    "from estnltk import get_resource_paths\n",
    "\n",
    "kairit_21 = EstBERTNERTagger(output_layer='estbertner_v2_estnltk_words', custom_words_layer='words', \n",
    "                             model_location=get_resource_paths(\"estbertner_v2\", only_latest=True, download_missing=True))\n",
    "r_estimator.evaluate_tagger(kairit_21, \"EstBertNER-v2-estnltk_words\", ignore_errors=True)"
   ]
  },
  {
   "cell_type": "markdown",
   "id": "181639c4",
   "metadata": {},
   "source": [
    "#### B. Use Bert's default tokenization"
   ]
  },
  {
   "cell_type": "code",
   "execution_count": 7,
   "id": "de52aa47",
   "metadata": {},
   "outputs": [
    {
     "name": "stderr",
     "output_type": "stream",
     "text": [
      "100%|████████████████████████████████████████████████████████████████████████████████████████████████████████████████████████████████████████████████████████████████████████| 1685/1685 [03:28<00:00,  8.09it/s]\n"
     ]
    },
    {
     "data": {
      "text/plain": [
       "{'Recall': 0.23890777215371042,\n",
       " 'Recall-95CI%': (0.21233939043790626, 0.26547615386951456),\n",
       " 'correct': 412,\n",
       " 'incorrect': 1273}"
      ]
     },
     "execution_count": 7,
     "metadata": {},
     "output_type": "execute_result"
    }
   ],
   "source": [
    "from estnltk import get_resource_paths\n",
    "kairit_22 = EstBERTNERTagger(output_layer='estbertner_v2_bert_tokens', custom_words_layer=None, \n",
    "                             model_location=get_resource_paths(\"estbertner_v2\", only_latest=True, download_missing=True))\n",
    "r_estimator.evaluate_tagger(kairit_22, \"EstBertNER-v2-bert_tokens\", ignore_errors=True)"
   ]
  },
  {
   "cell_type": "markdown",
   "id": "97c0f29d",
   "metadata": {},
   "source": [
    "## II. Summarise results"
   ]
  },
  {
   "cell_type": "code",
   "execution_count": 8,
   "id": "90fe9e4e",
   "metadata": {},
   "outputs": [
    {
     "data": {
      "text/html": [
       "<div>\n",
       "<style scoped>\n",
       "    .dataframe tbody tr th:only-of-type {\n",
       "        vertical-align: middle;\n",
       "    }\n",
       "\n",
       "    .dataframe tbody tr th {\n",
       "        vertical-align: top;\n",
       "    }\n",
       "\n",
       "    .dataframe thead th {\n",
       "        text-align: right;\n",
       "    }\n",
       "</style>\n",
       "<table border=\"1\" class=\"dataframe\">\n",
       "  <thead>\n",
       "    <tr style=\"text-align: right;\">\n",
       "      <th></th>\n",
       "      <th>Recall</th>\n",
       "      <th>Recall-95CI%</th>\n",
       "      <th>correct</th>\n",
       "      <th>incorrect</th>\n",
       "    </tr>\n",
       "  </thead>\n",
       "  <tbody>\n",
       "    <tr>\n",
       "      <th>EstBertNER-v1-estnltk_words</th>\n",
       "      <td>0.764194</td>\n",
       "      <td>(0.7377452106929332, 0.7906433474394952)</td>\n",
       "      <td>1257</td>\n",
       "      <td>428</td>\n",
       "    </tr>\n",
       "    <tr>\n",
       "      <th>EstBertNER-v1-bert_tokens</th>\n",
       "      <td>0.620164</td>\n",
       "      <td>(0.5899237291790453, 0.6504038568207164)</td>\n",
       "      <td>1048</td>\n",
       "      <td>637</td>\n",
       "    </tr>\n",
       "    <tr>\n",
       "      <th>EstBertNER-v2-estnltk_words</th>\n",
       "      <td>0.596335</td>\n",
       "      <td>(0.565765552522316, 0.6269043678965149)</td>\n",
       "      <td>816</td>\n",
       "      <td>869</td>\n",
       "    </tr>\n",
       "    <tr>\n",
       "      <th>EstNLTK-default-NER</th>\n",
       "      <td>0.586372</td>\n",
       "      <td>(0.5556871420680223, 0.6170566873565928)</td>\n",
       "      <td>775</td>\n",
       "      <td>910</td>\n",
       "    </tr>\n",
       "    <tr>\n",
       "      <th>EstBertNER-v2-bert_tokens</th>\n",
       "      <td>0.238908</td>\n",
       "      <td>(0.21233939043790626, 0.26547615386951456)</td>\n",
       "      <td>412</td>\n",
       "      <td>1273</td>\n",
       "    </tr>\n",
       "  </tbody>\n",
       "</table>\n",
       "</div>"
      ],
      "text/plain": [
       "                               Recall  \\\n",
       "EstBertNER-v1-estnltk_words  0.764194   \n",
       "EstBertNER-v1-bert_tokens    0.620164   \n",
       "EstBertNER-v2-estnltk_words  0.596335   \n",
       "EstNLTK-default-NER          0.586372   \n",
       "EstBertNER-v2-bert_tokens    0.238908   \n",
       "\n",
       "                                                           Recall-95CI%  \\\n",
       "EstBertNER-v1-estnltk_words    (0.7377452106929332, 0.7906433474394952)   \n",
       "EstBertNER-v1-bert_tokens      (0.5899237291790453, 0.6504038568207164)   \n",
       "EstBertNER-v2-estnltk_words     (0.565765552522316, 0.6269043678965149)   \n",
       "EstNLTK-default-NER            (0.5556871420680223, 0.6170566873565928)   \n",
       "EstBertNER-v2-bert_tokens    (0.21233939043790626, 0.26547615386951456)   \n",
       "\n",
       "                             correct  incorrect  \n",
       "EstBertNER-v1-estnltk_words     1257        428  \n",
       "EstBertNER-v1-bert_tokens       1048        637  \n",
       "EstBertNER-v2-estnltk_words      816        869  \n",
       "EstNLTK-default-NER              775        910  \n",
       "EstBertNER-v2-bert_tokens        412       1273  "
      ]
     },
     "execution_count": 8,
     "metadata": {},
     "output_type": "execute_result"
    }
   ],
   "source": [
    "r_estimator.leaderboard()"
   ]
  },
  {
   "cell_type": "code",
   "execution_count": 9,
   "id": "14171107",
   "metadata": {},
   "outputs": [],
   "source": [
    "# Use default ordering and save to CSV\n",
    "r_estimator.leaderboard(order_by_recall=False).to_csv('leaderboard_amundsen_02.csv')"
   ]
  },
  {
   "cell_type": "markdown",
   "id": "3aed8637",
   "metadata": {},
   "source": [
    "---"
   ]
  }
 ],
 "metadata": {
  "kernelspec": {
   "display_name": "Python 3 (ipykernel)",
   "language": "python",
   "name": "python3"
  },
  "language_info": {
   "codemirror_mode": {
    "name": "ipython",
    "version": 3
   },
   "file_extension": ".py",
   "mimetype": "text/x-python",
   "name": "python",
   "nbconvert_exporter": "python",
   "pygments_lexer": "ipython3",
   "version": "3.9.17"
  }
 },
 "nbformat": 4,
 "nbformat_minor": 5
}
