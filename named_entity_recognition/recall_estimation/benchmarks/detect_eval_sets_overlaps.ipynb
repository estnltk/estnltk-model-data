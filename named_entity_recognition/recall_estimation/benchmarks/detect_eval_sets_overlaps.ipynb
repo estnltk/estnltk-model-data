{
 "cells": [
  {
   "cell_type": "markdown",
   "id": "6e96ece3",
   "metadata": {},
   "source": [
    "## Detect overlaps in evaluation sets\n",
    "\n",
    "As evaluation sets are based on the same terms (although this likely changes in the future), they may contain overlapping sentences, and overlapping annotations inside these sentences.\n",
    "This code analyses benchmark datasets and detects overlapping/duplicate annotations, which are subject to manual removal."
   ]
  },
  {
   "cell_type": "code",
   "execution_count": 1,
   "id": "8d367f51",
   "metadata": {},
   "outputs": [],
   "source": [
    "from helper_utils import detect_evaluation_sets_overlaps"
   ]
  },
  {
   "cell_type": "code",
   "execution_count": 2,
   "id": "12ae0509",
   "metadata": {},
   "outputs": [
    {
     "name": "stdout",
     "output_type": "stream",
     "text": [
      "Loaded evaluation set '.\\\\amundsen_01' of size 535.\n",
      "Loaded evaluation set '.\\\\amundsen_02' of size 1685.\n",
      "\n",
      "* 'Andres Oper treenib Kehtnas koos Eesti jalgpallikoondisega , kes valmistub EM-valikmänguks võõrsil Fääri saarte vastu , kuigi Aalborgi ründaja peab seda kohtumist laupäeva õhtul kodus telerist vaatama .' has been annotated in multiple evaluation sets:\n",
      "   (99, 111, 'Fääri saarte', ['LOC']) in '.\\\\amundsen_01' subpopulation 'levinumad'\n",
      "   (99, 111, 'Fääri saarte', ['LOC']) in '.\\\\amundsen_02' subpopulation 'G'\n",
      "\n",
      "* 'Eesti sotsiaalministeerium on Taani tööministeeriumi juhitavas Balti mere regiooni tööturupoliitika arendamise sektorprogrammis osalenud alates selle käivitamisest 1999. aasta alguses .' has been annotated in multiple evaluation sets:\n",
      "   (63, 73, 'Balti mere', ['LOC']) in '.\\\\amundsen_01' subpopulation 'levinumad'\n",
      "   (63, 73, 'Balti mere', ['LOC']) in '.\\\\amundsen_02' subpopulation 'G'\n",
      "\n",
      "* 'Briti kuningliku mereväe Balti mere laevastiku eskaader jõudis Tallinna reidile 12. detsembril 1918. aastal .' has been annotated in multiple evaluation sets:\n",
      "   (25, 35, 'Balti mere', ['LOC']) in '.\\\\amundsen_01' subpopulation 'levinumad'\n",
      "   (25, 35, 'Balti mere', ['LOC']) in '.\\\\amundsen_02' subpopulation 'G'\n",
      "\n",
      "* 'Eesti suursaadik Venemaal  Mart Helme  :  Praegu on täiesti unikaalne ajalooline situatsioon , esimest korda saame Balti merd ümbritsevate riikide ja lisaks Venemaaga minna edasi koos , festivaliga me mõtlesimegi selle situatsiooni fikseerida .' has been annotated in multiple evaluation sets:\n",
      "   (115, 125, 'Balti merd', ['LOC']) in '.\\\\amundsen_01' subpopulation 'levinumad'\n",
      "   (115, 125, 'Balti merd', ['LOC']) in '.\\\\amundsen_02' subpopulation 'G'\n",
      "\n",
      "* 'Et Fääri saartel teist puhku kollast hoiatuskaarti näinud Viktor Alonen pole mängukõlbulik ja rivistusse naaseb karistusest vabanenud Andres Oper , pidi Teitur algkoosseisu kallal pead murdma .' has been annotated in multiple evaluation sets:\n",
      "   (3, 16, 'Fääri saartel', ['LOC']) in '.\\\\amundsen_01' subpopulation 'levinumad'\n",
      "   (3, 16, 'Fääri saartel', ['LOC']) in '.\\\\amundsen_02' subpopulation 'G'\n",
      "\n",
      "* 'Venemaal ja Jaapanil pole rahulepet siiani , kuna Jaapan soovib nelja Kuriili saare tagastamist .' has been annotated in multiple evaluation sets:\n",
      "   (70, 83, 'Kuriili saare', ['LOC']) in '.\\\\amundsen_01' subpopulation 'levinumad'\n",
      "   (70, 83, 'Kuriili saare', ['LOC']) in '.\\\\amundsen_02' subpopulation 'G'\n",
      "\n",
      "* 'Kuigi enamik Vormsi saare elanikest on eestlased , kuulub 80% sealsest maast välismaalastele ning 10% riigile , mis teeb sealsete kohalike elanike olukorra keeruliseks .' has been annotated in multiple evaluation sets:\n",
      "   (13, 25, 'Vormsi saare', ['LOC']) in '.\\\\amundsen_01' subpopulation 'levinumad'\n",
      "   (13, 25, 'Vormsi saare', ['LOC']) in '.\\\\amundsen_02' subpopulation 'H'\n",
      "\n",
      "* 'Ameerika-Indoneesia teadlaste grupp leidis Florese saarel džunglis asuvast lubjakivikoopast skeleti , mis näis olevat kuulunud nn kääbikule , vahendab BBC .' has been annotated in multiple evaluation sets:\n",
      "   (43, 57, 'Florese saarel', ['LOC']) in '.\\\\amundsen_01' subpopulation 'levinumad'\n",
      "   (43, 57, 'Florese saarel', ['LOC']) in '.\\\\amundsen_02' subpopulation 'H'\n",
      "\n",
      "* '\" El Nino näib olevat ära teeninud \" aasta patuoina \" tiitli , kuid tema arvele võiks kirjutada ka haruldaselt vähesed tormid Põhja-Atlandil ja Kabiiri merel , \" öeldakse aruandes .' has been annotated in multiple evaluation sets:\n",
      "   (144, 157, 'Kabiiri merel', ['LOC']) in '.\\\\amundsen_01' subpopulation 'levinumad'\n",
      "   (144, 157, 'Kabiiri merel', ['LOC']) in '.\\\\amundsen_02' subpopulation 'H'\n",
      "\n",
      "* '1923. aastal jagasid britid oma mandaatpiirkonna Palestiina kaheks administratiiv-alaks - juutidele anti Jordani jõest läände jääv osa ja araablastele ida poole jääv osa .' has been annotated in multiple evaluation sets:\n",
      "   (105, 118, 'Jordani jõest', ['LOC']) in '.\\\\amundsen_01' subpopulation 'levinumad'\n",
      "   (105, 118, 'Jordani jõest', ['LOC']) in '.\\\\amundsen_02' subpopulation 'H'\n",
      "\n",
      "* 'Lääne-Virumaa talumees Toivo väidab , et tema maadel asuva Põlula allika vesi on parem kui maailmakuulus Evian .' has been annotated in multiple evaluation sets:\n",
      "   (59, 72, 'Põlula allika', ['LOC']) in '.\\\\amundsen_01' subpopulation 'ulejaanud'\n",
      "   (59, 72, 'Põlula allika', ['LOC']) in '.\\\\amundsen_02' subpopulation 'H'\n",
      "\n",
      "* 'Kalevi mängude raames peetud lahtistel sõudmise meistrivõistlust= el Harku järvel võitis meeste ühepaadil Jüri Jaanson sõudeklubist Pärnu sama linna kalevlase Roman Lutoshkini ees .' has been annotated in multiple evaluation sets:\n",
      "   (69, 81, 'Harku järvel', ['LOC']) in '.\\\\amundsen_01' subpopulation 'levinumad'\n",
      "   (69, 81, 'Harku järvel', ['LOC']) in '.\\\\amundsen_02' subpopulation 'H'\n",
      "\n",
      "* 'Kui buss aga üle Luuga jõe viimaks Ivangorod-Narva piiripunkti jõudis , lõi omanik mind Eesti piirivalvuritele letti .' has been annotated in multiple evaluation sets:\n",
      "   (17, 26, 'Luuga jõe', ['LOC']) in '.\\\\amundsen_01' subpopulation 'levinumad'\n",
      "   (17, 26, 'Luuga jõe', ['LOC']) in '.\\\\amundsen_02' subpopulation 'H'\n",
      "\n",
      "* 'Viimase aja arengud Lõuna-Hiina meres on vaid tõestanud probleemi tundlikkust ning olnud järjekordseks tunnistuseks Hiina agressiivsest välispoliitikast , pole aga pakkunud kriisile mingit lahendust .' has been annotated in multiple evaluation sets:\n",
      "   (20, 37, 'Lõuna-Hiina meres', ['LOC']) in '.\\\\amundsen_01' subpopulation 'levinumad'\n",
      "   (20, 37, 'Lõuna-Hiina meres', ['LOC']) in '.\\\\amundsen_02' subpopulation 'H'\n",
      "\n",
      "* 'Ka Pärnu jõkke Reiu jõe suudmealal lasti 120 000 maimu .' has been annotated in multiple evaluation sets:\n",
      "   (15, 23, 'Reiu jõe', ['LOC']) in '.\\\\amundsen_01' subpopulation 'levinumad'\n",
      "   (15, 23, 'Reiu jõe', ['LOC']) in '.\\\\amundsen_02' subpopulation 'H'\n",
      "\n",
      "* 'Uus-Guinea saare idaosa ja lähedalasuvaid saari hõlmav Paapua Uus-Guinea sai iseseisvaks 22 aastat tagasi .' has been annotated in multiple evaluation sets:\n",
      "   (0, 16, 'Uus-Guinea saare', ['LOC']) in '.\\\\amundsen_01' subpopulation 'levinumad'\n",
      "   (0, 16, 'Uus-Guinea saare', ['LOC']) in '.\\\\amundsen_02' subpopulation 'H'\n",
      "\n",
      "* 'Ringid : Tooma Männikjärve raba Tooma , Tooma Männikjärve raba Mustjõgi Männikjärv Tooma , Tooma Kaasikjärve raba Endla järv Männikjärve raba Tooma , Kärde Endla järv Männikjärve raba Tooma .' has been annotated in multiple evaluation sets:\n",
      "   (167, 183, 'Männikjärve raba', ['LOC']) in '.\\\\amundsen_01' subpopulation 'ulejaanud'\n",
      "   (167, 183, 'Männikjärve raba', ['LOC']) in '.\\\\amundsen_02' subpopulation 'H'\n",
      "\n",
      "* 'Manhattani saare , kus kaubanduskeskus asus , avastas 17. sajandil Henry Hudson 11. septembril .' has been annotated in multiple evaluation sets:\n",
      "   (0, 16, 'Manhattani saare', ['LOC']) in '.\\\\amundsen_01' subpopulation 'levinumad'\n",
      "   (0, 16, 'Manhattani saare', ['LOC']) in '.\\\\amundsen_02' subpopulation 'H'\n",
      "\n",
      "* 'Viimase kümne aasta jooksul on ta Taimõri poolsaare risti-põiki läbi sõitnud ja usub , et on leidnud Taimõri järve kaldalt ka inimasustuse jälgi , mis on 4000 aastat vanad .' has been annotated in multiple evaluation sets:\n",
      "   (101, 114, 'Taimõri järve', ['LOC']) in '.\\\\amundsen_02' subpopulation 'G'\n",
      "   (101, 114, 'Taimõri järve', ['LOC']) in '.\\\\amundsen_02' subpopulation 'S'\n",
      "\n",
      "* 'Eesmärgi saavutamiseks on kohalikud turismiettevõtjad investeerinud uue golfikeskuse ehitamisse , vald korrastab Pühajärve randa ja suurenev turistide hulk innustab ettevõtjaid rajama ka uusi hotellikohti .' has been annotated in multiple evaluation sets:\n",
      "   (113, 128, 'Pühajärve randa', ['LOC']) in '.\\\\amundsen_01' subpopulation 'ulejaanud'\n",
      "   (113, 128, 'Pühajärve randa', ['LOC']) in '.\\\\amundsen_02' subpopulation 'S'\n",
      "\n",
      "* 'Kohila lähistel Rabivere raba serval näitas poiss kätte eelmisel päeval kadunud Nordeni torke ja lõikehaavadega surnukeha .' has been annotated in multiple evaluation sets:\n",
      "   (16, 29, 'Rabivere raba', ['LOC']) in '.\\\\amundsen_01' subpopulation 'ulejaanud'\n",
      "   (16, 29, 'Rabivere raba', ['LOC']) in '.\\\\amundsen_02' subpopulation 'S'\n",
      "\n",
      "\n",
      " Total duplicate sentences:             24 / 2220 (1.08%)\n",
      " Total duplicate sentence annotations:  21 / 2220 (0.95%)\n"
     ]
    }
   ],
   "source": [
    "overlapping_sentences = detect_evaluation_sets_overlaps(verbose=True)"
   ]
  }
 ],
 "metadata": {
  "kernelspec": {
   "display_name": "Python 3 (ipykernel)",
   "language": "python",
   "name": "python3"
  },
  "language_info": {
   "codemirror_mode": {
    "name": "ipython",
    "version": 3
   },
   "file_extension": ".py",
   "mimetype": "text/x-python",
   "name": "python",
   "nbconvert_exporter": "python",
   "pygments_lexer": "ipython3",
   "version": "3.9.17"
  }
 },
 "nbformat": 4,
 "nbformat_minor": 5
}
