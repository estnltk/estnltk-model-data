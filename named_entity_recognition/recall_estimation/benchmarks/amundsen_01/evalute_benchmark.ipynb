{
 "cells": [
  {
   "cell_type": "markdown",
   "id": "38a03d26",
   "metadata": {},
   "source": [
    "# Benchmark evaluation"
   ]
  },
  {
   "cell_type": "markdown",
   "id": "89788233",
   "metadata": {},
   "source": [
    "## I. Evaluate algorithm to the benchmark data \n",
    "\n",
    "Creates a list of Text eobjects with gold and predicted layers"
   ]
  },
  {
   "cell_type": "markdown",
   "id": "bbd825ac",
   "metadata": {},
   "source": [
    "## II. Evaluate results\n",
    "\n",
    "Use EstNLTK to compute recall together"
   ]
  },
  {
   "cell_type": "code",
   "execution_count": 1,
   "id": "5f6a6f3f",
   "metadata": {},
   "outputs": [],
   "source": [
    "from pandas import read_csv"
   ]
  },
  {
   "cell_type": "code",
   "execution_count": 2,
   "id": "6cbd6daf",
   "metadata": {},
   "outputs": [],
   "source": [
    "tbl = read_csv('data_description.csv')"
   ]
  },
  {
   "cell_type": "code",
   "execution_count": 4,
   "id": "b7d4bf33",
   "metadata": {},
   "outputs": [],
   "source": [
    "# now fit binomial distributions for each substample"
   ]
  },
  {
   "cell_type": "code",
   "execution_count": null,
   "id": "55db0860",
   "metadata": {},
   "outputs": [],
   "source": [
    "# Fast and dirty version\n",
    "# Find standard dev for each fraction estimate\n",
    "# Combine stabndard deviation for the linear combination\n",
    "# Find CI based on this estimate\n"
   ]
  },
  {
   "cell_type": "code",
   "execution_count": null,
   "id": "7c66af58",
   "metadata": {},
   "outputs": [],
   "source": [
    "# Correct and hard version\n",
    "\n",
    "\n",
    "# https://stats.stackexchange.com/questions/485266/better-confidence-intervals-for-weighted-average\n",
    "\n",
    "# find a convolution of distributions \n",
    "# https://medium.com/analytics-vidhya/sum-of-two-random-variables-or-the-rocky-path-to-understanding-convolutions-of-probability-b0fc29aca3b5\n",
    "# https://stackoverflow.com/questions/66218036/question-on-discrete-convolution-with-python\n",
    "# https://numpy.org/doc/stable/reference/generated/numpy.convolve.html\n",
    "# https://stackoverflow.com/questions/28901221/faster-convolution-of-probability-density-functions-in-python"
   ]
  },
  {
   "cell_type": "code",
   "execution_count": null,
   "id": "a38b8934",
   "metadata": {},
   "outputs": [],
   "source": [
    "# find 95% confidence inteval for that "
   ]
  }
 ],
 "metadata": {
  "kernelspec": {
   "display_name": "Python 3 (ipykernel)",
   "language": "python",
   "name": "python3"
  },
  "language_info": {
   "codemirror_mode": {
    "name": "ipython",
    "version": 3
   },
   "file_extension": ".py",
   "mimetype": "text/x-python",
   "name": "python",
   "nbconvert_exporter": "python",
   "pygments_lexer": "ipython3",
   "version": "3.8.12"
  }
 },
 "nbformat": 4,
 "nbformat_minor": 5
}
