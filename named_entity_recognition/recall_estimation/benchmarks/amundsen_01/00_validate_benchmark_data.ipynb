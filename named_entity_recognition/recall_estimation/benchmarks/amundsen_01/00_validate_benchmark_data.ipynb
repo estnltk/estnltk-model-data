{
 "cells": [
  {
   "cell_type": "markdown",
   "id": "5f72c463",
   "metadata": {},
   "source": [
    "# Validation of the benchmark data\n",
    "\n",
    "* Make sure that benchmark is consistent\n",
    "  * No duplicates in the files\n",
    "  * Input files are in the same format\n",
    "  * data description is in right format\n",
    "  * data description is consistent with the benchmark files"
   ]
  },
  {
   "cell_type": "code",
   "execution_count": null,
   "id": "b3826846",
   "metadata": {},
   "outputs": [],
   "source": []
  }
 ],
 "metadata": {
  "kernelspec": {
   "display_name": "Python 3 (ipykernel)",
   "language": "python",
   "name": "python3"
  },
  "language_info": {
   "codemirror_mode": {
    "name": "ipython",
    "version": 3
   },
   "file_extension": ".py",
   "mimetype": "text/x-python",
   "name": "python",
   "nbconvert_exporter": "python",
   "pygments_lexer": "ipython3",
   "version": "3.8.12"
  }
 },
 "nbformat": 4,
 "nbformat_minor": 5
}
