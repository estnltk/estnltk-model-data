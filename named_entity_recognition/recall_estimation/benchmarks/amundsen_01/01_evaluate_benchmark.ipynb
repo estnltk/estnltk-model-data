{
 "cells": [
  {
   "cell_type": "markdown",
   "id": "38a03d26",
   "metadata": {},
   "source": [
    "# Benchmark evaluation"
   ]
  },
  {
   "cell_type": "markdown",
   "id": "89788233",
   "metadata": {},
   "source": [
    "## I. Evaluate algorithm to the benchmark data "
   ]
  },
  {
   "cell_type": "code",
   "execution_count": 1,
   "id": "95567b54",
   "metadata": {},
   "outputs": [],
   "source": [
    "from helper_functions import load_evaluation_data\n",
    "from helper_functions import evaluate_benchmark\n",
    "from helper_functions import find_recall_estimate\n",
    "\n",
    "gold_standard = load_evaluation_data()"
   ]
  },
  {
   "cell_type": "code",
   "execution_count": 2,
   "id": "35480e7b",
   "metadata": {},
   "outputs": [
    {
     "data": {
      "text/plain": [
       "535"
      ]
     },
     "execution_count": 2,
     "metadata": {},
     "output_type": "execute_result"
    }
   ],
   "source": [
    "len(gold_standard)"
   ]
  },
  {
   "cell_type": "code",
   "execution_count": 3,
   "id": "0faea494",
   "metadata": {},
   "outputs": [],
   "source": [
    "all_results = {}"
   ]
  },
  {
   "cell_type": "markdown",
   "id": "c0ecbd0a",
   "metadata": {},
   "source": [
    "### I.I. EstNLTK's default model"
   ]
  },
  {
   "cell_type": "code",
   "execution_count": 4,
   "id": "33f2afb1",
   "metadata": {},
   "outputs": [
    {
     "name": "stderr",
     "output_type": "stream",
     "text": [
      "100%|████████████████████████████████████████████████████████████████████████████████████████████████████████████████████████████████████| 535/535 [00:54<00:00,  9.77it/s]\n"
     ]
    }
   ],
   "source": [
    "from estnltk.taggers import NerTagger\n",
    "\n",
    "nertagger = NerTagger(output_layer='estnltk_ner')\n",
    "results = evaluate_benchmark(gold_standard, nertagger)"
   ]
  },
  {
   "cell_type": "code",
   "execution_count": 5,
   "id": "7e0d38ac",
   "metadata": {},
   "outputs": [
    {
     "data": {
      "text/plain": [
       "correct\n",
       "yes    344\n",
       "no     191\n",
       "Name: count, dtype: int64"
      ]
     },
     "execution_count": 5,
     "metadata": {},
     "output_type": "execute_result"
    }
   ],
   "source": [
    "results['correct'].value_counts()"
   ]
  },
  {
   "cell_type": "code",
   "execution_count": 6,
   "id": "2e4ec99b",
   "metadata": {},
   "outputs": [
    {
     "data": {
      "text/plain": [
       "{'Recall': 0.5875822776214714,\n",
       " 'Recall-95CI%': (0.542378287169957, 0.6327862680729859)}"
      ]
     },
     "execution_count": 6,
     "metadata": {},
     "output_type": "execute_result"
    }
   ],
   "source": [
    "all_results[\"EstNLTK-default-NER\"] = find_recall_estimate(results)\n",
    "all_results[\"EstNLTK-default-NER\"]"
   ]
  },
  {
   "cell_type": "markdown",
   "id": "e01c190c",
   "metadata": {},
   "source": [
    "### I.II. Kairit's model I"
   ]
  },
  {
   "cell_type": "markdown",
   "id": "72d908cb",
   "metadata": {},
   "source": [
    "#### A. Use EstNLTK's words layer as a basis of tokenization"
   ]
  },
  {
   "cell_type": "code",
   "execution_count": 7,
   "id": "348c2c28",
   "metadata": {},
   "outputs": [
    {
     "name": "stderr",
     "output_type": "stream",
     "text": [
      "C:\\Programmid\\Miniconda3\\envs\\py39_devel\\lib\\site-packages\\tqdm-4.66.0-py3.9.egg\\tqdm\\auto.py:21: TqdmWarning: IProgress not found. Please update jupyter and ipywidgets. See https://ipywidgets.readthedocs.io/en/stable/user_install.html\n",
      "  from .autonotebook import tqdm as notebook_tqdm\n",
      "Some weights of the model checkpoint at C:\\Programmid\\Miniconda3\\envs\\py39_devel\\lib\\site-packages\\estnltk-1.7.2-py3.9-win-amd64.egg\\estnltk\\estnltk_resources\\estbert\\ner_model_hf_tartunlp_2022-05-06\\ were not used when initializing BertForTokenClassification: ['bert.pooler.dense.bias', 'bert.pooler.dense.weight']\n",
      "- This IS expected if you are initializing BertForTokenClassification from the checkpoint of a model trained on another task or with another architecture (e.g. initializing a BertForSequenceClassification model from a BertForPreTraining model).\n",
      "- This IS NOT expected if you are initializing BertForTokenClassification from the checkpoint of a model that you expect to be exactly identical (initializing a BertForSequenceClassification model from a BertForSequenceClassification model).\n"
     ]
    }
   ],
   "source": [
    "from estnltk_neural.taggers import EstBERTNERTagger\n",
    "\n",
    "# Evaluate on neural NER aligned with EstNLTK's words layer\n",
    "kairit_11 = EstBERTNERTagger(output_layer='estbertner_v1_estnltk_words', custom_words_layer='words')"
   ]
  },
  {
   "cell_type": "code",
   "execution_count": 8,
   "id": "4c45e422",
   "metadata": {},
   "outputs": [
    {
     "name": "stderr",
     "output_type": "stream",
     "text": [
      "100%|████████████████████████████████████████████████████████████████████████████████████████████████████████████████████████████████████| 535/535 [00:52<00:00, 10.18it/s]\n"
     ]
    }
   ],
   "source": [
    "results = evaluate_benchmark(gold_standard, kairit_11)"
   ]
  },
  {
   "cell_type": "code",
   "execution_count": 9,
   "id": "00b57ae3",
   "metadata": {},
   "outputs": [
    {
     "data": {
      "text/plain": [
       "correct\n",
       "yes    423\n",
       "no     112\n",
       "Name: count, dtype: int64"
      ]
     },
     "execution_count": 9,
     "metadata": {},
     "output_type": "execute_result"
    }
   ],
   "source": [
    "results['correct'].value_counts()"
   ]
  },
  {
   "cell_type": "code",
   "execution_count": 10,
   "id": "702057ba",
   "metadata": {},
   "outputs": [
    {
     "data": {
      "text/plain": [
       "{'Recall': 0.7378266049169795,\n",
       " 'Recall-95CI%': (0.6974392663356724, 0.7782139434982865)}"
      ]
     },
     "execution_count": 10,
     "metadata": {},
     "output_type": "execute_result"
    }
   ],
   "source": [
    "all_results[\"Kairit-I-estnltk_words\"] = find_recall_estimate(results)\n",
    "all_results[\"Kairit-I-estnltk_words\"]"
   ]
  },
  {
   "cell_type": "markdown",
   "id": "1de30068",
   "metadata": {},
   "source": [
    "#### B. Use Bert's default tokenization"
   ]
  },
  {
   "cell_type": "code",
   "execution_count": 11,
   "id": "b995db06",
   "metadata": {},
   "outputs": [
    {
     "name": "stderr",
     "output_type": "stream",
     "text": [
      "Some weights of the model checkpoint at C:\\Programmid\\Miniconda3\\envs\\py39_devel\\lib\\site-packages\\estnltk-1.7.2-py3.9-win-amd64.egg\\estnltk\\estnltk_resources\\estbert\\ner_model_hf_tartunlp_2022-05-06\\ were not used when initializing BertForTokenClassification: ['bert.pooler.dense.bias', 'bert.pooler.dense.weight']\n",
      "- This IS expected if you are initializing BertForTokenClassification from the checkpoint of a model trained on another task or with another architecture (e.g. initializing a BertForSequenceClassification model from a BertForPreTraining model).\n",
      "- This IS NOT expected if you are initializing BertForTokenClassification from the checkpoint of a model that you expect to be exactly identical (initializing a BertForSequenceClassification model from a BertForSequenceClassification model).\n"
     ]
    }
   ],
   "source": [
    "from estnltk_neural.taggers import EstBERTNERTagger\n",
    "\n",
    "# Evaluate on neural NER with its own tokenization\n",
    "kairit_12 = EstBERTNERTagger(output_layer='estbertner_v1_bert_tokens', custom_words_layer=None)"
   ]
  },
  {
   "cell_type": "code",
   "execution_count": 12,
   "id": "6379c57d",
   "metadata": {},
   "outputs": [
    {
     "name": "stderr",
     "output_type": "stream",
     "text": [
      "100%|████████████████████████████████████████████████████████████████████████████████████████████████████████████████████████████████████| 535/535 [00:55<00:00,  9.69it/s]\n"
     ]
    }
   ],
   "source": [
    "results = evaluate_benchmark(gold_standard, kairit_12)"
   ]
  },
  {
   "cell_type": "code",
   "execution_count": 13,
   "id": "ea182ec6",
   "metadata": {},
   "outputs": [
    {
     "data": {
      "text/plain": [
       "correct\n",
       "yes    345\n",
       "no     190\n",
       "Name: count, dtype: int64"
      ]
     },
     "execution_count": 13,
     "metadata": {},
     "output_type": "execute_result"
    }
   ],
   "source": [
    "results['correct'].value_counts()"
   ]
  },
  {
   "cell_type": "code",
   "execution_count": 14,
   "id": "bcb53343",
   "metadata": {},
   "outputs": [
    {
     "data": {
      "text/plain": [
       "{'Recall': 0.597255930126802,\n",
       " 'Recall-95CI%': (0.5522190204013548, 0.6422928398522492)}"
      ]
     },
     "execution_count": 14,
     "metadata": {},
     "output_type": "execute_result"
    }
   ],
   "source": [
    "all_results[\"Kairit-I-bert_tokens\"] = find_recall_estimate(results)\n",
    "all_results[\"Kairit-I-bert_tokens\"]"
   ]
  },
  {
   "cell_type": "markdown",
   "id": "3cd49a7a",
   "metadata": {},
   "source": [
    "### I.III. Kairit's model II"
   ]
  },
  {
   "cell_type": "markdown",
   "id": "7eb06f59",
   "metadata": {},
   "source": [
    "#### A. Use EstNLTK's words layer as a basis of tokenization"
   ]
  },
  {
   "cell_type": "code",
   "execution_count": 15,
   "id": "62dfe896",
   "metadata": {},
   "outputs": [],
   "source": [
    "from estnltk_neural.taggers import EstBERTNERTagger\n",
    "from estnltk import get_resource_paths\n",
    "\n",
    "kairit_21 = EstBERTNERTagger(output_layer='estbertner_v2_estnltk_words', custom_words_layer='words', \n",
    "                             model_location=get_resource_paths(\"estbertner_v2\", only_latest=True, download_missing=True))"
   ]
  },
  {
   "cell_type": "code",
   "execution_count": 16,
   "id": "e438559e",
   "metadata": {
    "scrolled": true
   },
   "outputs": [
    {
     "name": "stderr",
     "output_type": "stream",
     "text": [
      "100%|████████████████████████████████████████████████████████████████████████████████████████████████████████████████████████████████████| 535/535 [01:05<00:00,  8.15it/s]\n"
     ]
    }
   ],
   "source": [
    "results = evaluate_benchmark(gold_standard, kairit_21)"
   ]
  },
  {
   "cell_type": "code",
   "execution_count": 17,
   "id": "5617a390",
   "metadata": {},
   "outputs": [
    {
     "data": {
      "text/plain": [
       "correct\n",
       "yes    321\n",
       "no     214\n",
       "Name: count, dtype: int64"
      ]
     },
     "execution_count": 17,
     "metadata": {},
     "output_type": "execute_result"
    }
   ],
   "source": [
    "results['correct'].value_counts()"
   ]
  },
  {
   "cell_type": "code",
   "execution_count": 18,
   "id": "7a800fb4",
   "metadata": {},
   "outputs": [
    {
     "data": {
      "text/plain": [
       "{'Recall': 0.6212461225635655,\n",
       " 'Recall-95CI%': (0.5767026408929118, 0.6657896042342192)}"
      ]
     },
     "execution_count": 18,
     "metadata": {},
     "output_type": "execute_result"
    }
   ],
   "source": [
    "all_results[\"Kairit-II-estnltk_words\"] = find_recall_estimate(results)\n",
    "all_results[\"Kairit-II-estnltk_words\"]"
   ]
  },
  {
   "cell_type": "markdown",
   "id": "181639c4",
   "metadata": {},
   "source": [
    "#### B. Use Bert's default tokenization"
   ]
  },
  {
   "cell_type": "code",
   "execution_count": 19,
   "id": "de52aa47",
   "metadata": {},
   "outputs": [],
   "source": [
    "from estnltk import get_resource_paths\n",
    "kairit_22 = EstBERTNERTagger(output_layer='estbertner_v2_bert_tokens', custom_words_layer=None, \n",
    "                             model_location=get_resource_paths(\"estbertner_v2\", only_latest=True, download_missing=True))"
   ]
  },
  {
   "cell_type": "code",
   "execution_count": 20,
   "id": "0b69c3d6",
   "metadata": {},
   "outputs": [
    {
     "name": "stderr",
     "output_type": "stream",
     "text": [
      "100%|████████████████████████████████████████████████████████████████████████████████████████████████████████████████████████████████████| 535/535 [01:04<00:00,  8.31it/s]\n"
     ]
    }
   ],
   "source": [
    "results = evaluate_benchmark(gold_standard, kairit_22)"
   ]
  },
  {
   "cell_type": "code",
   "execution_count": 21,
   "id": "038c6f38",
   "metadata": {},
   "outputs": [
    {
     "data": {
      "text/plain": [
       "correct\n",
       "no     404\n",
       "yes    131\n",
       "Name: count, dtype: int64"
      ]
     },
     "execution_count": 21,
     "metadata": {},
     "output_type": "execute_result"
    }
   ],
   "source": [
    "results['correct'].value_counts()"
   ]
  },
  {
   "cell_type": "code",
   "execution_count": 22,
   "id": "b861896f",
   "metadata": {},
   "outputs": [
    {
     "data": {
      "text/plain": [
       "{'Recall': 0.27987202626926433,\n",
       " 'Recall-95CI%': (0.23864724524359443, 0.32109680729493423)}"
      ]
     },
     "execution_count": 22,
     "metadata": {},
     "output_type": "execute_result"
    }
   ],
   "source": [
    "all_results[\"Kairit-II-bert_tokens\"] = find_recall_estimate(results)\n",
    "all_results[\"Kairit-II-bert_tokens\"]"
   ]
  },
  {
   "cell_type": "markdown",
   "id": "97c0f29d",
   "metadata": {},
   "source": [
    "## II. Summarise results"
   ]
  },
  {
   "cell_type": "code",
   "execution_count": 25,
   "id": "bda1c179",
   "metadata": {},
   "outputs": [
    {
     "data": {
      "text/html": [
       "<div>\n",
       "<style scoped>\n",
       "    .dataframe tbody tr th:only-of-type {\n",
       "        vertical-align: middle;\n",
       "    }\n",
       "\n",
       "    .dataframe tbody tr th {\n",
       "        vertical-align: top;\n",
       "    }\n",
       "\n",
       "    .dataframe thead th {\n",
       "        text-align: right;\n",
       "    }\n",
       "</style>\n",
       "<table border=\"1\" class=\"dataframe\">\n",
       "  <thead>\n",
       "    <tr style=\"text-align: right;\">\n",
       "      <th></th>\n",
       "      <th>Recall</th>\n",
       "      <th>Recall-95CI%</th>\n",
       "    </tr>\n",
       "  </thead>\n",
       "  <tbody>\n",
       "    <tr>\n",
       "      <th>EstNLTK-default-NER</th>\n",
       "      <td>0.587582</td>\n",
       "      <td>(0.542378287169957, 0.6327862680729859)</td>\n",
       "    </tr>\n",
       "    <tr>\n",
       "      <th>Kairit-I-estnltk_words</th>\n",
       "      <td>0.737827</td>\n",
       "      <td>(0.6974392663356724, 0.7782139434982865)</td>\n",
       "    </tr>\n",
       "    <tr>\n",
       "      <th>Kairit-I-bert_tokens</th>\n",
       "      <td>0.597256</td>\n",
       "      <td>(0.5522190204013548, 0.6422928398522492)</td>\n",
       "    </tr>\n",
       "    <tr>\n",
       "      <th>Kairit-II-estnltk_words</th>\n",
       "      <td>0.621246</td>\n",
       "      <td>(0.5767026408929118, 0.6657896042342192)</td>\n",
       "    </tr>\n",
       "    <tr>\n",
       "      <th>Kairit-II-bert_tokens</th>\n",
       "      <td>0.279872</td>\n",
       "      <td>(0.23864724524359443, 0.32109680729493423)</td>\n",
       "    </tr>\n",
       "  </tbody>\n",
       "</table>\n",
       "</div>"
      ],
      "text/plain": [
       "                           Recall                                Recall-95CI%\n",
       "EstNLTK-default-NER      0.587582     (0.542378287169957, 0.6327862680729859)\n",
       "Kairit-I-estnltk_words   0.737827    (0.6974392663356724, 0.7782139434982865)\n",
       "Kairit-I-bert_tokens     0.597256    (0.5522190204013548, 0.6422928398522492)\n",
       "Kairit-II-estnltk_words  0.621246    (0.5767026408929118, 0.6657896042342192)\n",
       "Kairit-II-bert_tokens    0.279872  (0.23864724524359443, 0.32109680729493423)"
      ]
     },
     "metadata": {},
     "output_type": "display_data"
    }
   ],
   "source": [
    "# Output as CSV\n",
    "import pandas as pd\n",
    "\n",
    "leaderboard = pd.DataFrame.from_dict(all_results, orient='index')\n",
    "display(leaderboard)\n",
    "leaderboard.to_csv('leaderboard.csv')"
   ]
  },
  {
   "cell_type": "markdown",
   "id": "3aed8637",
   "metadata": {},
   "source": [
    "---"
   ]
  }
 ],
 "metadata": {
  "kernelspec": {
   "display_name": "Python 3 (ipykernel)",
   "language": "python",
   "name": "python3"
  },
  "language_info": {
   "codemirror_mode": {
    "name": "ipython",
    "version": 3
   },
   "file_extension": ".py",
   "mimetype": "text/x-python",
   "name": "python",
   "nbconvert_exporter": "python",
   "pygments_lexer": "ipython3",
   "version": "3.9.17"
  }
 },
 "nbformat": 4,
 "nbformat_minor": 5
}
