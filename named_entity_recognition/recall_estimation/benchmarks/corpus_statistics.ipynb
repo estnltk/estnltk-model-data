{
 "cells": [
  {
   "cell_type": "markdown",
   "id": "f436423e",
   "metadata": {},
   "source": [
    "Levinumate sõnad: jõgi, meri, järv\n",
    "Mitmetähenduslikud sõnad: kanal, pank, kurk\n",
    "Ülejäänutes on kõik ülejäänud\n",
    "\n",
    "\n",
    "Levinumaid: 80943\n",
    "Mitmetähenduslikke: 75853\n",
    "Ülejäänusid: 182057\n",
    "Kokku: 338853\n",
    "\n",
    "Tuhandest näitest õigeid:\n",
    "Levinumaid: 353\n",
    "Mitmetähenduslikke: 13\n",
    "Ülejäänusid: 177\n",
    "\n",
    "Eeldatavalt korpuses kokku:\n",
    "Levinumaid 353 * 80943 / 1000 = 28572.879\n",
    "Mitmetähenduslikke 75853 * 13 / 1000 = 986.089\n",
    "Ülejäänusid 182057 * 177 / 1000 = 32224.089\n",
    "Kokku 61783.057"
   ]
  },
  {
   "cell_type": "code",
   "execution_count": 1,
   "id": "2d66454c",
   "metadata": {},
   "outputs": [],
   "source": [
    "import numpy as np"
   ]
  },
  {
   "cell_type": "code",
   "execution_count": 2,
   "id": "a32ccc8d",
   "metadata": {},
   "outputs": [],
   "source": [
    "yhed = 353 * [1] "
   ]
  },
  {
   "cell_type": "code",
   "execution_count": 3,
   "id": "ca8e27ba",
   "metadata": {},
   "outputs": [],
   "source": [
    "nullid = 647 * [0]"
   ]
  },
  {
   "cell_type": "code",
   "execution_count": 4,
   "id": "869a1179",
   "metadata": {},
   "outputs": [],
   "source": [
    "yhed.extend(nullid)"
   ]
  },
  {
   "cell_type": "code",
   "execution_count": 8,
   "id": "05374328",
   "metadata": {},
   "outputs": [],
   "source": [
    "stdhalve = np.std(np.array(yhed))"
   ]
  },
  {
   "cell_type": "code",
   "execution_count": 9,
   "id": "df257b1a",
   "metadata": {},
   "outputs": [
    {
     "data": {
      "text/plain": [
       "0.36735698009680307"
      ]
     },
     "execution_count": 9,
     "metadata": {},
     "output_type": "execute_result"
    }
   ],
   "source": [
    "0.353 + 0.95 * stdhalve / np.sqrt(1000)"
   ]
  },
  {
   "cell_type": "code",
   "execution_count": 10,
   "id": "efa1f57a",
   "metadata": {},
   "outputs": [
    {
     "data": {
      "text/plain": [
       "0.3386430199031969"
      ]
     },
     "execution_count": 10,
     "metadata": {},
     "output_type": "execute_result"
    }
   ],
   "source": [
    "0.353 - 0.95 * stdhalve / np.sqrt(1000)"
   ]
  },
  {
   "cell_type": "markdown",
   "id": "351085f0",
   "metadata": {},
   "source": [
    "95% et levinumaid on korpuses 338.64 * 80943 / 1000 = 27410 ja 367.35 * 80943 / 1000 = 29735 vahemikus"
   ]
  },
  {
   "cell_type": "code",
   "execution_count": 11,
   "id": "5c32a376",
   "metadata": {},
   "outputs": [],
   "source": [
    "yhed = 13 * [1] "
   ]
  },
  {
   "cell_type": "code",
   "execution_count": 12,
   "id": "7e28fa50",
   "metadata": {},
   "outputs": [],
   "source": [
    "nullid = 987 * [0]"
   ]
  },
  {
   "cell_type": "code",
   "execution_count": 13,
   "id": "7db70f05",
   "metadata": {},
   "outputs": [],
   "source": [
    "yhed.extend(nullid)"
   ]
  },
  {
   "cell_type": "code",
   "execution_count": 14,
   "id": "63d76e6c",
   "metadata": {},
   "outputs": [],
   "source": [
    "stdhalve = np.std(np.array(yhed))"
   ]
  },
  {
   "cell_type": "code",
   "execution_count": 15,
   "id": "8d48af38",
   "metadata": {},
   "outputs": [
    {
     "data": {
      "text/plain": [
       "0.01640293659946817"
      ]
     },
     "execution_count": 15,
     "metadata": {},
     "output_type": "execute_result"
    }
   ],
   "source": [
    "0.013 + 0.95 * stdhalve / np.sqrt(1000)"
   ]
  },
  {
   "cell_type": "code",
   "execution_count": 18,
   "id": "f05cf9c7",
   "metadata": {},
   "outputs": [
    {
     "data": {
      "text/plain": [
       "0.009597063400531828"
      ]
     },
     "execution_count": 18,
     "metadata": {},
     "output_type": "execute_result"
    }
   ],
   "source": [
    "0.013 - 0.95 * stdhalve / np.sqrt(1000)"
   ]
  },
  {
   "cell_type": "markdown",
   "id": "c7e67bd0",
   "metadata": {},
   "source": [
    "95% et mitmetähenduslikke on korpuses 16.40 * 75853 / 1000 = 1244 ja 9.59 * 75853 / 1000 = 727 vahemikus"
   ]
  },
  {
   "cell_type": "code",
   "execution_count": 19,
   "id": "3c570229",
   "metadata": {},
   "outputs": [],
   "source": [
    "yhed = 177 * [1] "
   ]
  },
  {
   "cell_type": "code",
   "execution_count": 20,
   "id": "64a5d8bd",
   "metadata": {},
   "outputs": [],
   "source": [
    "nullid = 823 * [0]"
   ]
  },
  {
   "cell_type": "code",
   "execution_count": 21,
   "id": "459f0d58",
   "metadata": {},
   "outputs": [],
   "source": [
    "yhed.extend(nullid)"
   ]
  },
  {
   "cell_type": "code",
   "execution_count": 22,
   "id": "52571bc5",
   "metadata": {},
   "outputs": [],
   "source": [
    "stdhalve = np.std(np.array(yhed))"
   ]
  },
  {
   "cell_type": "code",
   "execution_count": 23,
   "id": "9b0467be",
   "metadata": {},
   "outputs": [
    {
     "data": {
      "text/plain": [
       "0.18846595296955293"
      ]
     },
     "execution_count": 23,
     "metadata": {},
     "output_type": "execute_result"
    }
   ],
   "source": [
    "0.177 + 0.95 * stdhalve / np.sqrt(1000)"
   ]
  },
  {
   "cell_type": "code",
   "execution_count": 24,
   "id": "38586280",
   "metadata": {},
   "outputs": [
    {
     "data": {
      "text/plain": [
       "0.16553404703044705"
      ]
     },
     "execution_count": 24,
     "metadata": {},
     "output_type": "execute_result"
    }
   ],
   "source": [
    "0.177 - 0.95 * stdhalve / np.sqrt(1000)"
   ]
  },
  {
   "cell_type": "markdown",
   "id": "db4f033d",
   "metadata": {},
   "source": [
    "95% et ülejäänusid on korpuses 188.46 * 182057 / 1000 = 34310 ja 165.53 * 182057 / 1000 = 30135 vahemikus"
   ]
  }
 ],
 "metadata": {
  "kernelspec": {
   "display_name": "Python 3 (ipykernel)",
   "language": "python",
   "name": "python3"
  },
  "language_info": {
   "codemirror_mode": {
    "name": "ipython",
    "version": 3
   },
   "file_extension": ".py",
   "mimetype": "text/x-python",
   "name": "python",
   "nbconvert_exporter": "python",
   "pygments_lexer": "ipython3",
   "version": "3.8.12"
  }
 },
 "nbformat": 4,
 "nbformat_minor": 5
}
