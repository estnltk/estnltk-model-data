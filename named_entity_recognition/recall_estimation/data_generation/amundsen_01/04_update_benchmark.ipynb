{
 "cells": [
  {
   "cell_type": "markdown",
   "id": "b7a651dd",
   "metadata": {},
   "source": [
    "# Workflow for updating the benchmark\n",
    "\n",
    "* Explain what this workflow does\n",
    "* Explain what what one should do with output files "
   ]
  },
  {
   "cell_type": "markdown",
   "id": "ae49e6f1",
   "metadata": {},
   "source": [
    "**TODO:** remove these lines when the file is complete. It is not a goot stile in production code.  "
   ]
  },
  {
   "cell_type": "code",
   "execution_count": 118,
   "id": "f66c07bb",
   "metadata": {},
   "outputs": [
    {
     "name": "stdout",
     "output_type": "stream",
     "text": [
      "The autoreload extension is already loaded. To reload it, use:\n",
      "  %reload_ext autoreload\n"
     ]
    }
   ],
   "source": [
    "%load_ext autoreload\n",
    "%autoreload 2"
   ]
  },
  {
   "cell_type": "markdown",
   "id": "c2e432b2",
   "metadata": {},
   "source": [
    "## I. Consistency with th benchmark setup\n",
    "\n",
    "* Check that LabelStudio files are properly named\n",
    "* Check that LabelStudio files are properly labelled"
   ]
  },
  {
   "cell_type": "code",
   "execution_count": null,
   "id": "0dd474a6",
   "metadata": {},
   "outputs": [],
   "source": []
  },
  {
   "cell_type": "markdown",
   "id": "dc3d4f1e",
   "metadata": {},
   "source": [
    "## II. File export\n",
    "\n",
    "* Export files to right ouptut format to be used in the benchmark.\n",
    "* Do some basic analysis of lables and labelling time to detect something really odd\n",
    "* Try to detect biased labelling where labeller has chosen easy/non-typical subset to label. "
   ]
  },
  {
   "cell_type": "code",
   "execution_count": null,
   "id": "9fb422f5",
   "metadata": {},
   "outputs": [],
   "source": []
  },
  {
   "cell_type": "markdown",
   "id": "72602ebe",
   "metadata": {},
   "source": [
    "## III. Update the benchmark data\n",
    "\n",
    "* Compute the necessary description files\n",
    "* Explain the update procedure to user: what files must be added to the benchmark\n",
    "* How to check that there are no overlaps in the resulting benchmark"
   ]
  },
  {
   "cell_type": "code",
   "execution_count": null,
   "id": "ab7ebbc8",
   "metadata": {},
   "outputs": [],
   "source": []
  }
 ],
 "metadata": {
  "kernelspec": {
   "display_name": "Python 3 (ipykernel)",
   "language": "python",
   "name": "python3"
  },
  "language_info": {
   "codemirror_mode": {
    "name": "ipython",
    "version": 3
   },
   "file_extension": ".py",
   "mimetype": "text/x-python",
   "name": "python",
   "nbconvert_exporter": "python",
   "pygments_lexer": "ipython3",
   "version": "3.8.12"
  }
 },
 "nbformat": 4,
 "nbformat_minor": 5
}
