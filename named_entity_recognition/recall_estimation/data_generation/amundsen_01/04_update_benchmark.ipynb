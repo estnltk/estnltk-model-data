{
 "cells": [
  {
   "cell_type": "markdown",
   "id": "b7a651dd",
   "metadata": {},
   "source": [
    "# Workflow for updating the benchmark\n",
    "\n",
    "This workflow adds texts to the benchmark and checks for duplicates."
   ]
  },
  {
   "cell_type": "markdown",
   "id": "c2e432b2",
   "metadata": {},
   "source": [
    "## I. Consistency with the benchmark setup\n",
    "\n",
    "* Check that LabelStudio files are properly named\n",
    "* Check that LabelStudio files are properly labelled"
   ]
  },
  {
   "cell_type": "code",
   "execution_count": 1,
   "id": "0dd474a6",
   "metadata": {},
   "outputs": [],
   "source": [
    "import json\n",
    "\n",
    "filename = 'labelled_data/substringtagger_labels/koond_1000_levinumad_labelled.json'\n",
    "\n",
    "#check it can be opened and json loaded\n",
    "with open(filename,'r',encoding='UTF-8') as f:\n",
    "    data = json.load(f)"
   ]
  },
  {
   "cell_type": "code",
   "execution_count": 2,
   "id": "62ae767c",
   "metadata": {},
   "outputs": [],
   "source": [
    "for task in data:\n",
    "    #we have one annotation per text in this setup\n",
    "    assert len(task['annotations']) == 1\n",
    "    #check that the task has been annotated by someone\n",
    "    assert task['annotations'][0]['completed_by'] > 0\n",
    "    #check that yes or no has been chosen\n",
    "    assert task['annotations'][0]['result'][-1]['value']['choices'][0] in ['yes','no']"
   ]
  },
  {
   "cell_type": "markdown",
   "id": "72602ebe",
   "metadata": {},
   "source": [
    "## II. Update the benchmark data\n",
    "\n",
    "* Compute the necessary description files\n",
    "* Explain the update procedure to user: what files must be added to the benchmark\n",
    "* How to check that there are no overlaps in the resulting benchmark"
   ]
  }
 ],
 "metadata": {
  "kernelspec": {
   "display_name": "Python 3",
   "language": "python",
   "name": "python3"
  },
  "language_info": {
   "codemirror_mode": {
    "name": "ipython",
    "version": 3
   },
   "file_extension": ".py",
   "mimetype": "text/x-python",
   "name": "python",
   "nbconvert_exporter": "python",
   "pygments_lexer": "ipython3",
   "version": "3.6.12"
  }
 },
 "nbformat": 4,
 "nbformat_minor": 5
}
