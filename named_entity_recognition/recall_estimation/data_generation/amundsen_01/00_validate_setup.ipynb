{
 "cells": [
  {
   "cell_type": "markdown",
   "id": "f8cf4ad4",
   "metadata": {},
   "source": [
    "# Various sanity checks "
   ]
  },
  {
   "cell_type": "markdown",
   "id": "5678d5ed",
   "metadata": {},
   "source": [
    "## I. Validate source collection"
   ]
  },
  {
   "cell_type": "code",
   "execution_count": 1,
   "id": "12526ba3",
   "metadata": {},
   "outputs": [],
   "source": [
    "# load configuration\n",
    "# check that we can connect\n",
    "# validate that the collection has expected structure"
   ]
  },
  {
   "cell_type": "markdown",
   "id": "7b53ede5",
   "metadata": {},
   "source": [
    "## II. Validate target database "
   ]
  },
  {
   "cell_type": "code",
   "execution_count": 2,
   "id": "89410726",
   "metadata": {},
   "outputs": [],
   "source": [
    "# load configuration\n",
    "# check that we can connect\n",
    "# check that we can do what we need"
   ]
  }
 ],
 "metadata": {
  "kernelspec": {
   "display_name": "Python 3 (ipykernel)",
   "language": "python",
   "name": "python3"
  },
  "language_info": {
   "codemirror_mode": {
    "name": "ipython",
    "version": 3
   },
   "file_extension": ".py",
   "mimetype": "text/x-python",
   "name": "python",
   "nbconvert_exporter": "python",
   "pygments_lexer": "ipython3",
   "version": "3.8.12"
  }
 },
 "nbformat": 4,
 "nbformat_minor": 5
}
