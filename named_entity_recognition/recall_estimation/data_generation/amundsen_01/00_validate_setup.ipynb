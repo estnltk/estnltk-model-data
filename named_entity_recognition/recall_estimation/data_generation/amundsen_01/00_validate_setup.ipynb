{
 "cells": [
  {
   "cell_type": "markdown",
   "id": "f8cf4ad4",
   "metadata": {},
   "source": [
    "# Various sanity checks "
   ]
  },
  {
   "cell_type": "markdown",
   "id": "5678d5ed",
   "metadata": {},
   "source": [
    "## I. Validate source collection"
   ]
  },
  {
   "cell_type": "code",
   "execution_count": 1,
   "id": "551dbd57",
   "metadata": {},
   "outputs": [],
   "source": [
    "#load config\n",
    "from helper_functions import load_configuration\n",
    "config = load_configuration('config/example_configuration.ini')"
   ]
  },
  {
   "cell_type": "code",
   "execution_count": 2,
   "id": "b7f4afc9",
   "metadata": {},
   "outputs": [
    {
     "name": "stdout",
     "output_type": "stream",
     "text": [
      "INFO:storage.py:58: connecting to host: 'postgres.keeleressursid.ee', port: 5432, dbname: 'estonian-text-corpora', user: 'rasmusm'\n",
      "INFO:storage.py:108: schema: 'estonian_text_corpora', temporary: False, role: 'estonian_text_corpora_read'\n"
     ]
    }
   ],
   "source": [
    "# check that we can connect\n",
    "from helper_functions import connect_to_database\n",
    "storage = connect_to_database(config)"
   ]
  },
  {
   "cell_type": "code",
   "execution_count": 3,
   "id": "12526ba3",
   "metadata": {},
   "outputs": [],
   "source": [
    "# validate that the collection has expected structure\n",
    "\n",
    "collection = config['source_database']['collection']\n",
    "collection = storage[collection]\n",
    "assert len(collection) == 21415543\n",
    "assert collection.has_layer(config['source_database']['ner_layer'])\n",
    "assert collection.has_layer(config['source_database']['terms_layer'])"
   ]
  },
  {
   "cell_type": "markdown",
   "id": "7b53ede5",
   "metadata": {},
   "source": [
    "## II. Validate target database "
   ]
  },
  {
   "cell_type": "code",
   "execution_count": 4,
   "id": "88f4b5cb",
   "metadata": {},
   "outputs": [],
   "source": [
    "# load configuration\n",
    "\n",
    "from helper_functions import load_local_configuration\n",
    "\n",
    "config = load_local_configuration('config/example_configuration.ini')"
   ]
  },
  {
   "cell_type": "code",
   "execution_count": 5,
   "id": "0ca92611",
   "metadata": {},
   "outputs": [
    {
     "name": "stdout",
     "output_type": "stream",
     "text": [
      "INFO:storage.py:58: connecting to host: 'localhost', port: 5432, dbname: 'ner_test', user: 'postgres'\n",
      "INFO:storage.py:108: schema: 'my_schema', temporary: False, role: 'postgres'\n"
     ]
    },
    {
     "data": {
      "text/html": [
       "<b>PostgresStorage</b><br/>\n",
       "user=postgres password=xxx dbname=ner_test host=localhost port=5432 schema=my_schema<br/>temporary=False<br/>\n",
       "collection count: 2\n",
       "<table border=\"1\" class=\"dataframe\">\n",
       "  <thead>\n",
       "    <tr style=\"text-align: right;\">\n",
       "      <th></th>\n",
       "      <th></th>\n",
       "      <th></th>\n",
       "      <th>rows</th>\n",
       "      <th>total_size</th>\n",
       "      <th>comment</th>\n",
       "    </tr>\n",
       "    <tr>\n",
       "      <th>collection</th>\n",
       "      <th>version</th>\n",
       "      <th>relations</th>\n",
       "      <th></th>\n",
       "      <th></th>\n",
       "      <th></th>\n",
       "    </tr>\n",
       "  </thead>\n",
       "  <tbody>\n",
       "    <tr>\n",
       "      <th rowspan=\"6\" valign=\"top\">koondkorpus_base_v2</th>\n",
       "      <th rowspan=\"6\" valign=\"top\">2.0</th>\n",
       "      <th></th>\n",
       "      <td>0</td>\n",
       "      <td>489 MB</td>\n",
       "      <td>created by postgres on Sat Oct  8 00:25:58 2022</td>\n",
       "    </tr>\n",
       "    <tr>\n",
       "      <th>ner_2_test__layer</th>\n",
       "      <td>0</td>\n",
       "      <td>20 MB</td>\n",
       "      <td>created by postgres on Tue Nov 15 10:45:25 2022</td>\n",
       "    </tr>\n",
       "    <tr>\n",
       "      <th>ner_3__layer</th>\n",
       "      <td>0</td>\n",
       "      <td>20 MB</td>\n",
       "      <td>created by postgres on Fri Dec  2 09:44:11 2022</td>\n",
       "    </tr>\n",
       "    <tr>\n",
       "      <th>ner__layer</th>\n",
       "      <td>0</td>\n",
       "      <td>20 MB</td>\n",
       "      <td>created by postgres on Mon Oct 10 00:43:04 2022</td>\n",
       "    </tr>\n",
       "    <tr>\n",
       "      <th>structure</th>\n",
       "      <td>0</td>\n",
       "      <td>32 kB</td>\n",
       "      <td>None</td>\n",
       "    </tr>\n",
       "    <tr>\n",
       "      <th>terms__layer</th>\n",
       "      <td>0</td>\n",
       "      <td>6416 kB</td>\n",
       "      <td>created by postgres on Wed Dec 21 04:19:34 2022</td>\n",
       "    </tr>\n",
       "    <tr>\n",
       "      <th rowspan=\"3\" valign=\"top\">my_first_collection</th>\n",
       "      <th rowspan=\"3\" valign=\"top\">2.0</th>\n",
       "      <th></th>\n",
       "      <td>0</td>\n",
       "      <td>56 kB</td>\n",
       "      <td>first demo collection</td>\n",
       "    </tr>\n",
       "    <tr>\n",
       "      <th>smoking__layer</th>\n",
       "      <td>0</td>\n",
       "      <td>48 kB</td>\n",
       "      <td>created by postgres on Wed Aug 10 20:12:49 2022</td>\n",
       "    </tr>\n",
       "    <tr>\n",
       "      <th>structure</th>\n",
       "      <td>0</td>\n",
       "      <td>32 kB</td>\n",
       "      <td>None</td>\n",
       "    </tr>\n",
       "  </tbody>\n",
       "</table>"
      ],
      "text/plain": [
       "<estnltk.storage.postgres.storage.PostgresStorage at 0x17b1e7f9f98>"
      ]
     },
     "execution_count": 5,
     "metadata": {},
     "output_type": "execute_result"
    }
   ],
   "source": [
    "# check that we can connect\n",
    "\n",
    "from helper_functions import connect_to_local_database\n",
    "\n",
    "connect_to_local_database(config)"
   ]
  }
 ],
 "metadata": {
  "kernelspec": {
   "display_name": "Python 3",
   "language": "python",
   "name": "python3"
  },
  "language_info": {
   "codemirror_mode": {
    "name": "ipython",
    "version": 3
   },
   "file_extension": ".py",
   "mimetype": "text/x-python",
   "name": "python",
   "nbconvert_exporter": "python",
   "pygments_lexer": "ipython3",
   "version": "3.6.12"
  }
 },
 "nbformat": 4,
 "nbformat_minor": 5
}
