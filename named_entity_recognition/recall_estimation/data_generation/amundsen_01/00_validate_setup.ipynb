{
 "cells": [
  {
   "cell_type": "markdown",
   "id": "f8cf4ad4",
   "metadata": {},
   "source": [
    "# Various sanity checks "
   ]
  },
  {
   "cell_type": "markdown",
   "id": "5678d5ed",
   "metadata": {},
   "source": [
    "## I. Validate source collection"
   ]
  },
  {
   "cell_type": "code",
   "execution_count": 14,
   "id": "67450e7d",
   "metadata": {},
   "outputs": [
    {
     "data": {
      "text/plain": [
       "['C:\\\\Users\\\\rasmu\\\\OneDrive\\\\Dokumendid\\\\estnltk-model-data\\\\named_entity_recognition\\\\recall_estimation\\\\data_generation\\\\amundsen_01\\\\config\\\\example_configuration.ini']"
      ]
     },
     "execution_count": 14,
     "metadata": {},
     "output_type": "execute_result"
    }
   ],
   "source": [
    "# load configuration\n",
    "\n",
    "import configparser\n",
    "import os\n",
    "\n",
    "config = configparser.ConfigParser()\n",
    "config_file = 'config\\example_configuration.ini'\n",
    "\n",
    "file_name = os.path.abspath(os.path.expanduser(os.path.expandvars(str(config_file))))\n",
    "\n",
    "if not os.path.exists(file_name):\n",
    "    raise ValueError(\"File {file} does not exist\".format(file=str(config_file)))\n",
    "\n",
    "if len(config.read(file_name)) != 1:\n",
    "    raise ValueError(\"File {file} is not accessible or is not in valid INI format\".format(file=config_file))\n",
    "\n",
    "for option in [\"host\", \"port\", \"database\", \"username\", \"password\", \"role\", \"schema\", \"collection\"]:\n",
    "    if not config.has_option('source_database', option):\n",
    "        prelude = \"Error in file {}\\n\".format(file_name) if len(file_name) > 0 else \"\"\n",
    "        raise ValueError(\n",
    "            \"{prelude}Missing option {option} in the section [{section}]\".format(\n",
    "                prelude=prelude, option=option, section='source_database'\n",
    "            )\n",
    "        )\n",
    "\n",
    "config.read(file_name)"
   ]
  },
  {
   "cell_type": "code",
   "execution_count": 15,
   "id": "b7f4afc9",
   "metadata": {},
   "outputs": [
    {
     "name": "stdout",
     "output_type": "stream",
     "text": [
      "INFO:storage.py:58: connecting to host: 'postgres.keeleressursid.ee', port: 5432, dbname: 'estonian-text-corpora', user: 'rasmusm'\n",
      "INFO:storage.py:108: schema: 'estonian_text_corpora', temporary: False, role: 'estonian_text_corpora_read'\n"
     ]
    }
   ],
   "source": [
    "# check that we can connect\n",
    "\n",
    "from estnltk.storage.postgres import PostgresStorage\n",
    "\n",
    "dbname = config['source_database']['database']\n",
    "user = config['source_database']['username']\n",
    "password = config['source_database']['password']\n",
    "host = config['source_database']['host']\n",
    "port = config['source_database']['port']\n",
    "role = config['source_database']['role']\n",
    "schema = config['source_database']['schema']\n",
    "collection = config['source_database']['collection']\n",
    "\n",
    "\n",
    "storage = PostgresStorage(host=host,\n",
    "                          port=int(port),\n",
    "                          dbname=dbname,\n",
    "                          user=user,\n",
    "                          password=password,\n",
    "                          schema=schema,\n",
    "                          role=role,\n",
    "                          temporary=False)"
   ]
  },
  {
   "cell_type": "code",
   "execution_count": 16,
   "id": "12526ba3",
   "metadata": {},
   "outputs": [],
   "source": [
    "# validate that the collection has expected structure\n",
    "\n",
    "collection = storage[collection]\n",
    "assert len(collection) == 21415543\n",
    "assert collection.has_layer('v171_named_entities')\n",
    "assert collection.has_layer('v172_geo_terms')"
   ]
  },
  {
   "cell_type": "markdown",
   "id": "7b53ede5",
   "metadata": {},
   "source": [
    "## II. Validate target database "
   ]
  },
  {
   "cell_type": "code",
   "execution_count": 22,
   "id": "88f4b5cb",
   "metadata": {},
   "outputs": [
    {
     "data": {
      "text/plain": [
       "['C:\\\\Users\\\\rasmu\\\\OneDrive\\\\Dokumendid\\\\estnltk-model-data\\\\named_entity_recognition\\\\recall_estimation\\\\data_generation\\\\amundsen_01\\\\config\\\\example_configuration.ini']"
      ]
     },
     "execution_count": 22,
     "metadata": {},
     "output_type": "execute_result"
    }
   ],
   "source": [
    "# load configuration\n",
    "\n",
    "import configparser\n",
    "import os\n",
    "\n",
    "config = configparser.ConfigParser()\n",
    "config_file = 'config\\example_configuration.ini'\n",
    "\n",
    "file_name = os.path.abspath(os.path.expanduser(os.path.expandvars(str(config_file))))\n",
    "\n",
    "if not os.path.exists(file_name):\n",
    "    raise ValueError(\"File {file} does not exist\".format(file=str(config_file)))\n",
    "\n",
    "if len(config.read(file_name)) != 1:\n",
    "    raise ValueError(\"File {file} is not accessible or is not in valid INI format\".format(file=config_file))\n",
    "\n",
    "for option in [\"host\", \"port\", \"database\", \"username\", \"password\", \"schema\", \"collection\"]:\n",
    "    if not config.has_option('target_database', option):\n",
    "        prelude = \"Error in file {}\\n\".format(file_name) if len(file_name) > 0 else \"\"\n",
    "        raise ValueError(\n",
    "            \"{prelude}Missing option {option} in the section [{section}]\".format(\n",
    "                prelude=prelude, option=option, section='target_database'\n",
    "            )\n",
    "        )\n",
    "\n",
    "config.read(file_name)"
   ]
  },
  {
   "cell_type": "code",
   "execution_count": 23,
   "id": "0ca92611",
   "metadata": {},
   "outputs": [
    {
     "name": "stdout",
     "output_type": "stream",
     "text": [
      "INFO:storage.py:58: connecting to host: 'localhost', port: 5432, dbname: 'ner_test', user: 'postgres'\n",
      "INFO:storage.py:108: schema: 'my_schema', temporary: False, role: 'postgres'\n"
     ]
    }
   ],
   "source": [
    "# check that we can connect\n",
    "\n",
    "from estnltk.storage.postgres import PostgresStorage\n",
    "\n",
    "dbname = config['target_database']['database']\n",
    "user = config['target_database']['username']\n",
    "password = config['target_database']['password']\n",
    "host = config['target_database']['host']\n",
    "port = config['target_database']['port']\n",
    "schema = config['target_database']['schema']\n",
    "collection = config['target_database']['collection']\n",
    "\n",
    "localstorage = PostgresStorage(host=host,\n",
    "                          port=int(port),\n",
    "                          dbname=dbname,\n",
    "                          user=user,\n",
    "                          password=password,\n",
    "                          schema=schema,\n",
    "                          role=None,\n",
    "                          temporary=False)"
   ]
  }
 ],
 "metadata": {
  "kernelspec": {
   "display_name": "Python 3",
   "language": "python",
   "name": "python3"
  },
  "language_info": {
   "codemirror_mode": {
    "name": "ipython",
    "version": 3
   },
   "file_extension": ".py",
   "mimetype": "text/x-python",
   "name": "python",
   "nbconvert_exporter": "python",
   "pygments_lexer": "ipython3",
   "version": "3.6.12"
  }
 },
 "nbformat": 4,
 "nbformat_minor": 5
}
