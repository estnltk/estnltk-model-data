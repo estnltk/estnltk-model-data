{
 "cells": [
  {
   "cell_type": "markdown",
   "id": "b7a651dd",
   "metadata": {},
   "source": [
    "# Workflow for establishing consolidated labelling\n",
    "\n",
    "This workflow is for working with files that are imported from Labelstudio with annotations from multiple annotators."
   ]
  },
  {
   "cell_type": "markdown",
   "id": "c2e432b2",
   "metadata": {},
   "source": [
    "## I. Consistency with the benchmark setup\n",
    "\n",
    "* Check that labellings are consitent with the benchmark setup\n",
    "* Check that labellings of different persons overlap in predicted way"
   ]
  },
  {
   "cell_type": "code",
   "execution_count": 5,
   "id": "0dd474a6",
   "metadata": {},
   "outputs": [],
   "source": [
    "import json\n",
    "\n",
    "filename = 'labelled_data/multiple_annotators.json'\n",
    "\n",
    "#check it can be opened and json loaded\n",
    "with open(filename,'r',encoding='UTF-8') as f:\n",
    "    data = json.load(f)"
   ]
  },
  {
   "cell_type": "code",
   "execution_count": 7,
   "id": "9f856b27",
   "metadata": {},
   "outputs": [],
   "source": [
    "for task in data:\n",
    "    #we have multiple annotations per text in this setup\n",
    "    assert len(task['annotations']) > 1\n",
    "    #check that the task has been annotated by someone\n",
    "    assert task['annotations'][0]['completed_by'] > 0"
   ]
  },
  {
   "cell_type": "markdown",
   "id": "dc3d4f1e",
   "metadata": {},
   "source": [
    "## II. Create a labelling task for consolidating conflicting labellings\n",
    "\n",
    "* Create a labelling task where the first instances are inconsitent followed by consistent entries\n",
    "* So that a labeller can go from top to last inconsitency and be done with the task"
   ]
  },
  {
   "cell_type": "code",
   "execution_count": 36,
   "id": "c7fb97fd",
   "metadata": {},
   "outputs": [],
   "source": [
    "conflicting_tasks = []\n",
    "non_conflicting_tasks = []\n",
    "\n",
    "for task in data:\n",
    "    conflicting = False\n",
    "    choice = None\n",
    "    #todo check that this loop works correctly\n",
    "    for annotation in task['annotations']:\n",
    "        if 'choices' in annotation['result'][-1]['value']:\n",
    "            if choice is None:\n",
    "                choice = annotation['result'][-1]['value']['choices'][0]\n",
    "            elif annotation['result'][-1]['value']['choices'][0] != choice:\n",
    "                conflicting = True\n",
    "    if conflicting:\n",
    "        conflicting_tasks.append(task)\n",
    "    else:\n",
    "        non_conflicting_tasks.append(task)"
   ]
  },
  {
   "cell_type": "code",
   "execution_count": 24,
   "id": "6b001023",
   "metadata": {},
   "outputs": [],
   "source": [
    "new_tasks = []\n",
    "new_tasks.extend(conflicting_tasks)\n",
    "new_tasks.extend(non_conflicting_tasks)"
   ]
  },
  {
   "cell_type": "code",
   "execution_count": 28,
   "id": "26a08e8d",
   "metadata": {},
   "outputs": [],
   "source": [
    "with open('ls_task.json','w',encoding='UTF-8') as f:\n",
    "    f.write(json.dumps(new_tasks))"
   ]
  }
 ],
 "metadata": {
  "kernelspec": {
   "display_name": "Python 3",
   "language": "python",
   "name": "python3"
  },
  "language_info": {
   "codemirror_mode": {
    "name": "ipython",
    "version": 3
   },
   "file_extension": ".py",
   "mimetype": "text/x-python",
   "name": "python",
   "nbconvert_exporter": "python",
   "pygments_lexer": "ipython3",
   "version": "3.6.12"
  }
 },
 "nbformat": 4,
 "nbformat_minor": 5
}
