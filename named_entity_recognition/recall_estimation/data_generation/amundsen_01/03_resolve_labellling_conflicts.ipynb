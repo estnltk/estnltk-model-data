{
 "cells": [
  {
   "cell_type": "markdown",
   "id": "b7a651dd",
   "metadata": {},
   "source": [
    "# Workflow for establishing consolidated labelling\n",
    "\n",
    "* Explain what this workflow does\n",
    "* Explain what what one should do with output files "
   ]
  },
  {
   "cell_type": "markdown",
   "id": "ae49e6f1",
   "metadata": {},
   "source": [
    "**TODO:** remove these lines when the file is complete. It is not a goot stile in production code.  "
   ]
  },
  {
   "cell_type": "code",
   "execution_count": 118,
   "id": "f66c07bb",
   "metadata": {},
   "outputs": [
    {
     "name": "stdout",
     "output_type": "stream",
     "text": [
      "The autoreload extension is already loaded. To reload it, use:\n",
      "  %reload_ext autoreload\n"
     ]
    }
   ],
   "source": [
    "%load_ext autoreload\n",
    "%autoreload 2"
   ]
  },
  {
   "cell_type": "markdown",
   "id": "c2e432b2",
   "metadata": {},
   "source": [
    "## I. Consistency with the benchmark setup\n",
    "\n",
    "* Check that labellings are consitent with the benchmark setup\n",
    "* Check that labellings of different persons overlap in predicted way"
   ]
  },
  {
   "cell_type": "code",
   "execution_count": null,
   "id": "0dd474a6",
   "metadata": {},
   "outputs": [],
   "source": []
  },
  {
   "cell_type": "markdown",
   "id": "dc3d4f1e",
   "metadata": {},
   "source": [
    "## II. Create a labelling task for consolidating conflicting labellings\n",
    "\n",
    "* Create a labelling task where the first instances are inconsitent followed by consistent entries\n",
    "* So that a labeller can go from top to last inconsitency and be done with the task"
   ]
  },
  {
   "cell_type": "code",
   "execution_count": null,
   "id": "c7fb97fd",
   "metadata": {},
   "outputs": [],
   "source": []
  }
 ],
 "metadata": {
  "kernelspec": {
   "display_name": "Python 3 (ipykernel)",
   "language": "python",
   "name": "python3"
  },
  "language_info": {
   "codemirror_mode": {
    "name": "ipython",
    "version": 3
   },
   "file_extension": ".py",
   "mimetype": "text/x-python",
   "name": "python",
   "nbconvert_exporter": "python",
   "pygments_lexer": "ipython3",
   "version": "3.8.12"
  }
 },
 "nbformat": 4,
 "nbformat_minor": 5
}
