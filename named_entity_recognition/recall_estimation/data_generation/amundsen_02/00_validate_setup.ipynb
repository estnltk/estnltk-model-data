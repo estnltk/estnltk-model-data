{
 "cells": [
  {
   "cell_type": "markdown",
   "id": "3db8c161",
   "metadata": {},
   "source": [
    "# Various sanity checks "
   ]
  },
  {
   "cell_type": "markdown",
   "id": "675a1e5c",
   "metadata": {},
   "source": [
    "## I. Validate source collection"
   ]
  },
  {
   "cell_type": "code",
   "execution_count": 1,
   "id": "edbe4348",
   "metadata": {},
   "outputs": [],
   "source": [
    "#load config\n",
    "from helper_functions import load_configuration\n",
    "config = load_configuration('config/example_configuration.ini')"
   ]
  },
  {
   "cell_type": "code",
   "execution_count": 2,
   "id": "26c005db",
   "metadata": {},
   "outputs": [
    {
     "name": "stdout",
     "output_type": "stream",
     "text": [
      "INFO:storage.py:57: connecting to host: 'postgres.keeleressursid.ee', port: 5432, dbname: 'estonian-text-corpora', user: 'soras'\n",
      "INFO:storage.py:108: schema: 'estonian_text_corpora', temporary: False, role: 'estonian_text_corpora_read'\n"
     ]
    }
   ],
   "source": [
    "# check that we can connect\n",
    "from helper_functions import connect_to_database\n",
    "storage = connect_to_database(config)"
   ]
  },
  {
   "cell_type": "code",
   "execution_count": 3,
   "id": "5f6a6134",
   "metadata": {},
   "outputs": [],
   "source": [
    "# validate that the source collection has expected structure\n",
    "collection = config['source_database']['collection']\n",
    "collection = storage[collection]\n",
    "assert len(collection) == 21415543"
   ]
  },
  {
   "cell_type": "markdown",
   "id": "cb89615b",
   "metadata": {},
   "source": [
    "## II. Validate local database "
   ]
  },
  {
   "cell_type": "code",
   "execution_count": 4,
   "id": "19b05200",
   "metadata": {},
   "outputs": [],
   "source": [
    "#load config\n",
    "import os.path\n",
    "from helper_functions import load_local_configuration\n",
    "\n",
    "config = load_local_configuration('config/example_configuration.ini')\n",
    "download_url = 'https://s3.hpc.ut.ee/estnltk/auxiliary-data/ner_recall_estimation/data_generation/amundsen_02/geo_terms_pos_sample.db'\n",
    "\n",
    "if not os.path.exists(config['local_database']['sqlite_file']):\n",
    "    fname = config['local_database']['sqlite_file']\n",
    "    print(f'Local database sqlite_file file {fname!r} is missing. '+\\\n",
    "           'This is OK, if you want to repeat the whole process from the scratch. '+\\\n",
    "           'But if you want to repeat only sample selection part, you should download '+\\\n",
    "           f'the required database file from: {download_url}')"
   ]
  }
 ],
 "metadata": {
  "kernelspec": {
   "display_name": "Python 3 (ipykernel)",
   "language": "python",
   "name": "python3"
  },
  "language_info": {
   "codemirror_mode": {
    "name": "ipython",
    "version": 3
   },
   "file_extension": ".py",
   "mimetype": "text/x-python",
   "name": "python",
   "nbconvert_exporter": "python",
   "pygments_lexer": "ipython3",
   "version": "3.10.13"
  }
 },
 "nbformat": 4,
 "nbformat_minor": 5
}
