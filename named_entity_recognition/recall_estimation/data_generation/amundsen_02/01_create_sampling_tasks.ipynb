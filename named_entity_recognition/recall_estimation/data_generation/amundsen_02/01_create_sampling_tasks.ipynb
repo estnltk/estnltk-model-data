{
 "cells": [
  {
   "cell_type": "code",
   "execution_count": null,
   "id": "c58e00b5",
   "metadata": {},
   "outputs": [
    {
     "name": "stdout",
     "output_type": "stream",
     "text": [
      "INFO:storage.py:58: connecting to host: 'postgres.keeleressursid.ee', port: 5432, dbname: 'estonian-text-corpora', user: 'rasmusm'\n"
     ]
    }
   ],
   "source": [
    "from estnltk.storage.postgres import PostgresStorage\n",
    "import configparser\n",
    "import os\n",
    "\n",
    "config = configparser.ConfigParser()\n",
    "config_file = 'config\\example_configuration.ini'\n",
    "\n",
    "file_name = os.path.abspath(os.path.expanduser(os.path.expandvars(str(config_file))))\n",
    "config.read(file_name)\n",
    "\n",
    "dbname = config['source_database']['database']\n",
    "user = config['source_database']['username']\n",
    "password = config['source_database']['password']\n",
    "host = config['source_database']['host']\n",
    "port = config['source_database']['port']\n",
    "role = config['source_database']['role']\n",
    "schema = config['source_database']['schema']\n",
    "collection = config['source_database']['collection']\n",
    "\n",
    "\n",
    "storage = PostgresStorage(host=host,\n",
    "                          port=int(port),\n",
    "                          dbname=dbname,\n",
    "                          user=user,\n",
    "                          password=password,\n",
    "                          schema=schema,\n",
    "                          role=role,\n",
    "                          temporary=False)\n",
    "\n",
    "display(storage)\n",
    "\n",
    "collection = storage[collection]\n",
    "\n",
    "collection.selected_layers = ['v171_named_entities','v172_geo_terms']"
   ]
  },
  {
   "cell_type": "code",
   "execution_count": 3,
   "id": "e9e8cd9f",
   "metadata": {},
   "outputs": [],
   "source": [
    "terms = []\n",
    "with open('geo_terms.txt','r',encoding='UTF-8') as f:\n",
    "    term = f.readline()\n",
    "    while term is not '':\n",
    "        terms.append(term.strip())\n",
    "        term = f.readline()"
   ]
  },
  {
   "cell_type": "code",
   "execution_count": 45,
   "id": "476d10f7",
   "metadata": {},
   "outputs": [
    {
     "name": "stdout",
     "output_type": "stream",
     "text": [
      "INFO:storage.py:58: connecting to host: 'localhost', port: 5432, dbname: 'ner_test', user: 'postgres'\n",
      "INFO:storage.py:108: schema: 'my_schema', temporary: False, role: 'postgres'\n"
     ]
    }
   ],
   "source": [
    "# Second storage to keep the temporary lists used for sampling\n",
    "\n",
    "# load configuration\n",
    "\n",
    "import configparser\n",
    "import os\n",
    "\n",
    "config = configparser.ConfigParser()\n",
    "config_file = 'config\\example_configuration.ini'\n",
    "\n",
    "file_name = os.path.abspath(os.path.expanduser(os.path.expandvars(str(config_file))))\n",
    "\n",
    "if not os.path.exists(file_name):\n",
    "    raise ValueError(\"File {file} does not exist\".format(file=str(config_file)))\n",
    "\n",
    "if len(config.read(file_name)) != 1:\n",
    "    raise ValueError(\"File {file} is not accessible or is not in valid INI format\".format(file=config_file))\n",
    "\n",
    "for option in [\"host\", \"port\", \"database\", \"username\", \"password\", \"schema\", \"collection\"]:\n",
    "    if not config.has_option('target_database', option):\n",
    "        prelude = \"Error in file {}\\n\".format(file_name) if len(file_name) > 0 else \"\"\n",
    "        raise ValueError(\n",
    "            \"{prelude}Missing option {option} in the section [{section}]\".format(\n",
    "                prelude=prelude, option=option, section='target_database'\n",
    "            )\n",
    "        )\n",
    "\n",
    "config.read(file_name)\n",
    "\n",
    "# connect to database\n",
    "\n",
    "from estnltk.storage.postgres import PostgresStorage\n",
    "\n",
    "dbname = config['target_database']['database']\n",
    "user = config['target_database']['username']\n",
    "password = config['target_database']['password']\n",
    "host = config['target_database']['host']\n",
    "port = config['target_database']['port']\n",
    "schema = config['target_database']['schema']\n",
    "\n",
    "localstorage = PostgresStorage(host=host,\n",
    "                          port=int(port),\n",
    "                          dbname=dbname,\n",
    "                          user=user,\n",
    "                          password=password,\n",
    "                          schema=schema,\n",
    "                          role=None,\n",
    "                          temporary=False)"
   ]
  },
  {
   "cell_type": "code",
   "execution_count": 46,
   "id": "2c4e33c2",
   "metadata": {},
   "outputs": [],
   "source": [
    "from span_sampler import SpanSampler\n",
    "\n",
    "sampler = SpanSampler(storage=localstorage,collection=collection, layer='v172_geo_terms',attribute='partofspeech')"
   ]
  },
  {
   "cell_type": "code",
   "execution_count": 49,
   "id": "c1aaffb4",
   "metadata": {},
   "outputs": [],
   "source": [
    "from copy import copy\n",
    "from estnltk.converters.label_studio.label_studio import LabelStudioExporter\n",
    "\n",
    "for attribute in ('A','C','D','G','H','I','J','K','N','O','P','S','U','V','X','Y','Z'):\n",
    "    samples = sampler(count=1000,attribute=\"('\"+attribute+\"')\")\n",
    "\n",
    "    for text, sample_span in samples:\n",
    "        spanstart = sample_span[1]\n",
    "        spanend = sample_span[2]\n",
    "        for span in copy(text.v172_geo_terms.spans):\n",
    "            if span.start != spanstart and span.end != spanend:\n",
    "                text.v172_geo_terms.remove_span(span)\n",
    "    \n",
    "    exporter = LabelStudioExporter(\"pos_\"+attribute+\"_1000.json\",['v172_geo_terms'],checkbox=True)\n",
    "\n",
    "    only_texts = [sample[0] for sample in samples]\n",
    "\n",
    "    exporter.convert(only_texts,append=False)"
   ]
  },
  {
   "cell_type": "code",
   "execution_count": 60,
   "id": "293eb37e",
   "metadata": {},
   "outputs": [
    {
     "name": "stdout",
     "output_type": "stream",
     "text": [
      "\n",
      "        <View>\n",
      "            <Labels name=\"label\" toName=\"text\">\n",
      "\t<Label value=\"v172_geo_terms\" background=\"#2497B0\"/> \n",
      "\n",
      "            </Labels>\n",
      "        <Text name=\"text\" value=\"$text\"/>\n",
      "            \n",
      "            </View>\n"
     ]
    }
   ],
   "source": [
    "exporter = LabelStudioExporter(\"pos_\"+attribute+\"_1000.json\",['v172_geo_terms'],checkbox=True)\n",
    "print(exporter.interface_generator())"
   ]
  }
 ],
 "metadata": {
  "kernelspec": {
   "display_name": "Python 3",
   "language": "python",
   "name": "python3"
  },
  "language_info": {
   "codemirror_mode": {
    "name": "ipython",
    "version": 3
   },
   "file_extension": ".py",
   "mimetype": "text/x-python",
   "name": "python",
   "nbconvert_exporter": "python",
   "pygments_lexer": "ipython3",
   "version": "3.6.12"
  }
 },
 "nbformat": 4,
 "nbformat_minor": 5
}
