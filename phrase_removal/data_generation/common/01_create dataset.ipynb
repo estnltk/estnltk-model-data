{
 "cells": [
  {
   "cell_type": "code",
   "execution_count": 17,
   "id": "a22074dc",
   "metadata": {},
   "outputs": [],
   "source": [
    "import pandas as pd\n",
    "import re\n",
    "import os\n",
    "from copy import deepcopy"
   ]
  },
  {
   "cell_type": "markdown",
   "id": "26367d6f",
   "metadata": {},
   "source": [
    "### Original manually labeled sentences"
   ]
  },
  {
   "cell_type": "code",
   "execution_count": 2,
   "id": "4524a7c6",
   "metadata": {},
   "outputs": [],
   "source": [
    "root = r\".../UDpuupank/deprel_free_analysis/csv_files\"\n",
    "deprels = [\"acl\", \"advcl\", \"advmod\", \"appos\", \"det\", \"discourse\", \"nmod\", \"nummod\", \"obl\", \"vocative\"]"
   ]
  },
  {
   "cell_type": "code",
   "execution_count": 38,
   "id": "7e8616fa",
   "metadata": {},
   "outputs": [],
   "source": [
    "def create_benchmark(deprel, root):\n",
    "    #print(deprel)\n",
    "    free = pd.read_csv(os.path.join(root,f\"{deprel}_free.csv\"), sep=';', encoding='utf-8')\n",
    "    bound = pd.read_csv(os.path.join(root,f\"{deprel}_bound.csv\"), sep=';', encoding='utf-8')\n",
    "    # Sample 500 sentences from bound and free phrases\n",
    "    goal_num = 500\n",
    "    if len(free)>=goal_num and len(bound)>=goal_num:\n",
    "        free_samp = free.sample(n=goal_num, random_state=1).drop_duplicates(subset=['sentence', 'removed', 'short_sent'])\n",
    "        bound_samp = bound.sample(n=goal_num, random_state=2).drop_duplicates(subset=['sentence', 'removed', 'short_sent'])\n",
    "    elif len(free)>=goal_num and len(bound)<goal_num:\n",
    "        num = 2*goal_num-len(bound)\n",
    "        free_samp = free.sample(n=num, random_state=1).drop_duplicates(subset=['sentence', 'removed', 'short_sent'])\n",
    "        bound_samp = deepcopy(bound)\n",
    "    elif len(free)<goal_num and len(bound)>=goal_num:\n",
    "        num = 2*goal_num-len(free)\n",
    "        free_samp = deepcopy(free)\n",
    "        bound_samp = bound.sample(n=num, random_state=1).drop_duplicates(subset=['sentence', 'removed', 'short_sent'])\n",
    "    elif len(free)<goal_num and len(bound)<goal_num:\n",
    "        free_samp = deepcopy(free)\n",
    "        bound_samp = deepcopy(bound)\n",
    "        \n",
    "    samples = pd.concat([free_samp, bound_samp])\n",
    "    #print(len(samples), len(free), len(bound) )\n",
    "    #assert len(samples)==1000\n",
    "    \n",
    "    print(f\"{deprel}, free:{len(free_samp)}, bound:{len(bound_samp)}\")\n",
    "\n",
    "    samples.loc[samples['type'] == 'bound', 'removetype'] = \"no\"\n",
    "    samples.loc[samples['type'] == 'free', 'removetype'] = \"yes\"\n",
    "    \n",
    "    if len(samples)==2*goal_num:\n",
    "        samples.to_csv(f\"data/{deprel}_benchmark_{goal_num*2}.csv\", index=False, sep=\";\", encoding='utf-8')\n",
    "    else:\n",
    "        samples.to_csv(f\"data/{deprel}_benchmark_{len(samples)}.csv\", index=False, sep=\";\", encoding='utf-8')"
   ]
  },
  {
   "cell_type": "code",
   "execution_count": 39,
   "id": "32d7c1f8",
   "metadata": {},
   "outputs": [
    {
     "name": "stdout",
     "output_type": "stream",
     "text": [
      "acl, free:500, bound:500\n",
      "advcl, free:500, bound:500\n",
      "advmod, free:500, bound:500\n",
      "appos, free:500, bound:500\n",
      "det, free:500, bound:500\n",
      "discourse, free:98, bound:50\n",
      "nmod, free:500, bound:500\n",
      "nummod, free:364, bound:636\n",
      "obl, free:500, bound:500\n",
      "vocative, free:59, bound:21\n"
     ]
    }
   ],
   "source": [
    "for dep in deprels:\n",
    "    create_benchmark(dep, root)"
   ]
  }
 ],
 "metadata": {
  "kernelspec": {
   "display_name": "Python 3 (ipykernel)",
   "language": "python",
   "name": "python3"
  },
  "language_info": {
   "codemirror_mode": {
    "name": "ipython",
    "version": 3
   },
   "file_extension": ".py",
   "mimetype": "text/x-python",
   "name": "python",
   "nbconvert_exporter": "python",
   "pygments_lexer": "ipython3",
   "version": "3.9.13"
  }
 },
 "nbformat": 4,
 "nbformat_minor": 5
}
