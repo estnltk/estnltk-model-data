{
 "cells": [
  {
   "cell_type": "code",
   "execution_count": 1,
   "id": "b9873c04",
   "metadata": {},
   "outputs": [],
   "source": [
    "import pandas as pd\n",
    "from tqdm import tqdm"
   ]
  },
  {
   "cell_type": "code",
   "execution_count": 2,
   "id": "07e38f93",
   "metadata": {},
   "outputs": [],
   "source": [
    "def create_conll(deprel):\n",
    "    df = pd.read_csv(f\"data/{deprel}_benchmark_1000.csv\", sep=\";\", encoding=\"utf-8\")\n",
    "    \n",
    "    original_sents = []\n",
    "\n",
    "    for j in tqdm(range(len(df))):\n",
    "        file = df.iloc[j][\"fpath\"]\n",
    "        folder = file.split(\"/\")[0]\n",
    "\n",
    "        with open(f\".../UDpuupank/UD2_11_udreposse/{file}\") as f:\n",
    "            conll = f.readlines()\n",
    "\n",
    "        original_sent = df.iloc[j][\"sentence\"]\n",
    "        sent = df.iloc[j][\"sentence\"].replace(\" \", \"\")\n",
    "        important_data = []\n",
    "        # collect rows related to this sentence\n",
    "        start = False\n",
    "        for i, line in enumerate(conll):\n",
    "            line = line.strip()\n",
    "            mod_line = line.replace(\" \", \"\")\n",
    "            if start and not line.startswith(\"#\"):\n",
    "                important_data.append(line)\n",
    "            elif start and (line==\"\" or line.startswith(\"#\")):\n",
    "                break    \n",
    "            elif line.startswith(\"#\") and sent in mod_line:\n",
    "                start = True\n",
    "                bmid = df.iloc[j][\"id\"]\n",
    "                important_data.append(f\"# benchmark_id = {bmid}\")\n",
    "                important_data.append(conll[i-1].strip())\n",
    "                important_data.append(line)                  \n",
    "\n",
    "        # find lines with removed words\n",
    "        if len(important_data) != 0:\n",
    "            original_sents.append(important_data)\n",
    "    \n",
    "    print(deprel, len(original_sents))\n",
    "    with open(f\"data/{deprel}_benchmark_1000_original.conllu\", \"w\", encoding=\"utf-8\") as f:\n",
    "        for obj in original_sents:\n",
    "            for line in obj:\n",
    "                f.write(line)\n",
    "                f.write(\"\\n\")\n"
   ]
  },
  {
   "cell_type": "code",
   "execution_count": 3,
   "id": "55e69dc7",
   "metadata": {},
   "outputs": [],
   "source": [
    "deprels = [\"acl\", \"advcl\", \"advmod\", \"appos\", \"det\", \"nmod\", \"nummod\", \"obl\"] # \"discourse\", \"vocative\""
   ]
  },
  {
   "cell_type": "code",
   "execution_count": 4,
   "id": "113d9570",
   "metadata": {},
   "outputs": [
    {
     "name": "stderr",
     "output_type": "stream",
     "text": [
      "100%|██████████████████████████████████████| 1000/1000 [00:07<00:00, 125.07it/s]\n"
     ]
    },
    {
     "name": "stdout",
     "output_type": "stream",
     "text": [
      "acl 1000\n"
     ]
    },
    {
     "name": "stderr",
     "output_type": "stream",
     "text": [
      "100%|██████████████████████████████████████| 1000/1000 [00:07<00:00, 133.80it/s]\n"
     ]
    },
    {
     "name": "stdout",
     "output_type": "stream",
     "text": [
      "advcl 1000\n"
     ]
    },
    {
     "name": "stderr",
     "output_type": "stream",
     "text": [
      "100%|██████████████████████████████████████| 1000/1000 [00:07<00:00, 136.90it/s]\n"
     ]
    },
    {
     "name": "stdout",
     "output_type": "stream",
     "text": [
      "advmod 1000\n"
     ]
    },
    {
     "name": "stderr",
     "output_type": "stream",
     "text": [
      "100%|██████████████████████████████████████| 1000/1000 [00:07<00:00, 142.08it/s]\n"
     ]
    },
    {
     "name": "stdout",
     "output_type": "stream",
     "text": [
      "appos 1000\n"
     ]
    },
    {
     "name": "stderr",
     "output_type": "stream",
     "text": [
      "100%|██████████████████████████████████████| 1000/1000 [00:07<00:00, 137.99it/s]\n"
     ]
    },
    {
     "name": "stdout",
     "output_type": "stream",
     "text": [
      "det 1000\n"
     ]
    },
    {
     "name": "stderr",
     "output_type": "stream",
     "text": [
      "100%|██████████████████████████████████████| 1000/1000 [00:07<00:00, 135.39it/s]\n"
     ]
    },
    {
     "name": "stdout",
     "output_type": "stream",
     "text": [
      "nmod 1000\n"
     ]
    },
    {
     "name": "stderr",
     "output_type": "stream",
     "text": [
      "100%|██████████████████████████████████████| 1000/1000 [00:07<00:00, 134.53it/s]\n"
     ]
    },
    {
     "name": "stdout",
     "output_type": "stream",
     "text": [
      "nummod 1000\n"
     ]
    },
    {
     "name": "stderr",
     "output_type": "stream",
     "text": [
      "100%|██████████████████████████████████████| 1000/1000 [00:06<00:00, 144.44it/s]\n"
     ]
    },
    {
     "name": "stdout",
     "output_type": "stream",
     "text": [
      "obl 1000\n"
     ]
    }
   ],
   "source": [
    "for deprel in deprels:\n",
    "    create_conll(deprel)"
   ]
  },
  {
   "cell_type": "code",
   "execution_count": null,
   "id": "4829f403",
   "metadata": {},
   "outputs": [],
   "source": []
  },
  {
   "cell_type": "code",
   "execution_count": null,
   "id": "192a1b27",
   "metadata": {},
   "outputs": [],
   "source": []
  }
 ],
 "metadata": {
  "kernelspec": {
   "display_name": "Python 3 (ipykernel)",
   "language": "python",
   "name": "python3"
  },
  "language_info": {
   "codemirror_mode": {
    "name": "ipython",
    "version": 3
   },
   "file_extension": ".py",
   "mimetype": "text/x-python",
   "name": "python",
   "nbconvert_exporter": "python",
   "pygments_lexer": "ipython3",
   "version": "3.9.13"
  }
 },
 "nbformat": 4,
 "nbformat_minor": 5
}
