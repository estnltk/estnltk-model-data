{
 "cells": [
  {
   "cell_type": "markdown",
   "id": "6469e316",
   "metadata": {},
   "source": [
    "Mihkli annoteeritud, kõik (free, bound, unnatural, dubious jne)"
   ]
  },
  {
   "cell_type": "code",
   "execution_count": 1,
   "id": "e7508775",
   "metadata": {},
   "outputs": [],
   "source": [
    "import pandas as pd\n",
    "import os"
   ]
  },
  {
   "cell_type": "code",
   "execution_count": 2,
   "id": "6baa0611",
   "metadata": {},
   "outputs": [],
   "source": [
    "root = r\".../UDpuupank/deprel_free_analysis/csv_files\""
   ]
  },
  {
   "cell_type": "code",
   "execution_count": 3,
   "id": "18c3bc7f",
   "metadata": {},
   "outputs": [],
   "source": [
    "deprels = [\"acl\", \"advcl\", \"advmod\", \"appos\", \"det\", \"discourse\", \"nmod\", \"nummod\", \"obl\", \"vocative\"]"
   ]
  },
  {
   "cell_type": "code",
   "execution_count": 4,
   "id": "58f4a645",
   "metadata": {},
   "outputs": [
    {
     "name": "stdout",
     "output_type": "stream",
     "text": [
      "acl\n",
      "_bound.csv 1125\n",
      "_dubious.csv 1\n",
      "_free.csv 1566\n",
      "_redundant_comma.csv 29\n",
      "_redundant_punct.csv 5\n",
      "_unnatural.csv 28\n",
      "2754\n",
      "advcl\n",
      "_bound.csv 1149\n",
      "_dubious.csv 0\n",
      "_free.csv 1227\n",
      "_redundant_comma.csv 159\n",
      "_redundant_punct.csv 13\n",
      "_unnatural.csv 202\n",
      "2750\n",
      "advmod\n"
     ]
    },
    {
     "name": "stderr",
     "output_type": "stream",
     "text": [
      "/tmp/ipykernel_33763/2195723140.py:7: FutureWarning: The behavior of DataFrame concatenation with empty or all-NA entries is deprecated. In a future version, this will no longer exclude empty or all-NA columns when determining the result dtypes. To retain the old behavior, exclude the relevant entries before the concat operation.\n",
      "  df = pd.concat([df, dfx])\n",
      "/tmp/ipykernel_33763/2195723140.py:7: FutureWarning: The behavior of DataFrame concatenation with empty or all-NA entries is deprecated. In a future version, this will no longer exclude empty or all-NA columns when determining the result dtypes. To retain the old behavior, exclude the relevant entries before the concat operation.\n",
      "  df = pd.concat([df, dfx])\n"
     ]
    },
    {
     "name": "stdout",
     "output_type": "stream",
     "text": [
      "_bound.csv 585\n",
      "_dubious.csv 7\n",
      "_free.csv 1880\n",
      "_redundant_comma.csv 24\n",
      "_redundant_punct.csv 6\n",
      "_unnatural.csv 246\n",
      "2748\n",
      "appos\n",
      "_bound.csv 1566\n",
      "_dubious.csv 0\n",
      "_free.csv 1107\n",
      "_redundant_comma.csv 39\n",
      "_redundant_punct.csv 29\n",
      "_unnatural.csv 4\n",
      "2745\n",
      "det\n",
      "_bound.csv 1459\n",
      "_dubious.csv 3\n",
      "_free.csv 1247\n",
      "_redundant_comma.csv 14\n",
      "_redundant_punct.csv 0\n",
      "_unnatural.csv 37\n",
      "2760\n",
      "discourse\n",
      "_bound.csv 50\n",
      "_dubious.csv 0\n",
      "_free.csv 98\n",
      "_redundant_comma.csv 94\n",
      "_redundant_punct.csv 6\n",
      "_unnatural.csv 6\n",
      "254\n",
      "nmod\n",
      "_bound.csv 1804\n",
      "_dubious.csv 0\n",
      "_free.csv 920\n",
      "_redundant_comma.csv 8\n",
      "_redundant_punct.csv 1\n",
      "_unnatural.csv 8\n",
      "2741\n",
      "nummod\n",
      "_bound.csv 2359\n",
      "_dubious.csv 0\n",
      "_free.csv 364\n"
     ]
    },
    {
     "name": "stderr",
     "output_type": "stream",
     "text": [
      "/tmp/ipykernel_33763/2195723140.py:7: FutureWarning: The behavior of DataFrame concatenation with empty or all-NA entries is deprecated. In a future version, this will no longer exclude empty or all-NA columns when determining the result dtypes. To retain the old behavior, exclude the relevant entries before the concat operation.\n",
      "  df = pd.concat([df, dfx])\n",
      "/tmp/ipykernel_33763/2195723140.py:7: FutureWarning: The behavior of DataFrame concatenation with empty or all-NA entries is deprecated. In a future version, this will no longer exclude empty or all-NA columns when determining the result dtypes. To retain the old behavior, exclude the relevant entries before the concat operation.\n",
      "  df = pd.concat([df, dfx])\n",
      "/tmp/ipykernel_33763/2195723140.py:7: FutureWarning: The behavior of DataFrame concatenation with empty or all-NA entries is deprecated. In a future version, this will no longer exclude empty or all-NA columns when determining the result dtypes. To retain the old behavior, exclude the relevant entries before the concat operation.\n",
      "  df = pd.concat([df, dfx])\n",
      "/tmp/ipykernel_33763/2195723140.py:7: FutureWarning: The behavior of DataFrame concatenation with empty or all-NA entries is deprecated. In a future version, this will no longer exclude empty or all-NA columns when determining the result dtypes. To retain the old behavior, exclude the relevant entries before the concat operation.\n",
      "  df = pd.concat([df, dfx])\n"
     ]
    },
    {
     "name": "stdout",
     "output_type": "stream",
     "text": [
      "_redundant_comma.csv 10\n",
      "_redundant_punct.csv 2\n",
      "_unnatural.csv 5\n",
      "2740\n",
      "obl\n",
      "_bound.csv 1245\n",
      "_dubious.csv 24\n",
      "_free.csv 1199\n",
      "_redundant_comma.csv 20\n",
      "_redundant_punct.csv 0\n",
      "_unnatural.csv 256\n",
      "2744\n",
      "vocative\n",
      "_bound.csv 21\n",
      "_dubious.csv 0\n",
      "_free.csv 59\n",
      "_redundant_comma.csv 50\n",
      "_redundant_punct.csv 1\n",
      "_unnatural.csv 1\n",
      "132\n"
     ]
    },
    {
     "name": "stderr",
     "output_type": "stream",
     "text": [
      "/tmp/ipykernel_33763/2195723140.py:7: FutureWarning: The behavior of DataFrame concatenation with empty or all-NA entries is deprecated. In a future version, this will no longer exclude empty or all-NA columns when determining the result dtypes. To retain the old behavior, exclude the relevant entries before the concat operation.\n",
      "  df = pd.concat([df, dfx])\n",
      "/tmp/ipykernel_33763/2195723140.py:7: FutureWarning: The behavior of DataFrame concatenation with empty or all-NA entries is deprecated. In a future version, this will no longer exclude empty or all-NA columns when determining the result dtypes. To retain the old behavior, exclude the relevant entries before the concat operation.\n",
      "  df = pd.concat([df, dfx])\n"
     ]
    }
   ],
   "source": [
    "for deprel in deprels:\n",
    "    print(deprel)\n",
    "    df = pd.DataFrame()\n",
    "    for file in [\"_bound.csv\", \"_dubious.csv\", \"_free.csv\", \"_redundant_comma.csv\", \"_redundant_punct.csv\", \"_unnatural.csv\"]:\n",
    "        dfx = pd.read_csv(os.path.join(root,deprel+file), sep=\";\", encoding=\"utf-8\")\n",
    "        print(file, len(dfx))\n",
    "        df = pd.concat([df, dfx])\n",
    "    print(len(df))   \n",
    "    df.to_csv(f\"data/{deprel}_all_hand_annotated.csv\", sep=\";\", index = False, encoding = \"utf-8\")"
   ]
  },
  {
   "cell_type": "code",
   "execution_count": null,
   "id": "31571461",
   "metadata": {},
   "outputs": [],
   "source": []
  }
 ],
 "metadata": {
  "kernelspec": {
   "display_name": "Python 3 (ipykernel)",
   "language": "python",
   "name": "python3"
  },
  "language_info": {
   "codemirror_mode": {
    "name": "ipython",
    "version": 3
   },
   "file_extension": ".py",
   "mimetype": "text/x-python",
   "name": "python",
   "nbconvert_exporter": "python",
   "pygments_lexer": "ipython3",
   "version": "3.9.13"
  }
 },
 "nbformat": 4,
 "nbformat_minor": 5
}
